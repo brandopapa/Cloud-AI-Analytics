{
  "nbformat": 4,
  "nbformat_minor": 0,
  "metadata": {
    "colab": {
      "name": "Tutorial 3c_Updated – GroupBy, GroupByKey, CoGroupByKey and GroupIntoBatches Transform in Apache Beam.ipynb",
      "provenance": []
    },
    "kernelspec": {
      "name": "python3",
      "display_name": "Python 3"
    },
    "language_info": {
      "name": "python"
    }
  },
  "cells": [
    {
      "cell_type": "code",
      "execution_count": null,
      "metadata": {
        "id": "jXOk2bPjtrLN"
      },
      "outputs": [],
      "source": [
        "!pip3 install apache_beam"
      ]
    },
    {
      "cell_type": "code",
      "source": [
        "import apache_beam as beam"
      ],
      "metadata": {
        "id": "KvzvSpv9t1CG"
      },
      "execution_count": null,
      "outputs": []
    },
    {
      "cell_type": "markdown",
      "source": [
        "## **GroupBy**:\n",
        "\n",
        "*   Takes a collection of elements and produces a collection grouped, by properties of those elements.\n",
        "*   Unlike GroupByKey, the key is dynamically created from the elements themselves.\n",
        "\n",
        "\n",
        "\n"
      ],
      "metadata": {
        "id": "2WK4hZmt0Vbx"
      }
    },
    {
      "cell_type": "code",
      "source": [
        "with beam.Pipeline() as p:\n",
        "  grouped = (\n",
        "      p\n",
        "      | beam.Create(['strawberry', 'raspberry', 'blueberry', 'blackberry', 'banana'])\n",
        "      | beam.GroupBy(lambda s: s[0])\n",
        "      |beam.Map(print))"
      ],
      "metadata": {
        "id": "aA_mNhLz0D7s"
      },
      "execution_count": null,
      "outputs": []
    },
    {
      "cell_type": "markdown",
      "source": [
        "## **Aggregation:**"
      ],
      "metadata": {
        "id": "In0tpFd-p9Od"
      }
    },
    {
      "cell_type": "code",
      "source": [
        "CLOUD_LIST = [\n",
        "    beam.Row(account_id=\"01411F\", service_id=\"2062-016F\", service_description=\"Support\", cost=0.122116, usage_start_time=\"2024-08-24 14:00:00.000000 UTC\", usage_end_time=\"2024-08-24 15:00:00.000000 UTC\", export_time=\"2024-08-25 01:03:47.021696 UTC\"),\n",
        "    beam.Row(account_id=\"010FD9\", service_id=\"2062-016F\", service_description=\"Support\", cost=0.002986, usage_start_time=\"2024-08-21 00:00:00.000000 UTC\",usage_end_time=\"2024-08-21 01:00:00.000000 UTC\",export_time=\"2024-08-21 07:17:49.309164 UTC\"),\n",
        "    beam.Row(account_id=\"01411F\", service_id=\"4567-001A\", service_description=\"EC2\", cost=0.001945, usage_start_time=\"2024-08-28 17:00:00.000000 UTC\",usage_end_time=\"2024-08-28 18:00:00.000000 UTC\",export_time=\"2024-08-29 03:40:11.062982 UTC\"),\n",
        "    beam.Row(account_id=\"0123FE\", service_id=\"2062-016F\", service_description=\"Support\", cost=0.496863, usage_start_time=\"2024-08-01 01:00:00.000000 UTC\",usage_end_time=\"2024-08-01 02:00:00.000000 UTC\",export_time=\"2024-08-01 12:02:19.080977 UTC\"),\n",
        "    beam.Row(account_id=\"010FD9\", service_id=\"4567-001A\", service_description=\"EC2\", cost=0.522116, usage_start_time=\"2024-08-11 17:00:00.000000 UTC\",usage_end_time=\"2024-08-11 18:00:00.000000 UTC\",export_time=\"2024-08-12 02:12:45.602702 UTC\"),\n",
        "]"
      ],
      "metadata": {
        "id": "pFd3jel-a2Vq"
      },
      "execution_count": null,
      "outputs": []
    },
    {
      "cell_type": "markdown",
      "source": [],
      "metadata": {
        "id": "6NcPzdp5cIPW"
      }
    },
    {
      "cell_type": "code",
      "source": [
        "with beam.Pipeline() as p:\n",
        "  grouped = p | beam.Create(CLOUD_LIST) | beam.GroupBy('account_id') | beam.Map(print)"
      ],
      "metadata": {
        "id": "eQ67y9ARpik2"
      },
      "execution_count": null,
      "outputs": []
    },
    {
      "cell_type": "code",
      "source": [
        "with beam.Pipeline() as p:\n",
        "  grouped = (\n",
        "      p\n",
        "      | beam.Create(CLOUD_LIST)\n",
        "      | beam.GroupBy('service_description')\n",
        "      | beam.Map(lambda element: (element[0], len(element[1])))\n",
        "      | beam.Map(print)\n",
        "      ) #changed to count the number of recipes per fruit."
      ],
      "metadata": {
        "id": "vXsJ6UbgyqhT"
      },
      "execution_count": null,
      "outputs": []
    },
    {
      "cell_type": "code",
      "source": [
        "with beam.Pipeline() as p:\n",
        "  grouped = (\n",
        "      p\n",
        "      | beam.Create(CLOUD_LIST)\n",
        "      | beam.GroupBy('service_description')\n",
        "      | beam.Map(lambda element: (element[0], sum(r.cost for r in element[1]))) # Iterate through element[1] (rows) to calculate the sum of cost for each service_description.\n",
        "      | beam.Map(print)\n",
        "  )"
      ],
      "metadata": {
        "id": "cj3ONd2Bcy8w"
      },
      "execution_count": null,
      "outputs": []
    },
    {
      "cell_type": "code",
      "source": [
        "with beam.Pipeline() as p:\n",
        "  grouped = (\n",
        "      p\n",
        "      | beam.Create(CLOUD_LIST)\n",
        "      | beam.GroupBy('service_description')\n",
        "          .aggregate_field('cost', sum, 'total_cost')\n",
        "      | beam.Map(print))"
      ],
      "metadata": {
        "id": "QeoIqqq6pibC"
      },
      "execution_count": null,
      "outputs": []
    },
    {
      "cell_type": "code",
      "source": [
        "with beam.Pipeline() as p:\n",
        "  grouped = (\n",
        "      p\n",
        "      | beam.Create(CLOUD_LIST)\n",
        "      | beam.GroupBy('account_id')\n",
        "          .aggregate_field('cost', sum, 'total_cost')\n",
        "      | beam.Map(print))"
      ],
      "metadata": {
        "id": "RzAmnwZogHdf"
      },
      "execution_count": null,
      "outputs": []
    },
    {
      "cell_type": "markdown",
      "source": [
        "## **GroupByKey**:\n",
        "\n",
        "*   Takes a keyed collection of elements and produces a collection where each element consists of a key and all values associated with that key.\n",
        "\n"
      ],
      "metadata": {
        "id": "AsL6Qqcg0tpe"
      }
    },
    {
      "cell_type": "code",
      "source": [
        "records = [(\"vignesh\", [27, \"engineer\"]),\n",
        "(\"neethu\", [27, \"developer\"]),\n",
        "(\"farooqui\", [26, \"data analyst\"]),\n",
        "(\"sai\", [29, \"web developer\"]),\n",
        "(\"tinkle\", [28, \"fullstack developer\"]),\n",
        "(\"neethu\", 'Employed'),\n",
        "(\"sai\", 'Unemployed'),\n",
        "(\"tinkle\", 'Employed'),\n",
        "(\"farooqui\",'Employed'),\n",
        "(\"vignesh\", 'Unemployed')]"
      ],
      "metadata": {
        "id": "adpVmNex0EVU"
      },
      "execution_count": null,
      "outputs": []
    },
    {
      "cell_type": "code",
      "source": [
        "with beam.Pipeline() as pipeline:\n",
        "  produce_counts = (\n",
        "      pipeline\n",
        "      | 'Create produce counts' >> beam.Create(records)\n",
        "      | 'Group counts per produce' >> beam.GroupByKey()\n",
        "      | beam.Map(print))"
      ],
      "metadata": {
        "id": "Io9fy8Xc3DCT"
      },
      "execution_count": null,
      "outputs": []
    },
    {
      "cell_type": "markdown",
      "source": [
        "## **CoGroupByKey**:\n",
        "\n",
        "*   Aggregates all input elements by their key and allows downstream processing to consume all values associated with the key.\n",
        "*   While GroupByKey performs this operation over a single input collection and thus a single type of input values.\n",
        "*  CoGroupByKey operates over multiple input collections. As a result, the result for each key is a tuple of the values associated with that key in each input collection.\n",
        "\n"
      ],
      "metadata": {
        "id": "z0_P10IL06P3"
      }
    },
    {
      "cell_type": "code",
      "source": [
        "with beam.Pipeline() as pipeline:\n",
        "  student_pairs = pipeline | 'Create icons' >> beam.Create([\n",
        "      ('vignesh', 'bangalore'),\n",
        "      ('khaula', 'hyderabad'),\n",
        "      ('neethu', 'malapur'),\n",
        "      ('sai', 'chennai'),\n",
        "  ])\n",
        "\n",
        "  student_result = pipeline | 'Create durations' >> beam.Create([\n",
        "      ('vignesh', [15,\"FAIL\"]),\n",
        "      ('khaula', [99,\"PASS\"]),\n",
        "      ('neethu', [100,\"PASS\"]),\n",
        "      ('sai',[ 37,\"FAIL\"]),\n",
        "  ])\n",
        "\n",
        "  plants = (({\n",
        "      'icons': student_pairs, 'durations': student_result\n",
        "  })\n",
        "            | 'Merge' >> beam.CoGroupByKey()\n",
        "            | beam.Map(print))"
      ],
      "metadata": {
        "id": "O5qCg4TPARIy"
      },
      "execution_count": null,
      "outputs": []
    },
    {
      "cell_type": "code",
      "source": [
        "with beam.Pipeline() as pipeline:\n",
        "  student_pairs = pipeline | 'Create icons' >> beam.Create([\n",
        "      ('vignesh', 15),\n",
        "      ('khaula', 99),\n",
        "      ('neethu', 100),\n",
        "      ('sai', 37),\n",
        "  ])\n",
        "\n",
        "  student_result = pipeline | 'Create durations' >> beam.Create([\n",
        "      ('vignesh', \"FAIL\"),\n",
        "      ('khaula',\"PASS\"),\n",
        "      ('neethu',\"PASS\"),\n",
        "      ('sai', \"FAIL\"),\n",
        "  ])\n",
        "\n",
        "  plants = (({\n",
        "      'Marks': student_pairs, 'Result': student_result\n",
        "  })\n",
        "  | 'Merge' >> beam.CoGroupByKey()\n",
        "  | beam.Map(print))"
      ],
      "metadata": {
        "id": "UlJA3uyk0Ea4"
      },
      "execution_count": null,
      "outputs": []
    },
    {
      "cell_type": "markdown",
      "source": [
        "## **GroupIntoBatches**:\n",
        "\n",
        "\n",
        "\n",
        "*   Batches the input into desired batch size.\n",
        "\n"
      ],
      "metadata": {
        "id": "cUXfdFBa2GdQ"
      }
    },
    {
      "cell_type": "code",
      "source": [
        "with beam.Pipeline() as pipeline:\n",
        "  batches_with_keys = (\n",
        "      pipeline\n",
        "      | 'Create produce' >> beam.Create([\n",
        "          ('spring', '🍓'),\n",
        "          ('spring', '🥕'),\n",
        "          ('spring', '🍆'),\n",
        "          ('spring', '🍅'),\n",
        "          ('summer', '🥕'),\n",
        "          ('summer', '🍅'),\n",
        "          ('summer', '🌽'),\n",
        "          ('fall', '🥕'),\n",
        "          ('fall', '🍅'),\n",
        "          ('winter', '🍆'),\n",
        "      ])\n",
        "      | 'Group into batches' >> beam.GroupIntoBatches(4)  #3, #2\n",
        "      | beam.Map(print))"
      ],
      "metadata": {
        "id": "Cl2qa2In0Egh"
      },
      "execution_count": null,
      "outputs": []
    }
  ]
}