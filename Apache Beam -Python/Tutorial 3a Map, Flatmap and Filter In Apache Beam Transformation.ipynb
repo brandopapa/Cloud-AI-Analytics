{
  "nbformat": 4,
  "nbformat_minor": 0,
  "metadata": {
    "colab": {
      "name": "Tutorial-3a Map, Flatmap and Filter In Apache Beam Transformation.ipynb",
      "provenance": []
    },
    "kernelspec": {
      "name": "python3",
      "display_name": "Python 3"
    },
    "language_info": {
      "name": "python"
    }
  },
  "cells": [
    {
      "cell_type": "code",
      "execution_count": null,
      "metadata": {
        "id": "c8Og46-kOln_"
      },
      "outputs": [],
      "source": [
        "!pip3 install apache_beam"
      ]
    },
    {
      "cell_type": "code",
      "source": [
        "import apache_beam as beam"
      ],
      "metadata": {
        "id": "sI_Ae_OaOoqQ"
      },
      "execution_count": null,
      "outputs": []
    },
    {
      "cell_type": "markdown",
      "source": [
        "## Map\n",
        "\n",
        "•\tApplies a simple 1-to-1 mapping function over each element in the collection."
      ],
      "metadata": {
        "id": "tMIc8VWxdzIC"
      }
    },
    {
      "cell_type": "code",
      "source": [
        "def strip_header_and_newline(text):\n",
        "  return text.strip('# \\n')\n",
        "\n",
        "with beam.Pipeline() as pipeline:\n",
        "  plants = (\n",
        "      pipeline\n",
        "      | 'Gardening plants' >> beam.Create([\n",
        "          '# 🍓Strawberry\\n',\n",
        "          '# 🥕Carrot\\n',\n",
        "          '# 🍆Eggplant\\n',\n",
        "          '# 🍅Tomato\\n',\n",
        "          '# 🥔Potato\\n',\n",
        "      ])\n",
        "      | 'Strip header' >> beam.Map(strip_header_and_newline)\n",
        "      | beam.Map(print))"
      ],
      "metadata": {
        "id": "jU1dlwwKdSO3"
      },
      "execution_count": null,
      "outputs": []
    },
    {
      "cell_type": "markdown",
      "source": [
        "**MapTuple** for key-value pairs. If your PCollection consists of (key, value) pairs, you can use MapTuple to unpack them into different function arguments."
      ],
      "metadata": {
        "id": "zgKwQdc6domc"
      }
    },
    {
      "cell_type": "code",
      "source": [
        "# MapTuple for key-value pairs\n",
        "with beam.Pipeline() as pipeline:\n",
        "  plants = (\n",
        "      pipeline\n",
        "      | 'Gardening plants' >> beam.Create([\n",
        "          ('🍓', 'Strawberry'),\n",
        "          ('🥕', 'Carrot'),\n",
        "          ('🍆', 'Eggplant'),\n",
        "          ('🍅', 'Tomato'),\n",
        "          ('🥔', 'Potato'),\n",
        "      ])\n",
        "      | 'Format' >> beam.MapTuple(lambda icon, plant: '{}{}'.format(icon, plant))\n",
        "      | beam.Map(print))"
      ],
      "metadata": {
        "id": "eInNayW7OpU0"
      },
      "execution_count": null,
      "outputs": []
    },
    {
      "cell_type": "markdown",
      "source": [
        "## FlatMap\n",
        "\n",
        "•\tApplies a simple 1-to-many mapping function over each element in the collection. The many elements are flattened into the resulting collection."
      ],
      "metadata": {
        "id": "dEFskzd3d1fY"
      }
    },
    {
      "cell_type": "code",
      "source": [
        "def split_words(text):\n",
        "  return text.split(',')\n",
        "\n",
        "with beam.Pipeline() as pipeline:\n",
        "  plants = (\n",
        "      pipeline\n",
        "      | 'Gardening plants' >> beam.Create([\n",
        "          '🍓Strawberry,🥕Carrot,🍆Eggplant',\n",
        "          '🍅Tomato,🥔Potato',\n",
        "      ])\n",
        "      | 'Split words' >> beam.FlatMap(split_words)\n",
        "      | beam.Map(print))"
      ],
      "metadata": {
        "id": "AQqqjaNid61K"
      },
      "execution_count": null,
      "outputs": []
    },
    {
      "cell_type": "markdown",
      "source": [
        "**FlatMapTuple for key-value pairs**\n",
        "\n",
        "If your PCollection consists of (key, value) pairs, you can use FlatMapTuple to unpack them into different function arguments."
      ],
      "metadata": {
        "id": "7Eve8egteTUa"
      }
    },
    {
      "cell_type": "code",
      "source": [
        "def format_plant(icon, plant):\n",
        "  if icon:\n",
        "    yield '{}{}'.format(icon, plant)\n",
        "\n",
        "with beam.Pipeline() as pipeline:\n",
        "  plants = (\n",
        "      pipeline\n",
        "      | 'Gardening plants' >> beam.Create([\n",
        "          ('🍓', 'Strawberry'),\n",
        "          ('🥕', 'Carrot'),\n",
        "          ('🍆', 'Eggplant'),\n",
        "          ('🍅', 'Tomato'),\n",
        "          ('🥔', 'Potato'),\n",
        "          (None, 'Invalid'),\n",
        "      ])\n",
        "      | 'Format' >> beam.FlatMapTuple(format_plant)\n",
        "      | beam.Map(print))"
      ],
      "metadata": {
        "id": "P-UlWjx3d6qi"
      },
      "execution_count": null,
      "outputs": []
    },
    {
      "cell_type": "markdown",
      "source": [
        "## Filter\n",
        "\n",
        "Given a predicate, filter out all elements that don’t satisfy that predicate. May also be used to filter based on an inequality with a given value based on the comparison ordering of the element."
      ],
      "metadata": {
        "id": "T9nBR7Q_eor3"
      }
    },
    {
      "cell_type": "code",
      "source": [
        "def is_ec2(cdr):\n",
        "  return cdr['service.description'] == '4567-001A'\n",
        "\n",
        "with beam.Pipeline() as pipeline:\n",
        "  perennials = (\n",
        "      pipeline\n",
        "      | 'cloud_cdr' >> beam.Create([\n",
        "          {\n",
        "              'account_id': '01411F', 'service.id': '2062-016F', 'service.description': 'Support', \"cost\": \"0.122116\", \"usage_start_time\": \"2024-08-24 14:00:00.000000 UTC\", \"usage_end_time\": \"2024-08-24 15:00:00.000000 UTC\",\"export_time\": \"2024-08-25 01:03:47.021696 UTC\"\n",
        "          },\n",
        "          {\n",
        "              'account_id': '010FD9', 'service.id': '2062-016F', 'service.description': 'Support', \"cost\": \"0.002986\", \"usage_start_time\":\"2024-08-21 00:00:00.000000 UTC\",\"usage_end_time\":\"2024-08-21 01:00:00.000000 UTC\",\"export_time\":\"2024-08-21 07:17:49.309164 UTC\"\n",
        "          },\n",
        "          {\n",
        "              'account_id': '0111E8', 'service.id': '4567-001A', 'service.description': 'EC2', \"cost\": \"0.001945\", \"usage_start_time\":\"2024-08-28 17:00:00.000000 UTC\",\"usage_end_time\":\"2024-08-28 18:00:00.000000 UTC\",\"export_time\":\"2024-08-29 03:40:11.062982 UTC\"\n",
        "          },\n",
        "          {\n",
        "              'account_id': '0123FE', 'service.id': '2062-016F', 'service.description': 'Support', \"cost\": \"0.496863\", \"usage_start_time\":\"2024-08-01 01:00:00.000000 UTC\",\"usage_end_time\":\"2024-08-01 02:00:00.000000 UTC\",\"export_time\":\"2024-08-01 12:02:19.080977 UTC\"\n",
        "          },\n",
        "          {\n",
        "              'account_id': '01097B', 'service.id': '4567-001A', 'service.description': 'EC2', \"cost\": \"0.522116\", \"usage_start_time\":\"2024-08-11 17:00:00.000000 UTC\",\"usage_end_time\":\"2024-08-11 18:00:00.000000 UTC\",\"export_time\":\"2024-08-12 02:12:45.602702 UTC\"\n",
        "          },\n",
        "      ])\n",
        "      | 'Filter EC2' >> beam.Filter(is_ec2)\n",
        "      | beam.Map(print))"
      ],
      "metadata": {
        "id": "dR3p_OOYeskE"
      },
      "execution_count": null,
      "outputs": []
    },
    {
      "cell_type": "code",
      "source": [
        "#Filtering with multiple arguments\n",
        "\n",
        "def has_service(cdr, service):\n",
        "  return cdr['service.description'] == service\n",
        "\n",
        "with beam.Pipeline() as pipeline:\n",
        "  perennials = (\n",
        "      pipeline\n",
        "      | 'cloud_cdr' >> beam.Create([\n",
        "          {\n",
        "              'account_id': '01411F', 'service.id': '2062-016F', 'service.description': 'Support', \"cost\": \"0.122116\", \"usage_start_time\": \"2024-08-24 14:00:00.000000 UTC\", \"usage_end_time\": \"2024-08-24 15:00:00.000000 UTC\",\"export_time\": \"2024-08-25 01:03:47.021696 UTC\"\n",
        "          },\n",
        "          {\n",
        "              'account_id': '010FD9', 'service.id': '2062-016F', 'service.description': 'Support', \"cost\": \"0.002986\", \"usage_start_time\":\"2024-08-21 00:00:00.000000 UTC\",\"usage_end_time\":\"2024-08-21 01:00:00.000000 UTC\",\"export_time\":\"2024-08-21 07:17:49.309164 UTC\"\n",
        "          },\n",
        "          {\n",
        "              'account_id': '0111E8', 'service.id': '4567-001A', 'service.description': 'EC2', \"cost\": \"0.001945\", \"usage_start_time\":\"2024-08-28 17:00:00.000000 UTC\",\"usage_end_time\":\"2024-08-28 18:00:00.000000 UTC\",\"export_time\":\"2024-08-29 03:40:11.062982 UTC\"\n",
        "          },\n",
        "          {\n",
        "              'account_id': '0123FE', 'service.id': '2062-016F', 'service.description': 'Support', \"cost\": \"0.496863\", \"usage_start_time\":\"2024-08-01 01:00:00.000000 UTC\",\"usage_end_time\":\"2024-08-01 02:00:00.000000 UTC\",\"export_time\":\"2024-08-01 12:02:19.080977 UTC\"\n",
        "          },\n",
        "          {\n",
        "              'account_id': '01097B', 'service.id': '4567-001A', 'service.description': 'EC2', \"cost\": \"0.522116\", \"usage_start_time\":\"2024-08-11 17:00:00.000000 UTC\",\"usage_end_time\":\"2024-08-11 18:00:00.000000 UTC\",\"export_time\":\"2024-08-12 02:12:45.602702 UTC\"\n",
        "          },\n",
        "      ])\n",
        "      | 'Filter EC2' >> beam.Filter(has_service, 'EC2')\n",
        "      | beam.Map(print))"
      ],
      "metadata": {
        "id": "OlnF0WXFeseZ"
      },
      "execution_count": null,
      "outputs": []
    },
    {
      "cell_type": "code",
      "source": [
        "from google.colab import drive\n",
        "drive.mount('/content/drive')"
      ],
      "metadata": {
        "id": "t9xgz5ebZlln"
      },
      "execution_count": null,
      "outputs": []
    },
    {
      "cell_type": "code",
      "source": [
        "%cd drive/My\\ Drive/Colab\\ Notebooks/Cloud-AI-Analytics/Apache\\ Beam\\ -Python/data"
      ],
      "metadata": {
        "id": "pSl2T6n8ZwpZ"
      },
      "execution_count": null,
      "outputs": []
    },
    {
      "cell_type": "code",
      "source": [
        "!ls"
      ],
      "metadata": {
        "id": "9cTHvfa7OowB"
      },
      "execution_count": null,
      "outputs": []
    },
    {
      "cell_type": "code",
      "source": [
        "with beam.Pipeline() as pipeline:\n",
        "  students = (\n",
        "      pipeline\n",
        "      |\"Read from text\" >> beam.io.ReadFromText(\"cloud_export_100.txt\", skip_header_lines= True)\n",
        "      |\"spliting the record\" >> beam.Map(lambda record : record.split(','))\n",
        "      |\"filtering the data with PASS\" >> beam.Filter(lambda record : record[2]==\"Networking\")\n",
        "      |\"Write to text\" >> beam.io.WriteToText(\"result/networking\")\n",
        "  )\n"
      ],
      "metadata": {
        "id": "GcRmsFCZOpGL"
      },
      "execution_count": null,
      "outputs": []
    },
    {
      "cell_type": "code",
      "source": [
        "!ls ./result"
      ],
      "metadata": {
        "id": "AIh6bNadOpcV"
      },
      "execution_count": null,
      "outputs": []
    },
    {
      "cell_type": "code",
      "source": [
        "!{('head -n 10 result/networking-00000-of-00001')}"
      ],
      "metadata": {
        "id": "_t0Wwb9nOpjq"
      },
      "execution_count": null,
      "outputs": []
    }
  ]
}