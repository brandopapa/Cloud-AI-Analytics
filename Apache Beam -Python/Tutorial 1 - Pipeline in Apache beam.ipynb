{
  "nbformat": 4,
  "nbformat_minor": 0,
  "metadata": {
    "colab": {
      "name": "Pipeline_Apachebeam.ipynb",
      "provenance": [],
      "include_colab_link": true
    },
    "kernelspec": {
      "name": "python3",
      "display_name": "Python 3"
    },
    "language_info": {
      "name": "python"
    }
  },
  "cells": [
    {
      "cell_type": "markdown",
      "metadata": {
        "id": "view-in-github",
        "colab_type": "text"
      },
      "source": [
        "<a href=\"https://colab.research.google.com/github/brandopapa/Cloud-AI-Analytics/blob/running-onedrive/Apache%20Beam%20-Python/Tutorial%201%20-%20Pipeline%20in%20Apache%20beam.ipynb\" target=\"_parent\"><img src=\"https://colab.research.google.com/assets/colab-badge.svg\" alt=\"Open In Colab\"/></a>"
      ]
    },
    {
      "cell_type": "markdown",
      "source": [
        "## Pipeline In Apache Beam"
      ],
      "metadata": {
        "id": "bn662YcUFiJE"
      }
    },
    {
      "cell_type": "code",
      "source": [
        "from google.colab import drive\n",
        "drive.mount('/content/drive')"
      ],
      "metadata": {
        "id": "s2dYkPDvl80z"
      },
      "execution_count": null,
      "outputs": []
    },
    {
      "cell_type": "code",
      "source": [
        "%cd drive/My\\ Drive/Colab\\ Notebooks/"
      ],
      "metadata": {
        "id": "ke0pXNF2mHeg"
      },
      "execution_count": null,
      "outputs": []
    },
    {
      "cell_type": "code",
      "source": [
        "!git clone https://github.com/brandopapa/Cloud-AI-Analytics.git"
      ],
      "metadata": {
        "id": "AydFt0nFmMiE"
      },
      "execution_count": null,
      "outputs": []
    },
    {
      "cell_type": "code",
      "source": [
        "# prompt: %cd Cloud-AI-Analytics\n",
        "\n",
        "%cd /content/drive/MyDrive/Colab Notebooks/Cloud-AI-Analytics"
      ],
      "metadata": {
        "id": "NtcKUuVAmebD"
      },
      "execution_count": null,
      "outputs": []
    },
    {
      "cell_type": "code",
      "source": [
        "!git checkout running-onedrive"
      ],
      "metadata": {
        "id": "0ILeHIaJndtS"
      },
      "execution_count": null,
      "outputs": []
    },
    {
      "cell_type": "code",
      "source": [
        "%cd /content/drive/MyDrive/Colab Notebooks/Cloud-AI-Analytics/Apache\\ Beam\\ -Python/data"
      ],
      "metadata": {
        "id": "F15hcwnQnvt0"
      },
      "execution_count": null,
      "outputs": []
    },
    {
      "cell_type": "code",
      "source": [
        "!ls"
      ],
      "metadata": {
        "id": "xIKYbZFuoGj4"
      },
      "execution_count": null,
      "outputs": []
    },
    {
      "cell_type": "code",
      "source": [
        "!pip3 install apache_beam"
      ],
      "metadata": {
        "id": "Ef-SwQ9SAkLH"
      },
      "execution_count": null,
      "outputs": []
    },
    {
      "cell_type": "code",
      "source": [
        "#importing library\n",
        "import apache_beam as beam"
      ],
      "metadata": {
        "id": "2VYSVigp_gfx"
      },
      "execution_count": null,
      "outputs": []
    },
    {
      "cell_type": "code",
      "source": [
        "def is_ec2(cdr):\n",
        "  return cdr['service.id'] == '4567-001A'\n",
        "\n",
        "with beam.Pipeline() as pipeline:\n",
        "  perennials = (\n",
        "      pipeline\n",
        "      | 'cloud_cdr' >> beam.Create([\n",
        "          {\n",
        "              'account_id': '01411F', 'service.id': '2062-016F', 'service.description': 'Support', \"cost\": \"0.122116\", \"usage_start_time\": \"2024-08-24 14:00:00.000000 UTC\", \"usage_end_time\": \"2024-08-24 15:00:00.000000 UTC\",\"export_time\": \"2024-08-25 01:03:47.021696 UTC\"\n",
        "          },\n",
        "          {\n",
        "              'account_id': '010FD9', 'service.id': '2062-016F', 'service.description': 'Support', \"cost\": \"0.002986\", \"usage_start_time\":\"2024-08-21 00:00:00.000000 UTC\",\"usage_end_time\":\"2024-08-21 01:00:00.000000 UTC\",\"export_time\":\"2024-08-21 07:17:49.309164 UTC\"\n",
        "          },\n",
        "          {\n",
        "              'account_id': '0111E8', 'service.id': '4567-001A', 'service.description': 'EC2', \"cost\": \"0.001945\", \"usage_start_time\":\"2024-08-28 17:00:00.000000 UTC\",\"usage_end_time\":\"2024-08-28 18:00:00.000000 UTC\",\"export_time\":\"2024-08-29 03:40:11.062982 UTC\"\n",
        "          },\n",
        "          {\n",
        "              'account_id': '0123FE', 'service.id': '2062-016F', 'service.description': 'Support', \"cost\": \"0.496863\", \"usage_start_time\":\"2024-08-01 01:00:00.000000 UTC\",\"usage_end_time\":\"2024-08-01 02:00:00.000000 UTC\",\"export_time\":\"2024-08-01 12:02:19.080977 UTC\"\n",
        "          },\n",
        "          {\n",
        "              'account_id': '01097B', 'service.id': '4567-001A', 'service.description': 'EC2', \"cost\": \"0.522116\", \"usage_start_time\":\"2024-08-11 17:00:00.000000 UTC\",\"usage_end_time\":\"2024-08-11 18:00:00.000000 UTC\",\"export_time\":\"2024-08-12 02:12:45.602702 UTC\"\n",
        "          },\n",
        "      ])\n",
        "      | 'Filter EC2' >> beam.Filter(is_ec2)\n",
        "      | beam.Map(print))"
      ],
      "metadata": {
        "id": "9uX0jtm7B374"
      },
      "execution_count": null,
      "outputs": []
    },
    {
      "cell_type": "code",
      "source": [
        "def is_cloud_support(cdr):\n",
        "  return cdr[2] == 'Support'\n",
        "\n",
        "#from external resources\n",
        "p2 = beam.Pipeline()\n",
        "\n",
        "cdr = (p2\n",
        "           | \"Read from Text\" >> beam.io.ReadFromText(\"cloud_export.txt\", skip_header_lines=1)\n",
        "           | \"split the record\" >> beam.Map(lambda record: record.split(','))\n",
        "           | 'Filter regular' >> beam.Filter(is_cloud_support)\n",
        "           | 'Write to text'>> beam.io.WriteToText('regular_filter.txt'))  #| beam.Map(print))\n",
        "\n",
        "p2.run()"
      ],
      "metadata": {
        "id": "X1bPu9H9_O01"
      },
      "execution_count": null,
      "outputs": []
    },
    {
      "cell_type": "code",
      "source": [
        "!ls"
      ],
      "metadata": {
        "id": "KKLyG3-jLR2Z"
      },
      "execution_count": null,
      "outputs": []
    },
    {
      "cell_type": "code",
      "source": [
        "!cat regular_filter.txt-00000-of-00001"
      ],
      "metadata": {
        "id": "ZDSa7r2hLUad"
      },
      "execution_count": null,
      "outputs": []
    }
  ]
}