{
  "cells": [
    {
      "cell_type": "code",
      "source": [
        "!pip install --upgrade pip"
      ],
      "metadata": {
        "id": "YwPNqPz12RtD",
        "outputId": "cc79482c-343c-4151-e782-a7b38e13dca0",
        "colab": {
          "base_uri": "https://localhost:8080/"
        }
      },
      "execution_count": 1,
      "outputs": [
        {
          "output_type": "stream",
          "name": "stdout",
          "text": [
            "Requirement already satisfied: pip in /usr/local/lib/python3.10/dist-packages (24.1.2)\n",
            "Collecting pip\n",
            "  Downloading pip-24.3.1-py3-none-any.whl.metadata (3.7 kB)\n",
            "Downloading pip-24.3.1-py3-none-any.whl (1.8 MB)\n",
            "\u001b[2K   \u001b[90m━━━━━━━━━━━━━━━━━━━━━━━━━━━━━━━━━━━━━━━━\u001b[0m \u001b[32m1.8/1.8 MB\u001b[0m \u001b[31m13.1 MB/s\u001b[0m eta \u001b[36m0:00:00\u001b[0m\n",
            "\u001b[?25hInstalling collected packages: pip\n",
            "  Attempting uninstall: pip\n",
            "    Found existing installation: pip 24.1.2\n",
            "    Uninstalling pip-24.1.2:\n",
            "      Successfully uninstalled pip-24.1.2\n",
            "Successfully installed pip-24.3.1\n"
          ]
        }
      ]
    },
    {
      "cell_type": "code",
      "execution_count": 3,
      "metadata": {
        "colab": {
          "base_uri": "https://localhost:8080/"
        },
        "id": "KP_3gIHJjfs6",
        "outputId": "03675cea-4bb1-4d7b-b38c-ed7382eea81f"
      },
      "outputs": [
        {
          "output_type": "stream",
          "name": "stdout",
          "text": [
            "Requirement already satisfied: apache_beam==2.60.0 in /usr/local/lib/python3.10/dist-packages (2.60.0)\n",
            "Requirement already satisfied: crcmod<2.0,>=1.7 in /usr/local/lib/python3.10/dist-packages (from apache_beam==2.60.0) (1.7)\n",
            "Requirement already satisfied: orjson<4,>=3.9.7 in /usr/local/lib/python3.10/dist-packages (from apache_beam==2.60.0) (3.10.10)\n",
            "Requirement already satisfied: dill<0.3.2,>=0.3.1.1 in /usr/local/lib/python3.10/dist-packages (from apache_beam==2.60.0) (0.3.1.1)\n",
            "Requirement already satisfied: cloudpickle~=2.2.1 in /usr/local/lib/python3.10/dist-packages (from apache_beam==2.60.0) (2.2.1)\n",
            "Requirement already satisfied: fastavro<2,>=0.23.6 in /usr/local/lib/python3.10/dist-packages (from apache_beam==2.60.0) (1.9.7)\n",
            "Requirement already satisfied: fasteners<1.0,>=0.3 in /usr/local/lib/python3.10/dist-packages (from apache_beam==2.60.0) (0.19)\n",
            "Requirement already satisfied: grpcio!=1.48.0,!=1.59.*,!=1.60.*,!=1.61.*,!=1.62.0,!=1.62.1,<1.66.0,<2,>=1.33.1 in /usr/local/lib/python3.10/dist-packages (from apache_beam==2.60.0) (1.64.1)\n",
            "Requirement already satisfied: hdfs<3.0.0,>=2.1.0 in /usr/local/lib/python3.10/dist-packages (from apache_beam==2.60.0) (2.7.3)\n",
            "Requirement already satisfied: httplib2<0.23.0,>=0.8 in /usr/local/lib/python3.10/dist-packages (from apache_beam==2.60.0) (0.22.0)\n",
            "Requirement already satisfied: jsonschema<5.0.0,>=4.0.0 in /usr/local/lib/python3.10/dist-packages (from apache_beam==2.60.0) (4.23.0)\n",
            "Requirement already satisfied: jsonpickle<4.0.0,>=3.0.0 in /usr/local/lib/python3.10/dist-packages (from apache_beam==2.60.0) (3.3.0)\n",
            "Requirement already satisfied: numpy<1.27.0,>=1.14.3 in /usr/local/lib/python3.10/dist-packages (from apache_beam==2.60.0) (1.26.4)\n",
            "Requirement already satisfied: objsize<0.8.0,>=0.6.1 in /usr/local/lib/python3.10/dist-packages (from apache_beam==2.60.0) (0.7.0)\n",
            "Requirement already satisfied: packaging>=22.0 in /usr/local/lib/python3.10/dist-packages (from apache_beam==2.60.0) (24.1)\n",
            "Requirement already satisfied: pymongo<5.0.0,>=3.8.0 in /usr/local/lib/python3.10/dist-packages (from apache_beam==2.60.0) (4.10.1)\n",
            "Requirement already satisfied: proto-plus<2,>=1.7.1 in /usr/local/lib/python3.10/dist-packages (from apache_beam==2.60.0) (1.25.0)\n",
            "Requirement already satisfied: protobuf!=4.0.*,!=4.21.*,!=4.22.0,!=4.23.*,!=4.24.*,<4.26.0,>=3.20.3 in /usr/local/lib/python3.10/dist-packages (from apache_beam==2.60.0) (3.20.3)\n",
            "Requirement already satisfied: pydot<2,>=1.2.0 in /usr/local/lib/python3.10/dist-packages (from apache_beam==2.60.0) (1.4.2)\n",
            "Requirement already satisfied: python-dateutil<3,>=2.8.0 in /usr/local/lib/python3.10/dist-packages (from apache_beam==2.60.0) (2.8.2)\n",
            "Requirement already satisfied: pytz>=2018.3 in /usr/local/lib/python3.10/dist-packages (from apache_beam==2.60.0) (2024.2)\n",
            "Requirement already satisfied: redis<6,>=5.0.0 in /usr/local/lib/python3.10/dist-packages (from apache_beam==2.60.0) (5.2.0)\n",
            "Requirement already satisfied: regex>=2020.6.8 in /usr/local/lib/python3.10/dist-packages (from apache_beam==2.60.0) (2024.9.11)\n",
            "Requirement already satisfied: requests<3.0.0,>=2.24.0 in /usr/local/lib/python3.10/dist-packages (from apache_beam==2.60.0) (2.32.3)\n",
            "Requirement already satisfied: typing-extensions>=3.7.0 in /usr/local/lib/python3.10/dist-packages (from apache_beam==2.60.0) (4.12.2)\n",
            "Requirement already satisfied: zstandard<1,>=0.18.0 in /usr/local/lib/python3.10/dist-packages (from apache_beam==2.60.0) (0.23.0)\n",
            "Requirement already satisfied: pyarrow<17.0.0,>=3.0.0 in /usr/local/lib/python3.10/dist-packages (from apache_beam==2.60.0) (16.1.0)\n",
            "Requirement already satisfied: pyarrow-hotfix<1 in /usr/local/lib/python3.10/dist-packages (from apache_beam==2.60.0) (0.6)\n",
            "Requirement already satisfied: docopt in /usr/local/lib/python3.10/dist-packages (from hdfs<3.0.0,>=2.1.0->apache_beam==2.60.0) (0.6.2)\n",
            "Requirement already satisfied: six>=1.9.0 in /usr/local/lib/python3.10/dist-packages (from hdfs<3.0.0,>=2.1.0->apache_beam==2.60.0) (1.16.0)\n",
            "Requirement already satisfied: pyparsing!=3.0.0,!=3.0.1,!=3.0.2,!=3.0.3,<4,>=2.4.2 in /usr/local/lib/python3.10/dist-packages (from httplib2<0.23.0,>=0.8->apache_beam==2.60.0) (3.2.0)\n",
            "Requirement already satisfied: attrs>=22.2.0 in /usr/local/lib/python3.10/dist-packages (from jsonschema<5.0.0,>=4.0.0->apache_beam==2.60.0) (24.2.0)\n",
            "Requirement already satisfied: jsonschema-specifications>=2023.03.6 in /usr/local/lib/python3.10/dist-packages (from jsonschema<5.0.0,>=4.0.0->apache_beam==2.60.0) (2024.10.1)\n",
            "Requirement already satisfied: referencing>=0.28.4 in /usr/local/lib/python3.10/dist-packages (from jsonschema<5.0.0,>=4.0.0->apache_beam==2.60.0) (0.35.1)\n",
            "Requirement already satisfied: rpds-py>=0.7.1 in /usr/local/lib/python3.10/dist-packages (from jsonschema<5.0.0,>=4.0.0->apache_beam==2.60.0) (0.20.0)\n",
            "Requirement already satisfied: dnspython<3.0.0,>=1.16.0 in /usr/local/lib/python3.10/dist-packages (from pymongo<5.0.0,>=3.8.0->apache_beam==2.60.0) (2.7.0)\n",
            "Requirement already satisfied: async-timeout>=4.0.3 in /usr/local/lib/python3.10/dist-packages (from redis<6,>=5.0.0->apache_beam==2.60.0) (4.0.3)\n",
            "Requirement already satisfied: charset-normalizer<4,>=2 in /usr/local/lib/python3.10/dist-packages (from requests<3.0.0,>=2.24.0->apache_beam==2.60.0) (3.4.0)\n",
            "Requirement already satisfied: idna<4,>=2.5 in /usr/local/lib/python3.10/dist-packages (from requests<3.0.0,>=2.24.0->apache_beam==2.60.0) (3.10)\n",
            "Requirement already satisfied: urllib3<3,>=1.21.1 in /usr/local/lib/python3.10/dist-packages (from requests<3.0.0,>=2.24.0->apache_beam==2.60.0) (2.2.3)\n",
            "Requirement already satisfied: certifi>=2017.4.17 in /usr/local/lib/python3.10/dist-packages (from requests<3.0.0,>=2.24.0->apache_beam==2.60.0) (2024.8.30)\n"
          ]
        }
      ],
      "source": [
        "!pip install apache_beam==2.60.0"
      ]
    },
    {
      "cell_type": "code",
      "source": [
        "import apache_beam as beam\n",
        "import time"
      ],
      "metadata": {
        "id": "JO9ApQlc3Tvh"
      },
      "execution_count": 4,
      "outputs": []
    },
    {
      "cell_type": "markdown",
      "source": [
        "## **Latest:**\n",
        "\n",
        "* \tGets the element with the latest timestamp.\n",
        "*  we create a pipeline with a PCollection of produce with a timestamp for their harvest date. We use Latest to get the element with the latest timestamp from the PCollection.\n"
      ],
      "metadata": {
        "id": "FU8gAiIc2nCT"
      }
    },
    {
      "cell_type": "code",
      "execution_count": 6,
      "metadata": {
        "id": "d3wjCgK3jfxK",
        "colab": {
          "base_uri": "https://localhost:8080/"
        },
        "outputId": "d60a999f-59db-4f3f-9362-fb7f7e54b721"
      },
      "outputs": [
        {
          "output_type": "stream",
          "name": "stdout",
          "text": [
            "🍆\n"
          ]
        }
      ],
      "source": [
        "def to_unix_time(time_str, format='%Y-%m-%d %H:%M:%S'):\n",
        "  return time.mktime(time.strptime(time_str, format))\n",
        "\n",
        "with beam.Pipeline() as pipeline:\n",
        "  latest_element = (\n",
        "      pipeline\n",
        "      | 'Create crops' >> beam.Create([\n",
        "          {\n",
        "              'item': '🥬', 'harvest': '2020-02-24 00:00:00'\n",
        "          },\n",
        "          {\n",
        "              'item': '🍓', 'harvest': '2020-06-16 00:00:00'\n",
        "          },\n",
        "          {\n",
        "              'item': '🥕', 'harvest': '2020-07-17 00:00:00'\n",
        "          },\n",
        "          {\n",
        "              'item': '🍆', 'harvest': '2020-10-26 00:00:00'\n",
        "          },\n",
        "          {\n",
        "              'item': '🍅', 'harvest': '2020-10-01 00:00:00'\n",
        "          },\n",
        "      ])\n",
        "      | 'With timestamps' >> beam.Map(\n",
        "          lambda crop: beam.window.TimestampedValue(\n",
        "              crop['item'], to_unix_time(crop['harvest'])))\n",
        "      | 'Get latest element' >> beam.combiners.Latest.Globally()\n",
        "      | beam.Map(print))"
      ]
    },
    {
      "cell_type": "code",
      "execution_count": 7,
      "metadata": {
        "id": "gn3UPRaXjf1c",
        "outputId": "4472db77-48ac-404b-81bb-ddac0e6c5bba",
        "colab": {
          "base_uri": "https://localhost:8080/"
        }
      },
      "outputs": [
        {
          "output_type": "stream",
          "name": "stdout",
          "text": [
            "('spring', '🥕')\n",
            "('summer', '🍅')\n",
            "('autumn', '🍆')\n",
            "('winter', '🥬')\n"
          ]
        }
      ],
      "source": [
        "def to_unix_time(time_str, format='%Y-%m-%d %H:%M:%S'):\n",
        "  return time.mktime(time.strptime(time_str, format))\n",
        "\n",
        "with beam.Pipeline() as pipeline:\n",
        "  latest_elements_per_key = (\n",
        "      pipeline\n",
        "      | 'Create crops' >> beam.Create([\n",
        "          ('spring', {\n",
        "              'item': '🥕', 'harvest': '2020-06-28 00:00:00'\n",
        "          }),\n",
        "          ('spring', {\n",
        "              'item': '🍓', 'harvest': '2020-06-16 00:00:00'\n",
        "          }),\n",
        "          ('summer', {\n",
        "              'item': '🥕', 'harvest': '2020-07-17 00:00:00'\n",
        "          }),\n",
        "          ('summer', {\n",
        "              'item': '🍓', 'harvest': '2020-08-26 00:00:00'\n",
        "          }),\n",
        "          ('summer', {\n",
        "              'item': '🍆', 'harvest': '2020-09-04 00:00:00'\n",
        "          }),\n",
        "          ('summer', {\n",
        "              'item': '🥬', 'harvest': '2020-09-18 00:00:00'\n",
        "          }),\n",
        "          ('summer', {\n",
        "              'item': '🍅', 'harvest': '2020-09-22 00:00:00'\n",
        "          }),\n",
        "          ('autumn', {\n",
        "              'item': '🍅', 'harvest': '2020-10-01 00:00:00'\n",
        "          }),\n",
        "          ('autumn', {\n",
        "              'item': '🥬', 'harvest': '2020-10-20 00:00:00'\n",
        "          }),\n",
        "          ('autumn', {\n",
        "              'item': '🍆', 'harvest': '2020-10-26 00:00:00'\n",
        "          }),\n",
        "          ('winter', {\n",
        "              'item': '🥬', 'harvest': '2020-02-24 00:00:00'\n",
        "          }),\n",
        "      ])\n",
        "      | 'With timestamps' >> beam.Map(\n",
        "          lambda pair: beam.window.TimestampedValue(\n",
        "              (pair[0], pair[1]['item']), to_unix_time(pair[1]['harvest'])))\n",
        "      | 'Get latest elements per key' >> beam.combiners.Latest.PerKey()\n",
        "      | beam.Map(print))"
      ]
    },
    {
      "cell_type": "markdown",
      "source": [
        "## **Max:**\n",
        "\n",
        "*\tGets the element with the maximum value within each aggregation.\n",
        "* we create a pipeline with a PCollection. Then, we get the element with the maximum value in different ways.\n",
        "\n",
        "\n"
      ],
      "metadata": {
        "id": "NPyrXXe62sDh"
      }
    },
    {
      "cell_type": "code",
      "execution_count": 8,
      "metadata": {
        "id": "pIZB6XWLjf-D",
        "outputId": "5b9f9798-9da2-4ff7-a2c4-e24611cc362b",
        "colab": {
          "base_uri": "https://localhost:8080/"
        }
      },
      "outputs": [
        {
          "output_type": "stream",
          "name": "stdout",
          "text": [
            "4\n"
          ]
        }
      ],
      "source": [
        "with beam.Pipeline() as pipeline:\n",
        "  max_element = (\n",
        "      pipeline\n",
        "      | 'Create numbers' >> beam.Create([3, 4, 1, 2])\n",
        "      | 'Get max value' >>\n",
        "      beam.CombineGlobally(lambda elements: max(elements or [None]))\n",
        "      | beam.Map(print))"
      ]
    },
    {
      "cell_type": "markdown",
      "source": [
        "Combine.PerKey() to get the maximum element for each unique key in a PCollection of key-values."
      ],
      "metadata": {
        "id": "b4194sWa4rwt"
      }
    },
    {
      "cell_type": "code",
      "execution_count": 9,
      "metadata": {
        "id": "h475BjQQjgCa",
        "outputId": "923c43ce-e3cf-4b4d-f319-49a01778963b",
        "colab": {
          "base_uri": "https://localhost:8080/"
        }
      },
      "outputs": [
        {
          "output_type": "stream",
          "name": "stdout",
          "text": [
            "('🥕', 3)\n",
            "('🍆', 1)\n",
            "('🍅', 5)\n"
          ]
        }
      ],
      "source": [
        "with beam.Pipeline() as pipeline:\n",
        "  elements_with_max_value_per_key = (\n",
        "      pipeline\n",
        "      | 'Create produce' >> beam.Create([\n",
        "          ('🥕', 3),\n",
        "          ('🥕', 2),\n",
        "          ('🍆', 1),\n",
        "          ('🍅', 4),\n",
        "          ('🍅', 5),\n",
        "          ('🍅', 3),\n",
        "      ])\n",
        "      | 'Get max value per key' >> beam.CombinePerKey(max)\n",
        "      | beam.Map(print))"
      ]
    },
    {
      "cell_type": "markdown",
      "source": [
        "## **Min:**\n",
        "\n",
        "*\tGets the element with the minimum value within each aggregation.\n",
        "* we create a pipeline with a PCollection. Then, we get the element with the minimum value in different ways.\n",
        "\n",
        "\n"
      ],
      "metadata": {
        "id": "nJr8k_X72uij"
      }
    },
    {
      "cell_type": "code",
      "execution_count": 10,
      "metadata": {
        "id": "txAFLXitjgGk",
        "colab": {
          "base_uri": "https://localhost:8080/"
        },
        "outputId": "fe4ec66a-db39-4818-e9be-aa67836eb56c"
      },
      "outputs": [
        {
          "output_type": "stream",
          "name": "stdout",
          "text": [
            "1\n"
          ]
        }
      ],
      "source": [
        "with beam.Pipeline() as pipeline:\n",
        "  min_element = (\n",
        "      pipeline\n",
        "      | 'Create numbers' >> beam.Create([3, 4, 1, 2])\n",
        "      | 'Get min value' >>\n",
        "      beam.CombineGlobally(lambda elements: min(elements or [-1]))\n",
        "      | beam.Map(print))"
      ]
    },
    {
      "cell_type": "markdown",
      "source": [
        "Combine.PerKey() to get the minimum element for each unique key in a PCollection of key-values."
      ],
      "metadata": {
        "id": "GOmen56n4n9y"
      }
    },
    {
      "cell_type": "code",
      "execution_count": 11,
      "metadata": {
        "id": "s7DaRE9CjgK3",
        "outputId": "c8f07187-6ae5-4b9b-8b6c-2ccd615bdde7",
        "colab": {
          "base_uri": "https://localhost:8080/"
        }
      },
      "outputs": [
        {
          "output_type": "stream",
          "name": "stdout",
          "text": [
            "('🥕', 2)\n",
            "('🍆', 1)\n",
            "('🍅', 3)\n"
          ]
        }
      ],
      "source": [
        "with beam.Pipeline() as pipeline:\n",
        "  elements_with_min_value_per_key = (\n",
        "      pipeline\n",
        "      | 'Create produce' >> beam.Create([\n",
        "          ('🥕', 3),\n",
        "          ('🥕', 2),\n",
        "          ('🍆', 1),\n",
        "          ('🍅', 4),\n",
        "          ('🍅', 5),\n",
        "          ('🍅', 3),\n",
        "      ])\n",
        "      | 'Get min value per key' >> beam.CombinePerKey(min)\n",
        "      | beam.Map(print))"
      ]
    },
    {
      "cell_type": "markdown",
      "source": [
        "## **Mean:**\n",
        "\n",
        "*\tTransforms for computing the arithmetic mean of the elements in a collection, or the mean of the values associated with each key in a collection of key-value pairs.\n",
        "* we create a pipeline with a PCollection. Then, we get the element with the average value in different ways.\n",
        "\n",
        "\n"
      ],
      "metadata": {
        "id": "49bsdnUS21Sc"
      }
    },
    {
      "cell_type": "code",
      "execution_count": 12,
      "metadata": {
        "id": "CzENKWOKjgPP",
        "outputId": "09d9dd4a-7fb0-4234-e0d0-dad51eb2b996",
        "colab": {
          "base_uri": "https://localhost:8080/"
        }
      },
      "outputs": [
        {
          "output_type": "stream",
          "name": "stdout",
          "text": [
            "2.5\n"
          ]
        }
      ],
      "source": [
        "with beam.Pipeline() as pipeline:\n",
        "  mean_element = (\n",
        "      pipeline\n",
        "      | 'Create numbers' >> beam.Create([3, 4, 1, 2])\n",
        "      | 'Get mean value' >> beam.combiners.Mean.Globally()\n",
        "      | beam.Map(print))"
      ]
    },
    {
      "cell_type": "markdown",
      "source": [
        "**Mean.PerKey() to get the average of the elements for each unique key in a PCollection of key-values.**"
      ],
      "metadata": {
        "id": "0a3UPV08421I"
      }
    },
    {
      "cell_type": "code",
      "execution_count": 13,
      "metadata": {
        "id": "V6Fw-pkTjgUC",
        "outputId": "36fbc9e2-f5d0-4cef-dc73-224b4165e5a5",
        "colab": {
          "base_uri": "https://localhost:8080/"
        }
      },
      "outputs": [
        {
          "output_type": "stream",
          "name": "stdout",
          "text": [
            "('🥕', 2.5)\n",
            "('🍆', 1.0)\n",
            "('🍅', 4.0)\n"
          ]
        }
      ],
      "source": [
        "with beam.Pipeline() as pipeline:\n",
        "  elements_with_mean_value_per_key = (\n",
        "      pipeline\n",
        "      | 'Create produce' >> beam.Create([\n",
        "          ('🥕', 3),\n",
        "          ('🥕', 2),\n",
        "          ('🍆', 1),\n",
        "          ('🍅', 4),\n",
        "          ('🍅', 5),\n",
        "          ('🍅', 3),\n",
        "      ])\n",
        "      | 'Get mean value per key' >> beam.combiners.Mean.PerKey()\n",
        "      | beam.Map(print))"
      ]
    },
    {
      "cell_type": "markdown",
      "source": [
        "## **Sample:**\n",
        "\n",
        "*\tTransforms for taking samples of the elements in a collection, or samples of the values associated with each key in a collection of key-value pairs.\n",
        "* we create a pipeline with a PCollection. Then, we get a random sample of elements in different ways.\n",
        "\n",
        "\n"
      ],
      "metadata": {
        "id": "7uJuqGzA25lw"
      }
    },
    {
      "cell_type": "markdown",
      "source": [
        "Sample.FixedSizeGlobally() to get a fixed-size random sample of elements from the entire PCollection."
      ],
      "metadata": {
        "id": "SXHL-rkb5B5c"
      }
    },
    {
      "cell_type": "code",
      "source": [
        "with beam.Pipeline() as pipeline:\n",
        "  sample = (\n",
        "      pipeline\n",
        "      | 'Create produce' >> beam.Create([\n",
        "          '🍓 Strawberry',\n",
        "          '🥕 Carrot',\n",
        "          '🍆 Eggplant',\n",
        "          '🍅 Tomato',\n",
        "          '🥔 Potato',\n",
        "      ])\n",
        "      | 'Sample N elements' >> beam.combiners.Sample.FixedSizeGlobally(3)\n",
        "      | beam.Map(print))"
      ],
      "metadata": {
        "colab": {
          "base_uri": "https://localhost:8080/"
        },
        "id": "KgQM35xl3Eku",
        "outputId": "e89e765b-08af-4f27-88f7-966d364b843d"
      },
      "execution_count": 16,
      "outputs": [
        {
          "output_type": "stream",
          "name": "stdout",
          "text": [
            "['🥔 Potato', '🍅 Tomato', '🍆 Eggplant']\n"
          ]
        }
      ]
    },
    {
      "cell_type": "code",
      "source": [
        "with beam.Pipeline() as pipeline:\n",
        "  samples_per_key = (\n",
        "      pipeline\n",
        "      | 'Create produce' >> beam.Create([\n",
        "          ('spring', '🍓'),\n",
        "          ('spring', '🥕'),\n",
        "          ('spring', '🍆'),\n",
        "          ('spring', '🍅'),\n",
        "          ('summer', '🥕'),\n",
        "          ('summer', '🍅'),\n",
        "          ('summer', '🌽'),\n",
        "          ('fall', '🥕'),\n",
        "          ('fall', '🍅'),\n",
        "          ('winter', '🍆'),\n",
        "      ])\n",
        "      | 'Samples per key' >> beam.combiners.Sample.FixedSizePerKey(3)\n",
        "      | beam.Map(print))"
      ],
      "metadata": {
        "colab": {
          "base_uri": "https://localhost:8080/"
        },
        "id": "VmLL7UAc3Eh8",
        "outputId": "4c6e99c9-a562-4f82-871c-0f9ef3213e41"
      },
      "execution_count": 18,
      "outputs": [
        {
          "output_type": "stream",
          "name": "stdout",
          "text": [
            "('spring', ['🥕', '🍅', '🍓'])\n",
            "('summer', ['🌽', '🍅', '🥕'])\n",
            "('fall', ['🥕', '🍅'])\n",
            "('winter', ['🍆'])\n"
          ]
        }
      ]
    },
    {
      "cell_type": "markdown",
      "source": [
        "## **Sum:**\n",
        "\n",
        "* Sums all the elements within each aggregation.\n",
        "* we create a pipeline with a PCollection. Then, we get the sum of all the element values in different ways.\n",
        "\n",
        "\n"
      ],
      "metadata": {
        "id": "vymSnh8M28FM"
      }
    },
    {
      "cell_type": "code",
      "source": [
        "with beam.Pipeline() as pipeline:\n",
        "  total = (\n",
        "      pipeline\n",
        "      | 'Create numbers' >> beam.Create([3, 4, 1, 2])\n",
        "      | 'Sum values' >> beam.CombineGlobally(sum)\n",
        "      | beam.Map(print))"
      ],
      "metadata": {
        "colab": {
          "base_uri": "https://localhost:8080/"
        },
        "id": "FeWFLKCv3EKr",
        "outputId": "f54fdd8f-f7e9-41c7-d380-e254dda6363a"
      },
      "execution_count": null,
      "outputs": [
        {
          "output_type": "stream",
          "name": "stderr",
          "text": [
            "WARNING:root:Make sure that locally built Python SDK docker image has Python 3.7 interpreter.\n"
          ]
        },
        {
          "output_type": "stream",
          "name": "stdout",
          "text": [
            "10\n"
          ]
        }
      ]
    },
    {
      "cell_type": "markdown",
      "source": [
        "Combine.PerKey() to get the sum of all the element values for each unique key in a PCollection of key-values."
      ],
      "metadata": {
        "id": "W2cUvF5A5Ssb"
      }
    },
    {
      "cell_type": "code",
      "source": [
        "with beam.Pipeline() as pipeline:\n",
        "  totals_per_key = (\n",
        "      pipeline\n",
        "      | 'Create produce' >> beam.Create([\n",
        "          ('🥕', 3),\n",
        "          ('🥕', 2),\n",
        "          ('🍆', 1),\n",
        "          ('🍅', 4),\n",
        "          ('🍅', 5),\n",
        "          ('🍅', 3),\n",
        "      ])\n",
        "      | 'Sum values per key' >> beam.CombinePerKey(sum)\n",
        "      | beam.Map(print))"
      ],
      "metadata": {
        "colab": {
          "base_uri": "https://localhost:8080/"
        },
        "id": "rsBTm4MU3ECs",
        "outputId": "230a5eaf-b7e4-4847-ce8b-9030b1cf42ca"
      },
      "execution_count": 19,
      "outputs": [
        {
          "output_type": "stream",
          "name": "stdout",
          "text": [
            "('🥕', 5)\n",
            "('🍆', 1)\n",
            "('🍅', 12)\n"
          ]
        }
      ]
    },
    {
      "cell_type": "markdown",
      "source": [
        "## **Top:**\n",
        "\n",
        "* Transforms for finding the largest (or smallest) set of elements in a collection, or the largest (or smallest) set of values associated with each key in a collection of key-value pairs.\n",
        "* we create a pipeline with a PCollection. Then, we get the largest or smallest elements in different ways.\n",
        "\n",
        "\n"
      ],
      "metadata": {
        "id": "AAhMQvqs2_9F"
      }
    },
    {
      "cell_type": "code",
      "source": [
        "with beam.Pipeline() as pipeline:\n",
        "  largest_elements = (\n",
        "      pipeline\n",
        "      | 'Create numbers' >> beam.Create([3, 4, 1, 2])\n",
        "      | 'Largest N values' >> beam.combiners.Top.Largest(2)\n",
        "      | beam.Map(print))"
      ],
      "metadata": {
        "colab": {
          "base_uri": "https://localhost:8080/"
        },
        "id": "GOFOKwzR3FNi",
        "outputId": "8aac8c30-1eb3-4fcc-86f3-9a20bc2f0ae0"
      },
      "execution_count": 21,
      "outputs": [
        {
          "output_type": "stream",
          "name": "stderr",
          "text": [
            "WARNING:apache_beam.transforms.core:('No iterator is returned by the process method in %s.', <class 'apache_beam.transforms.combiners._TopPerBundle'>)\n"
          ]
        },
        {
          "output_type": "stream",
          "name": "stdout",
          "text": [
            "[4, 3]\n"
          ]
        }
      ]
    },
    {
      "cell_type": "markdown",
      "source": [
        "Top.LargestPerKey() to get the largest elements for each unique key in a PCollection of key-values."
      ],
      "metadata": {
        "id": "7MgZ6TTU5diA"
      }
    },
    {
      "cell_type": "code",
      "source": [
        "with beam.Pipeline() as pipeline:\n",
        "  largest_elements_per_key = (\n",
        "      pipeline\n",
        "      | 'Create produce' >> beam.Create([\n",
        "          ('🥕', 3),\n",
        "          ('🥕', 2),\n",
        "          ('🍆', 1),\n",
        "          ('🍅', 4),\n",
        "          ('🍅', 5),\n",
        "          ('🍅', 3),\n",
        "      ])\n",
        "      | 'Largest N values per key' >> beam.combiners.Top.LargestPerKey(2)\n",
        "      | beam.Map(print))"
      ],
      "metadata": {
        "colab": {
          "base_uri": "https://localhost:8080/"
        },
        "id": "m_vC0y4M27se",
        "outputId": "e786492e-50b4-49e4-9b0a-6edaa31951f6"
      },
      "execution_count": 22,
      "outputs": [
        {
          "output_type": "stream",
          "name": "stdout",
          "text": [
            "('🥕', [3, 2])\n",
            "('🍆', [1])\n",
            "('🍅', [5, 4])\n"
          ]
        }
      ]
    }
  ],
  "metadata": {
    "colab": {
      "name": "Tutorial 3e – latest, Max, Min, Sample, Sum and Top Transform in Apache Beam.ipynb",
      "provenance": []
    },
    "kernelspec": {
      "display_name": "Python 3",
      "name": "python3"
    },
    "language_info": {
      "name": "python"
    }
  },
  "nbformat": 4,
  "nbformat_minor": 0
}