{
  "nbformat": 4,
  "nbformat_minor": 0,
  "metadata": {
    "colab": {
      "provenance": [],
      "authorship_tag": "ABX9TyOEsaQsL2NckRD+4SaeGnID",
      "include_colab_link": true
    },
    "kernelspec": {
      "name": "python3",
      "display_name": "Python 3"
    },
    "language_info": {
      "name": "python"
    }
  },
  "cells": [
    {
      "cell_type": "markdown",
      "metadata": {
        "id": "view-in-github",
        "colab_type": "text"
      },
      "source": [
        "<a href=\"https://colab.research.google.com/github/brandopapa/Cloud-AI-Analytics/blob/running-onedrive/Apache%20Beam%20-Python/readFormJsonL.ipynb\" target=\"_parent\"><img src=\"https://colab.research.google.com/assets/colab-badge.svg\" alt=\"Open In Colab\"/></a>"
      ]
    },
    {
      "cell_type": "code",
      "execution_count": 1,
      "metadata": {
        "colab": {
          "base_uri": "https://localhost:8080/"
        },
        "id": "QoCJvI3ZIFCp",
        "outputId": "81d2e785-321b-436a-8b91-0f6c6fdcbdf6"
      },
      "outputs": [
        {
          "output_type": "stream",
          "name": "stdout",
          "text": [
            "Collecting apache_beam\n",
            "  Downloading apache_beam-2.60.0-cp310-cp310-manylinux_2_17_x86_64.manylinux2014_x86_64.whl.metadata (7.6 kB)\n",
            "Collecting crcmod<2.0,>=1.7 (from apache_beam)\n",
            "  Downloading crcmod-1.7.tar.gz (89 kB)\n",
            "\u001b[2K     \u001b[90m━━━━━━━━━━━━━━━━━━━━━━━━━━━━━━━━━━━━━━━━\u001b[0m \u001b[32m89.7/89.7 kB\u001b[0m \u001b[31m4.1 MB/s\u001b[0m eta \u001b[36m0:00:00\u001b[0m\n",
            "\u001b[?25h  Preparing metadata (setup.py) ... \u001b[?25l\u001b[?25hdone\n",
            "Requirement already satisfied: orjson<4,>=3.9.7 in /usr/local/lib/python3.10/dist-packages (from apache_beam) (3.10.10)\n",
            "Collecting dill<0.3.2,>=0.3.1.1 (from apache_beam)\n",
            "  Downloading dill-0.3.1.1.tar.gz (151 kB)\n",
            "\u001b[2K     \u001b[90m━━━━━━━━━━━━━━━━━━━━━━━━━━━━━━━━━━━━━━━━\u001b[0m \u001b[32m152.0/152.0 kB\u001b[0m \u001b[31m10.8 MB/s\u001b[0m eta \u001b[36m0:00:00\u001b[0m\n",
            "\u001b[?25h  Preparing metadata (setup.py) ... \u001b[?25l\u001b[?25hdone\n",
            "Collecting cloudpickle~=2.2.1 (from apache_beam)\n",
            "  Downloading cloudpickle-2.2.1-py3-none-any.whl.metadata (6.9 kB)\n",
            "Collecting fastavro<2,>=0.23.6 (from apache_beam)\n",
            "  Downloading fastavro-1.9.7-cp310-cp310-manylinux_2_17_x86_64.manylinux2014_x86_64.whl.metadata (5.5 kB)\n",
            "Collecting fasteners<1.0,>=0.3 (from apache_beam)\n",
            "  Downloading fasteners-0.19-py3-none-any.whl.metadata (4.9 kB)\n",
            "Requirement already satisfied: grpcio!=1.48.0,!=1.59.*,!=1.60.*,!=1.61.*,!=1.62.0,!=1.62.1,<1.66.0,<2,>=1.33.1 in /usr/local/lib/python3.10/dist-packages (from apache_beam) (1.64.1)\n",
            "Collecting hdfs<3.0.0,>=2.1.0 (from apache_beam)\n",
            "  Downloading hdfs-2.7.3.tar.gz (43 kB)\n",
            "\u001b[2K     \u001b[90m━━━━━━━━━━━━━━━━━━━━━━━━━━━━━━━━━━━━━━━━\u001b[0m \u001b[32m43.5/43.5 kB\u001b[0m \u001b[31m2.1 MB/s\u001b[0m eta \u001b[36m0:00:00\u001b[0m\n",
            "\u001b[?25h  Preparing metadata (setup.py) ... \u001b[?25l\u001b[?25hdone\n",
            "Requirement already satisfied: httplib2<0.23.0,>=0.8 in /usr/local/lib/python3.10/dist-packages (from apache_beam) (0.22.0)\n",
            "Requirement already satisfied: jsonschema<5.0.0,>=4.0.0 in /usr/local/lib/python3.10/dist-packages (from apache_beam) (4.23.0)\n",
            "Requirement already satisfied: jsonpickle<4.0.0,>=3.0.0 in /usr/local/lib/python3.10/dist-packages (from apache_beam) (3.3.0)\n",
            "Requirement already satisfied: numpy<1.27.0,>=1.14.3 in /usr/local/lib/python3.10/dist-packages (from apache_beam) (1.26.4)\n",
            "Collecting objsize<0.8.0,>=0.6.1 (from apache_beam)\n",
            "  Downloading objsize-0.7.0-py3-none-any.whl.metadata (12 kB)\n",
            "Requirement already satisfied: packaging>=22.0 in /usr/local/lib/python3.10/dist-packages (from apache_beam) (24.1)\n",
            "Collecting pymongo<5.0.0,>=3.8.0 (from apache_beam)\n",
            "  Downloading pymongo-4.10.1-cp310-cp310-manylinux_2_17_x86_64.manylinux2014_x86_64.whl.metadata (22 kB)\n",
            "Requirement already satisfied: proto-plus<2,>=1.7.1 in /usr/local/lib/python3.10/dist-packages (from apache_beam) (1.25.0)\n",
            "Requirement already satisfied: protobuf!=4.0.*,!=4.21.*,!=4.22.0,!=4.23.*,!=4.24.*,<4.26.0,>=3.20.3 in /usr/local/lib/python3.10/dist-packages (from apache_beam) (3.20.3)\n",
            "Collecting pydot<2,>=1.2.0 (from apache_beam)\n",
            "  Downloading pydot-1.4.2-py2.py3-none-any.whl.metadata (8.0 kB)\n",
            "Requirement already satisfied: python-dateutil<3,>=2.8.0 in /usr/local/lib/python3.10/dist-packages (from apache_beam) (2.8.2)\n",
            "Requirement already satisfied: pytz>=2018.3 in /usr/local/lib/python3.10/dist-packages (from apache_beam) (2024.2)\n",
            "Collecting redis<6,>=5.0.0 (from apache_beam)\n",
            "  Downloading redis-5.2.0-py3-none-any.whl.metadata (9.1 kB)\n",
            "Requirement already satisfied: regex>=2020.6.8 in /usr/local/lib/python3.10/dist-packages (from apache_beam) (2024.9.11)\n",
            "Requirement already satisfied: requests<3.0.0,>=2.24.0 in /usr/local/lib/python3.10/dist-packages (from apache_beam) (2.32.3)\n",
            "Requirement already satisfied: typing-extensions>=3.7.0 in /usr/local/lib/python3.10/dist-packages (from apache_beam) (4.12.2)\n",
            "Collecting zstandard<1,>=0.18.0 (from apache_beam)\n",
            "  Downloading zstandard-0.23.0-cp310-cp310-manylinux_2_17_x86_64.manylinux2014_x86_64.whl.metadata (3.0 kB)\n",
            "Collecting pyarrow<17.0.0,>=3.0.0 (from apache_beam)\n",
            "  Downloading pyarrow-16.1.0-cp310-cp310-manylinux_2_28_x86_64.whl.metadata (3.0 kB)\n",
            "Requirement already satisfied: pyarrow-hotfix<1 in /usr/local/lib/python3.10/dist-packages (from apache_beam) (0.6)\n",
            "Collecting docopt (from hdfs<3.0.0,>=2.1.0->apache_beam)\n",
            "  Downloading docopt-0.6.2.tar.gz (25 kB)\n",
            "  Preparing metadata (setup.py) ... \u001b[?25l\u001b[?25hdone\n",
            "Requirement already satisfied: six>=1.9.0 in /usr/local/lib/python3.10/dist-packages (from hdfs<3.0.0,>=2.1.0->apache_beam) (1.16.0)\n",
            "Requirement already satisfied: pyparsing!=3.0.0,!=3.0.1,!=3.0.2,!=3.0.3,<4,>=2.4.2 in /usr/local/lib/python3.10/dist-packages (from httplib2<0.23.0,>=0.8->apache_beam) (3.2.0)\n",
            "Requirement already satisfied: attrs>=22.2.0 in /usr/local/lib/python3.10/dist-packages (from jsonschema<5.0.0,>=4.0.0->apache_beam) (24.2.0)\n",
            "Requirement already satisfied: jsonschema-specifications>=2023.03.6 in /usr/local/lib/python3.10/dist-packages (from jsonschema<5.0.0,>=4.0.0->apache_beam) (2024.10.1)\n",
            "Requirement already satisfied: referencing>=0.28.4 in /usr/local/lib/python3.10/dist-packages (from jsonschema<5.0.0,>=4.0.0->apache_beam) (0.35.1)\n",
            "Requirement already satisfied: rpds-py>=0.7.1 in /usr/local/lib/python3.10/dist-packages (from jsonschema<5.0.0,>=4.0.0->apache_beam) (0.20.0)\n",
            "Collecting dnspython<3.0.0,>=1.16.0 (from pymongo<5.0.0,>=3.8.0->apache_beam)\n",
            "  Downloading dnspython-2.7.0-py3-none-any.whl.metadata (5.8 kB)\n",
            "Requirement already satisfied: async-timeout>=4.0.3 in /usr/local/lib/python3.10/dist-packages (from redis<6,>=5.0.0->apache_beam) (4.0.3)\n",
            "Requirement already satisfied: charset-normalizer<4,>=2 in /usr/local/lib/python3.10/dist-packages (from requests<3.0.0,>=2.24.0->apache_beam) (3.4.0)\n",
            "Requirement already satisfied: idna<4,>=2.5 in /usr/local/lib/python3.10/dist-packages (from requests<3.0.0,>=2.24.0->apache_beam) (3.10)\n",
            "Requirement already satisfied: urllib3<3,>=1.21.1 in /usr/local/lib/python3.10/dist-packages (from requests<3.0.0,>=2.24.0->apache_beam) (2.2.3)\n",
            "Requirement already satisfied: certifi>=2017.4.17 in /usr/local/lib/python3.10/dist-packages (from requests<3.0.0,>=2.24.0->apache_beam) (2024.8.30)\n",
            "Downloading apache_beam-2.60.0-cp310-cp310-manylinux_2_17_x86_64.manylinux2014_x86_64.whl (15.7 MB)\n",
            "\u001b[2K   \u001b[90m━━━━━━━━━━━━━━━━━━━━━━━━━━━━━━━━━━━━━━━━\u001b[0m \u001b[32m15.7/15.7 MB\u001b[0m \u001b[31m51.4 MB/s\u001b[0m eta \u001b[36m0:00:00\u001b[0m\n",
            "\u001b[?25hDownloading cloudpickle-2.2.1-py3-none-any.whl (25 kB)\n",
            "Downloading fastavro-1.9.7-cp310-cp310-manylinux_2_17_x86_64.manylinux2014_x86_64.whl (3.1 MB)\n",
            "\u001b[2K   \u001b[90m━━━━━━━━━━━━━━━━━━━━━━━━━━━━━━━━━━━━━━━━\u001b[0m \u001b[32m3.1/3.1 MB\u001b[0m \u001b[31m59.2 MB/s\u001b[0m eta \u001b[36m0:00:00\u001b[0m\n",
            "\u001b[?25hDownloading fasteners-0.19-py3-none-any.whl (18 kB)\n",
            "Downloading objsize-0.7.0-py3-none-any.whl (11 kB)\n",
            "Downloading pyarrow-16.1.0-cp310-cp310-manylinux_2_28_x86_64.whl (40.8 MB)\n",
            "\u001b[2K   \u001b[90m━━━━━━━━━━━━━━━━━━━━━━━━━━━━━━━━━━━━━━━━\u001b[0m \u001b[32m40.8/40.8 MB\u001b[0m \u001b[31m20.7 MB/s\u001b[0m eta \u001b[36m0:00:00\u001b[0m\n",
            "\u001b[?25hDownloading pydot-1.4.2-py2.py3-none-any.whl (21 kB)\n",
            "Downloading pymongo-4.10.1-cp310-cp310-manylinux_2_17_x86_64.manylinux2014_x86_64.whl (1.4 MB)\n",
            "\u001b[2K   \u001b[90m━━━━━━━━━━━━━━━━━━━━━━━━━━━━━━━━━━━━━━━━\u001b[0m \u001b[32m1.4/1.4 MB\u001b[0m \u001b[31m46.8 MB/s\u001b[0m eta \u001b[36m0:00:00\u001b[0m\n",
            "\u001b[?25hDownloading redis-5.2.0-py3-none-any.whl (261 kB)\n",
            "\u001b[2K   \u001b[90m━━━━━━━━━━━━━━━━━━━━━━━━━━━━━━━━━━━━━━━━\u001b[0m \u001b[32m261.4/261.4 kB\u001b[0m \u001b[31m13.7 MB/s\u001b[0m eta \u001b[36m0:00:00\u001b[0m\n",
            "\u001b[?25hDownloading zstandard-0.23.0-cp310-cp310-manylinux_2_17_x86_64.manylinux2014_x86_64.whl (5.4 MB)\n",
            "\u001b[2K   \u001b[90m━━━━━━━━━━━━━━━━━━━━━━━━━━━━━━━━━━━━━━━━\u001b[0m \u001b[32m5.4/5.4 MB\u001b[0m \u001b[31m71.6 MB/s\u001b[0m eta \u001b[36m0:00:00\u001b[0m\n",
            "\u001b[?25hDownloading dnspython-2.7.0-py3-none-any.whl (313 kB)\n",
            "\u001b[2K   \u001b[90m━━━━━━━━━━━━━━━━━━━━━━━━━━━━━━━━━━━━━━━━\u001b[0m \u001b[32m313.6/313.6 kB\u001b[0m \u001b[31m20.9 MB/s\u001b[0m eta \u001b[36m0:00:00\u001b[0m\n",
            "\u001b[?25hBuilding wheels for collected packages: crcmod, dill, hdfs, docopt\n",
            "  Building wheel for crcmod (setup.py) ... \u001b[?25l\u001b[?25hdone\n",
            "  Created wheel for crcmod: filename=crcmod-1.7-cp310-cp310-linux_x86_64.whl size=31409 sha256=2452df09f9be5e21565aefc7b1df096f85a5bf3d758ca677f0e18fb9b56e4615\n",
            "  Stored in directory: /root/.cache/pip/wheels/85/4c/07/72215c529bd59d67e3dac29711d7aba1b692f543c808ba9e86\n",
            "  Building wheel for dill (setup.py) ... \u001b[?25l\u001b[?25hdone\n",
            "  Created wheel for dill: filename=dill-0.3.1.1-py3-none-any.whl size=78542 sha256=92947799da09a991854b6290de13a9a4520714415ba94e2fe3a586e6401b4482\n",
            "  Stored in directory: /root/.cache/pip/wheels/ea/e2/86/64980d90e297e7bf2ce588c2b96e818f5399c515c4bb8a7e4f\n",
            "  Building wheel for hdfs (setup.py) ... \u001b[?25l\u001b[?25hdone\n",
            "  Created wheel for hdfs: filename=hdfs-2.7.3-py3-none-any.whl size=34324 sha256=6b1507aa4e790950855a37db2e55aca747fc1fd5da4d860fb8a0a3b2143a4720\n",
            "  Stored in directory: /root/.cache/pip/wheels/e5/8d/b6/99c1c0a3ac5788c866b0ecd3f48b0134a5910e6ed26011800b\n",
            "  Building wheel for docopt (setup.py) ... \u001b[?25l\u001b[?25hdone\n",
            "  Created wheel for docopt: filename=docopt-0.6.2-py2.py3-none-any.whl size=13706 sha256=63cc72aea1ddd12a7d3abfbf17e1db97b8a9649ee5c4c250057f0f4888281a18\n",
            "  Stored in directory: /root/.cache/pip/wheels/fc/ab/d4/5da2067ac95b36618c629a5f93f809425700506f72c9732fac\n",
            "Successfully built crcmod dill hdfs docopt\n",
            "Installing collected packages: docopt, crcmod, zstandard, redis, pydot, pyarrow, objsize, fasteners, fastavro, dnspython, dill, cloudpickle, pymongo, hdfs, apache_beam\n",
            "  Attempting uninstall: pydot\n",
            "    Found existing installation: pydot 3.0.2\n",
            "    Uninstalling pydot-3.0.2:\n",
            "      Successfully uninstalled pydot-3.0.2\n",
            "  Attempting uninstall: pyarrow\n",
            "    Found existing installation: pyarrow 17.0.0\n",
            "    Uninstalling pyarrow-17.0.0:\n",
            "      Successfully uninstalled pyarrow-17.0.0\n",
            "  Attempting uninstall: cloudpickle\n",
            "    Found existing installation: cloudpickle 3.1.0\n",
            "    Uninstalling cloudpickle-3.1.0:\n",
            "      Successfully uninstalled cloudpickle-3.1.0\n",
            "\u001b[31mERROR: pip's dependency resolver does not currently take into account all the packages that are installed. This behaviour is the source of the following dependency conflicts.\n",
            "dask 2024.10.0 requires cloudpickle>=3.0.0, but you have cloudpickle 2.2.1 which is incompatible.\u001b[0m\u001b[31m\n",
            "\u001b[0mSuccessfully installed apache_beam-2.60.0 cloudpickle-2.2.1 crcmod-1.7 dill-0.3.1.1 dnspython-2.7.0 docopt-0.6.2 fastavro-1.9.7 fasteners-0.19 hdfs-2.7.3 objsize-0.7.0 pyarrow-16.1.0 pydot-1.4.2 pymongo-4.10.1 redis-5.2.0 zstandard-0.23.0\n"
          ]
        }
      ],
      "source": [
        "!pip install apache_beam"
      ]
    },
    {
      "cell_type": "code",
      "source": [
        "import apache_beam as beam"
      ],
      "metadata": {
        "id": "FkmyXzOqIibh"
      },
      "execution_count": 2,
      "outputs": []
    },
    {
      "cell_type": "code",
      "source": [
        "from google.colab import drive\n",
        "drive.mount('/content/drive')"
      ],
      "metadata": {
        "colab": {
          "base_uri": "https://localhost:8080/"
        },
        "id": "cCZ8MHueImUy",
        "outputId": "0093f647-d584-42fc-d3a6-6e574e70caa0"
      },
      "execution_count": 3,
      "outputs": [
        {
          "output_type": "stream",
          "name": "stdout",
          "text": [
            "Mounted at /content/drive\n"
          ]
        }
      ]
    },
    {
      "cell_type": "code",
      "source": [
        "%cd /content/drive/MyDrive/Colab Notebooks/Cloud-AI-Analytics/Apache\\ Beam\\ -Python/data"
      ],
      "metadata": {
        "colab": {
          "base_uri": "https://localhost:8080/"
        },
        "id": "NWtY3u0PI77b",
        "outputId": "9dd8cb60-8de7-4a50-dbef-05a5ed47ec8b"
      },
      "execution_count": 4,
      "outputs": [
        {
          "output_type": "stream",
          "name": "stdout",
          "text": [
            "/content/drive/MyDrive/Colab Notebooks/Cloud-AI-Analytics/Apache Beam -Python/data\n"
          ]
        }
      ]
    },
    {
      "cell_type": "code",
      "source": [
        "!ls"
      ],
      "metadata": {
        "colab": {
          "base_uri": "https://localhost:8080/"
        },
        "id": "mX1Py1L8I_f9",
        "outputId": "58520a78-6237-40ec-870c-fe82a45cc4b7"
      },
      "execution_count": 7,
      "outputs": [
        {
          "output_type": "stream",
          "name": "stdout",
          "text": [
            "data\t       grocery.txt\t\t\t  result\t    students_exclude.txt\n",
            "dept_data.txt  regular_filter.txt-00000-of-00001  Students_age.txt  students.txt\n"
          ]
        }
      ]
    },
    {
      "cell_type": "code",
      "source": [
        "class GCPBillingRawdata:\n",
        "  def __init__(self,account_id,service,sku,usage_start_time,usage_end_time,project,labels,system_labels,export_time,cost,currency,currency_conversion_rate):\n",
        "    self.account_id = account_id\n",
        "    self.service = service\n",
        "    self.sku = sku\n",
        "    self.usage_start_time = usage_start_time\n",
        "    self.usage_end_time = usage_end_time\n",
        "    self.project = project\n",
        "    self.labels = labels\n",
        "    self.system_labels = system_labels\n",
        "    self.export_time = export_time\n",
        "    self.cost = cost\n",
        "    self.currency = currency\n",
        "    self.currency_conversion_rate = currency_conversion_rate\n",
        "\n",
        "class service:\n",
        "  def __init__(self,id,description):\n",
        "    self.id = id\n",
        "    self.description = description\n",
        "class sku:\n",
        "  def __init__(self,id,description):\n",
        "    self.id = id\n",
        "    self.description = description\n",
        "\n",
        "class project:\n",
        "  def __init__(self,id,name,number,labels,ancestry_numbers,ancestors):\n",
        "    self.id = id\n",
        "    self.name = name\n",
        "    self.number = number\n",
        "    self.labels = labels\n",
        "    self.ancestry_numbers = ancestry_numbers\n",
        "    self.ancestors = ancestors\n",
        "\n",
        "class labels:\n",
        "  def __init__(self,key,value):\n",
        "    self.key = key\n",
        "    self.value = value\n",
        "\n",
        "class ancestors:\n",
        "  def __init__(self,resource_name,display_name):\n",
        "    self.resource_name = resource_name\n",
        "    self.display_name = display_name\n",
        "\n",
        "class system_labels:\n",
        "  def __init__(self,key,value):\n",
        "    self.key = key\n",
        "    self.value = value"
      ],
      "metadata": {
        "id": "QvkUJbPuS3r9"
      },
      "execution_count": 13,
      "outputs": []
    },
    {
      "cell_type": "code",
      "source": [
        "p1 = beam.Pipeline()\n",
        "\n",
        "input_list = list()\n",
        "with open ('cdr_origin_20.json','r') as cdr_file:\n",
        "  for account_id in cdr_file:\n",
        "    input_list.append(account_id.rstrip())\n",
        "\n",
        "print(input_list)"
      ],
      "metadata": {
        "colab": {
          "base_uri": "https://localhost:8080/"
        },
        "id": "UPLdnnSAKAvU",
        "outputId": "f1a0c0ea-c61d-4a3e-932b-e30c30febb6a"
      },
      "execution_count": 28,
      "outputs": [
        {
          "output_type": "stream",
          "name": "stdout",
          "text": [
            "['{\"account_id\":\"01097B\",\"billing_account_id\":\"01097B-B52197-52F28F\",\"service.id\":\"2062-016F-44A2\",\"service.description\":\"Support\",\"sku.id\":\"5467-9D2D-5B98\",\"sku.description\":\"GCP Support Variable fee\",\"usage_start_time\":\"2024-08-06 09:00:00.000000 UTC\",\"usage_end_time\":\"2024-08-06 10:00:00.000000 UTC\",\"project.id\":null,\"project.number\":null,\"project.name\":null,\"project.labels\":[],\"project.ancestry_numbers\":null,\"project.ancestors\":[],\"labels\":[],\"system_labels\":[],\"location.location\":null,\"location.country\":null,\"location.region\":null,\"location.zone\":null,\"export_time\":\"2024-08-06 17:35:05.487018 UTC\",\"cost\":\"0.011923\",\"currency\":\"USD\",\"currency_conversion_rate\":\"1.0\",\"usage.amount\":\"0.298126\",\"usage.unit\":\"USD\",\"usage.amount_in_pricing_units\":\"0.298126\",\"usage.pricing_unit\":\"USD\",\"credits\":[{\"name\":\"Discount on Total Spend\",\"amount\":\"-0.001431\",\"full_name\":null,\"id\":\"Discount on Total Spend\",\"type\":\"RESELLER_MARGIN\"}],\"invoice.month\":\"202408\",\"cost_type\":\"regular\",\"adjustment_info.id\":null,\"adjustment_info.description\":null,\"adjustment_info.mode\":null,\"adjustment_info.type\":null,\"tags\":[],\"cost_at_list\":\"0.011923\",\"transaction_type\":\"GOOGLE\",\"seller_name\":null,\"contract_price\":null,\"discount\":null,\"list_price\":null,\"list_cost\":null,\"negotiated_savings\":null}', '{\"account_id\":\"01097B\",\"billing_account_id\":\"01097B-B52197-52F28F\",\"service.id\":\"2062-016F-44A2\",\"service.description\":\"Support\",\"sku.id\":\"5467-9D2D-5B98\",\"sku.description\":\"GCP Support Variable fee\",\"usage_start_time\":\"2024-08-23 01:00:00.000000 UTC\",\"usage_end_time\":\"2024-08-23 02:00:00.000000 UTC\",\"project.id\":null,\"project.number\":null,\"project.name\":null,\"project.labels\":[],\"project.ancestry_numbers\":null,\"project.ancestors\":[],\"labels\":[],\"system_labels\":[],\"location.location\":null,\"location.country\":null,\"location.region\":null,\"location.zone\":null,\"export_time\":\"2024-08-23 11:24:35.755447 UTC\",\"cost\":\"0.003727\",\"currency\":\"USD\",\"currency_conversion_rate\":\"1.0\",\"usage.amount\":\"0.093204\",\"usage.unit\":\"USD\",\"usage.amount_in_pricing_units\":\"0.093204\",\"usage.pricing_unit\":\"USD\",\"credits\":[{\"name\":\"Discount on Total Spend\",\"amount\":\"-0.000447\",\"full_name\":null,\"id\":\"Discount on Total Spend\",\"type\":\"RESELLER_MARGIN\"}],\"invoice.month\":\"202408\",\"cost_type\":\"regular\",\"adjustment_info.id\":null,\"adjustment_info.description\":null,\"adjustment_info.mode\":null,\"adjustment_info.type\":null,\"tags\":[],\"cost_at_list\":\"0.003727\",\"transaction_type\":\"GOOGLE\",\"seller_name\":null,\"contract_price\":null,\"discount\":null,\"list_price\":null,\"list_cost\":null,\"negotiated_savings\":null}', '{\"account_id\":\"01097B\",\"billing_account_id\":\"01097B-B52197-52F28F\",\"service.id\":\"2062-016F-44A2\",\"service.description\":\"Support\",\"sku.id\":\"5467-9D2D-5B98\",\"sku.description\":\"GCP Support Variable fee\",\"usage_start_time\":\"2024-08-11 17:00:00.000000 UTC\",\"usage_end_time\":\"2024-08-11 18:00:00.000000 UTC\",\"project.id\":null,\"project.number\":null,\"project.name\":null,\"project.labels\":[],\"project.ancestry_numbers\":null,\"project.ancestors\":[],\"labels\":[],\"system_labels\":[],\"location.location\":null,\"location.country\":null,\"location.region\":null,\"location.zone\":null,\"export_time\":\"2024-08-12 02:12:45.602702 UTC\",\"cost\":\"2e-06\",\"currency\":\"USD\",\"currency_conversion_rate\":\"1.0\",\"usage.amount\":\"6.1e-05\",\"usage.unit\":\"USD\",\"usage.amount_in_pricing_units\":\"6.1e-05\",\"usage.pricing_unit\":\"USD\",\"credits\":[],\"invoice.month\":\"202408\",\"cost_type\":\"regular\",\"adjustment_info.id\":null,\"adjustment_info.description\":null,\"adjustment_info.mode\":null,\"adjustment_info.type\":null,\"tags\":[],\"cost_at_list\":\"2e-06\",\"transaction_type\":\"GOOGLE\",\"seller_name\":null,\"contract_price\":null,\"discount\":null,\"list_price\":null,\"list_cost\":null,\"negotiated_savings\":null}', '{\"account_id\":\"010FD9\",\"billing_account_id\":\"010FD9-DDC133-A1EFFB\",\"service.id\":\"2062-016F-44A2\",\"service.description\":\"Support\",\"sku.id\":\"5467-9D2D-5B98\",\"sku.description\":\"GCP Support Variable fee\",\"usage_start_time\":\"2024-08-21 00:00:00.000000 UTC\",\"usage_end_time\":\"2024-08-21 01:00:00.000000 UTC\",\"project.id\":null,\"project.number\":null,\"project.name\":null,\"project.labels\":[],\"project.ancestry_numbers\":null,\"project.ancestors\":[],\"labels\":[],\"system_labels\":[],\"location.location\":null,\"location.country\":null,\"location.region\":null,\"location.zone\":null,\"export_time\":\"2024-08-21 07:17:49.309164 UTC\",\"cost\":\"0.002986\",\"currency\":\"USD\",\"currency_conversion_rate\":\"1.0\",\"usage.amount\":\"0.074688\",\"usage.unit\":\"USD\",\"usage.amount_in_pricing_units\":\"0.074688\",\"usage.pricing_unit\":\"USD\",\"credits\":[{\"name\":\"Discount on Total Spend\",\"amount\":\"-0.000359\",\"full_name\":null,\"id\":\"Discount on Total Spend\",\"type\":\"RESELLER_MARGIN\"}],\"invoice.month\":\"202408\",\"cost_type\":\"regular\",\"adjustment_info.id\":null,\"adjustment_info.description\":null,\"adjustment_info.mode\":null,\"adjustment_info.type\":null,\"tags\":[],\"cost_at_list\":\"0.002986\",\"transaction_type\":\"GOOGLE\",\"seller_name\":null,\"contract_price\":null,\"discount\":null,\"list_price\":null,\"list_cost\":null,\"negotiated_savings\":null}', '{\"account_id\":\"010FD9\",\"billing_account_id\":\"010FD9-DDC133-A1EFFB\",\"service.id\":\"2062-016F-44A2\",\"service.description\":\"Support\",\"sku.id\":\"5467-9D2D-5B98\",\"sku.description\":\"GCP Support Variable fee\",\"usage_start_time\":\"2024-08-28 16:00:00.000000 UTC\",\"usage_end_time\":\"2024-08-28 17:00:00.000000 UTC\",\"project.id\":null,\"project.number\":null,\"project.name\":null,\"project.labels\":[],\"project.ancestry_numbers\":null,\"project.ancestors\":[],\"labels\":[],\"system_labels\":[],\"location.location\":null,\"location.country\":null,\"location.region\":null,\"location.zone\":null,\"export_time\":\"2024-08-28 23:16:40.038715 UTC\",\"cost\":\"0.001459\",\"currency\":\"USD\",\"currency_conversion_rate\":\"1.0\",\"usage.amount\":\"0.036506\",\"usage.unit\":\"USD\",\"usage.amount_in_pricing_units\":\"0.036506\",\"usage.pricing_unit\":\"USD\",\"credits\":[{\"name\":\"Discount on Total Spend\",\"amount\":\"-0.000174\",\"full_name\":null,\"id\":\"Discount on Total Spend\",\"type\":\"RESELLER_MARGIN\"}],\"invoice.month\":\"202408\",\"cost_type\":\"regular\",\"adjustment_info.id\":null,\"adjustment_info.description\":null,\"adjustment_info.mode\":null,\"adjustment_info.type\":null,\"tags\":[],\"cost_at_list\":\"0.001459\",\"transaction_type\":\"GOOGLE\",\"seller_name\":null,\"contract_price\":null,\"discount\":null,\"list_price\":null,\"list_cost\":null,\"negotiated_savings\":null}', '{\"account_id\":\"010FD9\",\"billing_account_id\":\"010FD9-DDC133-A1EFFB\",\"service.id\":\"2062-016F-44A2\",\"service.description\":\"Support\",\"sku.id\":\"5467-9D2D-5B98\",\"sku.description\":\"GCP Support Variable fee\",\"usage_start_time\":\"2024-08-26 18:00:00.000000 UTC\",\"usage_end_time\":\"2024-08-26 19:00:00.000000 UTC\",\"project.id\":null,\"project.number\":null,\"project.name\":null,\"project.labels\":[],\"project.ancestry_numbers\":null,\"project.ancestors\":[],\"labels\":[],\"system_labels\":[],\"location.location\":null,\"location.country\":null,\"location.region\":null,\"location.zone\":null,\"export_time\":\"2024-08-27 01:03:41.701810 UTC\",\"cost\":\"0.007242\",\"currency\":\"USD\",\"currency_conversion_rate\":\"1.0\",\"usage.amount\":\"0.181076\",\"usage.unit\":\"USD\",\"usage.amount_in_pricing_units\":\"0.181076\",\"usage.pricing_unit\":\"USD\",\"credits\":[{\"name\":\"Discount on Total Spend\",\"amount\":\"-0.000869\",\"full_name\":null,\"id\":\"Discount on Total Spend\",\"type\":\"RESELLER_MARGIN\"}],\"invoice.month\":\"202408\",\"cost_type\":\"regular\",\"adjustment_info.id\":null,\"adjustment_info.description\":null,\"adjustment_info.mode\":null,\"adjustment_info.type\":null,\"tags\":[],\"cost_at_list\":\"0.007242\",\"transaction_type\":\"GOOGLE\",\"seller_name\":null,\"contract_price\":null,\"discount\":null,\"list_price\":null,\"list_cost\":null,\"negotiated_savings\":null}', '{\"account_id\":\"010FD9\",\"billing_account_id\":\"010FD9-DDC133-A1EFFB\",\"service.id\":\"2062-016F-44A2\",\"service.description\":\"Support\",\"sku.id\":\"5467-9D2D-5B98\",\"sku.description\":\"GCP Support Variable fee\",\"usage_start_time\":\"2024-08-07 22:00:00.000000 UTC\",\"usage_end_time\":\"2024-08-07 23:00:00.000000 UTC\",\"project.id\":null,\"project.number\":null,\"project.name\":null,\"project.labels\":[],\"project.ancestry_numbers\":null,\"project.ancestors\":[],\"labels\":[],\"system_labels\":[],\"location.location\":null,\"location.country\":null,\"location.region\":null,\"location.zone\":null,\"export_time\":\"2024-08-08 03:57:55.110065 UTC\",\"cost\":\"1e-06\",\"currency\":\"USD\",\"currency_conversion_rate\":\"1.0\",\"usage.amount\":\"3.1e-05\",\"usage.unit\":\"USD\",\"usage.amount_in_pricing_units\":\"3.1e-05\",\"usage.pricing_unit\":\"USD\",\"credits\":[],\"invoice.month\":\"202408\",\"cost_type\":\"regular\",\"adjustment_info.id\":null,\"adjustment_info.description\":null,\"adjustment_info.mode\":null,\"adjustment_info.type\":null,\"tags\":[],\"cost_at_list\":\"1e-06\",\"transaction_type\":\"GOOGLE\",\"seller_name\":null,\"contract_price\":null,\"discount\":null,\"list_price\":null,\"list_cost\":null,\"negotiated_savings\":null}', '{\"account_id\":\"0111E8\",\"billing_account_id\":\"0111E8-3CA7AF-575ED3\",\"service.id\":\"2062-016F-44A2\",\"service.description\":\"Support\",\"sku.id\":\"5467-9D2D-5B98\",\"sku.description\":\"GCP Support Variable fee\",\"usage_start_time\":\"2024-08-18 13:00:00.000000 UTC\",\"usage_end_time\":\"2024-08-18 14:00:00.000000 UTC\",\"project.id\":null,\"project.number\":null,\"project.name\":null,\"project.labels\":[],\"project.ancestry_numbers\":null,\"project.ancestors\":[],\"labels\":[],\"system_labels\":[],\"location.location\":null,\"location.country\":null,\"location.region\":null,\"location.zone\":null,\"export_time\":\"2024-08-18 20:06:01.867706 UTC\",\"cost\":\"0.012055\",\"currency\":\"USD\",\"currency_conversion_rate\":\"1.0\",\"usage.amount\":\"0.301434\",\"usage.unit\":\"USD\",\"usage.amount_in_pricing_units\":\"0.301434\",\"usage.pricing_unit\":\"USD\",\"credits\":[{\"name\":\"Discount on Total Spend\",\"amount\":\"-0.001448\",\"full_name\":null,\"id\":\"Discount on Total Spend\",\"type\":\"RESELLER_MARGIN\"}],\"invoice.month\":\"202408\",\"cost_type\":\"regular\",\"adjustment_info.id\":null,\"adjustment_info.description\":null,\"adjustment_info.mode\":null,\"adjustment_info.type\":null,\"tags\":[],\"cost_at_list\":\"0.012055\",\"transaction_type\":\"GOOGLE\",\"seller_name\":null,\"contract_price\":null,\"discount\":null,\"list_price\":null,\"list_cost\":null,\"negotiated_savings\":null}', '{\"account_id\":\"0111E8\",\"billing_account_id\":\"0111E8-3CA7AF-575ED3\",\"service.id\":\"2062-016F-44A2\",\"service.description\":\"Support\",\"sku.id\":\"5467-9D2D-5B98\",\"sku.description\":\"GCP Support Variable fee\",\"usage_start_time\":\"2024-08-11 21:00:00.000000 UTC\",\"usage_end_time\":\"2024-08-11 22:00:00.000000 UTC\",\"project.id\":null,\"project.number\":null,\"project.name\":null,\"project.labels\":[],\"project.ancestry_numbers\":null,\"project.ancestors\":[],\"labels\":[],\"system_labels\":[],\"location.location\":null,\"location.country\":null,\"location.region\":null,\"location.zone\":null,\"export_time\":\"2024-08-12 02:12:45.602702 UTC\",\"cost\":\"0.000176\",\"currency\":\"USD\",\"currency_conversion_rate\":\"1.0\",\"usage.amount\":\"0.0044\",\"usage.unit\":\"USD\",\"usage.amount_in_pricing_units\":\"0.0044\",\"usage.pricing_unit\":\"USD\",\"credits\":[{\"name\":\"Discount on Total Spend\",\"amount\":\"-2.2e-05\",\"full_name\":null,\"id\":\"Discount on Total Spend\",\"type\":\"RESELLER_MARGIN\"}],\"invoice.month\":\"202408\",\"cost_type\":\"regular\",\"adjustment_info.id\":null,\"adjustment_info.description\":null,\"adjustment_info.mode\":null,\"adjustment_info.type\":null,\"tags\":[],\"cost_at_list\":\"0.000176\",\"transaction_type\":\"GOOGLE\",\"seller_name\":null,\"contract_price\":null,\"discount\":null,\"list_price\":null,\"list_cost\":null,\"negotiated_savings\":null}', '{\"account_id\":\"0111E8\",\"billing_account_id\":\"0111E8-3CA7AF-575ED3\",\"service.id\":\"2062-016F-44A2\",\"service.description\":\"Support\",\"sku.id\":\"5467-9D2D-5B98\",\"sku.description\":\"GCP Support Variable fee\",\"usage_start_time\":\"2024-08-06 01:00:00.000000 UTC\",\"usage_end_time\":\"2024-08-06 02:00:00.000000 UTC\",\"project.id\":null,\"project.number\":null,\"project.name\":null,\"project.labels\":[],\"project.ancestry_numbers\":null,\"project.ancestors\":[],\"labels\":[],\"system_labels\":[],\"location.location\":null,\"location.country\":null,\"location.region\":null,\"location.zone\":null,\"export_time\":\"2024-08-06 12:38:41.343226 UTC\",\"cost\":\"0.008632\",\"currency\":\"USD\",\"currency_conversion_rate\":\"1.0\",\"usage.amount\":\"0.215819\",\"usage.unit\":\"USD\",\"usage.amount_in_pricing_units\":\"0.215819\",\"usage.pricing_unit\":\"USD\",\"credits\":[{\"name\":\"Discount on Total Spend\",\"amount\":\"-0.001036\",\"full_name\":null,\"id\":\"Discount on Total Spend\",\"type\":\"RESELLER_MARGIN\"}],\"invoice.month\":\"202408\",\"cost_type\":\"regular\",\"adjustment_info.id\":null,\"adjustment_info.description\":null,\"adjustment_info.mode\":null,\"adjustment_info.type\":null,\"tags\":[],\"cost_at_list\":\"0.008632\",\"transaction_type\":\"GOOGLE\",\"seller_name\":null,\"contract_price\":null,\"discount\":null,\"list_price\":null,\"list_cost\":null,\"negotiated_savings\":null}', '{\"account_id\":\"0111E8\",\"billing_account_id\":\"0111E8-3CA7AF-575ED3\",\"service.id\":\"2062-016F-44A2\",\"service.description\":\"Support\",\"sku.id\":\"5467-9D2D-5B98\",\"sku.description\":\"GCP Support Variable fee\",\"usage_start_time\":\"2024-08-28 17:00:00.000000 UTC\",\"usage_end_time\":\"2024-08-28 18:00:00.000000 UTC\",\"project.id\":null,\"project.number\":null,\"project.name\":null,\"project.labels\":[],\"project.ancestry_numbers\":null,\"project.ancestors\":[],\"labels\":[],\"system_labels\":[],\"location.location\":null,\"location.country\":null,\"location.region\":null,\"location.zone\":null,\"export_time\":\"2024-08-29 03:40:11.062982 UTC\",\"cost\":\"0.001945\",\"currency\":\"USD\",\"currency_conversion_rate\":\"1.0\",\"usage.amount\":\"0.04864\",\"usage.unit\":\"USD\",\"usage.amount_in_pricing_units\":\"0.04864\",\"usage.pricing_unit\":\"USD\",\"credits\":[{\"name\":\"Discount on Total Spend\",\"amount\":\"-0.000233\",\"full_name\":null,\"id\":\"Discount on Total Spend\",\"type\":\"RESELLER_MARGIN\"}],\"invoice.month\":\"202408\",\"cost_type\":\"regular\",\"adjustment_info.id\":null,\"adjustment_info.description\":null,\"adjustment_info.mode\":null,\"adjustment_info.type\":null,\"tags\":[],\"cost_at_list\":\"0.001945\",\"transaction_type\":\"GOOGLE\",\"seller_name\":null,\"contract_price\":null,\"discount\":null,\"list_price\":null,\"list_cost\":null,\"negotiated_savings\":null}', '{\"account_id\":\"0123FE\",\"billing_account_id\":\"0123FE-D490A8-19E297\",\"service.id\":\"2062-016F-44A2\",\"service.description\":\"Support\",\"sku.id\":\"5467-9D2D-5B98\",\"sku.description\":\"GCP Support Variable fee\",\"usage_start_time\":\"2024-09-01 01:00:00.000000 UTC\",\"usage_end_time\":\"2024-09-01 02:00:00.000000 UTC\",\"project.id\":null,\"project.number\":null,\"project.name\":null,\"project.labels\":[],\"project.ancestry_numbers\":null,\"project.ancestors\":[],\"labels\":[],\"system_labels\":[],\"location.location\":null,\"location.country\":null,\"location.region\":null,\"location.zone\":null,\"export_time\":\"2024-09-01 12:02:19.080977 UTC\",\"cost\":\"0.496863\",\"currency\":\"USD\",\"currency_conversion_rate\":\"1.0\",\"usage.amount\":\"12.421594\",\"usage.unit\":\"USD\",\"usage.amount_in_pricing_units\":\"12.421594\",\"usage.pricing_unit\":\"USD\",\"credits\":[{\"name\":\"Discount on Total Spend\",\"amount\":\"-0.059624\",\"full_name\":null,\"id\":\"Discount on Total Spend\",\"type\":\"RESELLER_MARGIN\"}],\"invoice.month\":\"202408\",\"cost_type\":\"regular\",\"adjustment_info.id\":null,\"adjustment_info.description\":null,\"adjustment_info.mode\":null,\"adjustment_info.type\":null,\"tags\":[],\"cost_at_list\":\"0.496863\",\"transaction_type\":\"GOOGLE\",\"seller_name\":null,\"contract_price\":null,\"discount\":null,\"list_price\":null,\"list_cost\":null,\"negotiated_savings\":null}', '{\"account_id\":\"0123FE\",\"billing_account_id\":\"0123FE-D490A8-19E297\",\"service.id\":\"2062-016F-44A2\",\"service.description\":\"Support\",\"sku.id\":\"5467-9D2D-5B98\",\"sku.description\":\"GCP Support Variable fee\",\"usage_start_time\":\"2024-08-07 07:00:00.000000 UTC\",\"usage_end_time\":\"2024-08-07 08:00:00.000000 UTC\",\"project.id\":null,\"project.number\":null,\"project.name\":null,\"project.labels\":[],\"project.ancestry_numbers\":null,\"project.ancestors\":[],\"labels\":[],\"system_labels\":[],\"location.location\":null,\"location.country\":null,\"location.region\":null,\"location.zone\":null,\"export_time\":\"2024-08-07 13:00:56.060305 UTC\",\"cost\":\"0.047533\",\"currency\":\"USD\",\"currency_conversion_rate\":\"1.0\",\"usage.amount\":\"1.188347\",\"usage.unit\":\"USD\",\"usage.amount_in_pricing_units\":\"1.188347\",\"usage.pricing_unit\":\"USD\",\"credits\":[{\"name\":\"Discount on Total Spend\",\"amount\":\"-0.005704\",\"full_name\":null,\"id\":\"Discount on Total Spend\",\"type\":\"RESELLER_MARGIN\"}],\"invoice.month\":\"202408\",\"cost_type\":\"regular\",\"adjustment_info.id\":null,\"adjustment_info.description\":null,\"adjustment_info.mode\":null,\"adjustment_info.type\":null,\"tags\":[],\"cost_at_list\":\"0.047533\",\"transaction_type\":\"GOOGLE\",\"seller_name\":null,\"contract_price\":null,\"discount\":null,\"list_price\":null,\"list_cost\":null,\"negotiated_savings\":null}', '{\"account_id\":\"0123FE\",\"billing_account_id\":\"0123FE-D490A8-19E297\",\"service.id\":\"2062-016F-44A2\",\"service.description\":\"Support\",\"sku.id\":\"5467-9D2D-5B98\",\"sku.description\":\"GCP Support Variable fee\",\"usage_start_time\":\"2024-08-18 18:00:00.000000 UTC\",\"usage_end_time\":\"2024-08-18 19:00:00.000000 UTC\",\"project.id\":null,\"project.number\":null,\"project.name\":null,\"project.labels\":[],\"project.ancestry_numbers\":null,\"project.ancestors\":[],\"labels\":[],\"system_labels\":[],\"location.location\":null,\"location.country\":null,\"location.region\":null,\"location.zone\":null,\"export_time\":\"2024-08-19 04:56:20.860180 UTC\",\"cost\":\"0.123088\",\"currency\":\"USD\",\"currency_conversion_rate\":\"1.0\",\"usage.amount\":\"3.0772\",\"usage.unit\":\"USD\",\"usage.amount_in_pricing_units\":\"3.0772\",\"usage.pricing_unit\":\"USD\",\"credits\":[{\"name\":\"Discount on Total Spend\",\"amount\":\"-0.014785\",\"full_name\":null,\"id\":\"Discount on Total Spend\",\"type\":\"RESELLER_MARGIN\"}],\"invoice.month\":\"202408\",\"cost_type\":\"regular\",\"adjustment_info.id\":null,\"adjustment_info.description\":null,\"adjustment_info.mode\":null,\"adjustment_info.type\":null,\"tags\":[],\"cost_at_list\":\"0.123088\",\"transaction_type\":\"GOOGLE\",\"seller_name\":null,\"contract_price\":null,\"discount\":null,\"list_price\":null,\"list_cost\":null,\"negotiated_savings\":null}', '{\"account_id\":\"0123FE\",\"billing_account_id\":\"0123FE-D490A8-19E297\",\"service.id\":\"2062-016F-44A2\",\"service.description\":\"Support\",\"sku.id\":\"5467-9D2D-5B98\",\"sku.description\":\"GCP Support Variable fee\",\"usage_start_time\":\"2024-08-14 19:00:00.000000 UTC\",\"usage_end_time\":\"2024-08-14 20:00:00.000000 UTC\",\"project.id\":null,\"project.number\":null,\"project.name\":null,\"project.labels\":[],\"project.ancestry_numbers\":null,\"project.ancestors\":[],\"labels\":[],\"system_labels\":[],\"location.location\":null,\"location.country\":null,\"location.region\":null,\"location.zone\":null,\"export_time\":\"2024-08-15 03:06:49.286681 UTC\",\"cost\":\"0.53048\",\"currency\":\"USD\",\"currency_conversion_rate\":\"1.0\",\"usage.amount\":\"13.262134\",\"usage.unit\":\"USD\",\"usage.amount_in_pricing_units\":\"13.262134\",\"usage.pricing_unit\":\"USD\",\"credits\":[{\"name\":\"Discount on Total Spend\",\"amount\":\"-0.063658\",\"full_name\":null,\"id\":\"Discount on Total Spend\",\"type\":\"RESELLER_MARGIN\"}],\"invoice.month\":\"202408\",\"cost_type\":\"regular\",\"adjustment_info.id\":null,\"adjustment_info.description\":null,\"adjustment_info.mode\":null,\"adjustment_info.type\":null,\"tags\":[],\"cost_at_list\":\"0.53048\",\"transaction_type\":\"GOOGLE\",\"seller_name\":null,\"contract_price\":null,\"discount\":null,\"list_price\":null,\"list_cost\":null,\"negotiated_savings\":null}', '{\"account_id\":\"0123FE\",\"billing_account_id\":\"0123FE-D490A8-19E297\",\"service.id\":\"2062-016F-44A2\",\"service.description\":\"Support\",\"sku.id\":\"5467-9D2D-5B98\",\"sku.description\":\"GCP Support Variable fee\",\"usage_start_time\":\"2024-08-05 00:00:00.000000 UTC\",\"usage_end_time\":\"2024-08-05 01:00:00.000000 UTC\",\"project.id\":null,\"project.number\":null,\"project.name\":null,\"project.labels\":[],\"project.ancestry_numbers\":null,\"project.ancestors\":[],\"labels\":[],\"system_labels\":[],\"location.location\":null,\"location.country\":null,\"location.region\":null,\"location.zone\":null,\"export_time\":\"2024-08-05 08:27:04.573090 UTC\",\"cost\":\"0.709969\",\"currency\":\"USD\",\"currency_conversion_rate\":\"1.0\",\"usage.amount\":\"17.749303\",\"usage.unit\":\"USD\",\"usage.amount_in_pricing_units\":\"17.749303\",\"usage.pricing_unit\":\"USD\",\"credits\":[{\"name\":\"Discount on Total Spend\",\"amount\":\"-0.085195\",\"full_name\":null,\"id\":\"Discount on Total Spend\",\"type\":\"RESELLER_MARGIN\"}],\"invoice.month\":\"202408\",\"cost_type\":\"regular\",\"adjustment_info.id\":null,\"adjustment_info.description\":null,\"adjustment_info.mode\":null,\"adjustment_info.type\":null,\"tags\":[],\"cost_at_list\":\"0.709969\",\"transaction_type\":\"GOOGLE\",\"seller_name\":null,\"contract_price\":null,\"discount\":null,\"list_price\":null,\"list_cost\":null,\"negotiated_savings\":null}', '{\"account_id\":\"0123FE\",\"billing_account_id\":\"0123FE-D490A8-19E297\",\"service.id\":\"2062-016F-44A2\",\"service.description\":\"Support\",\"sku.id\":\"5467-9D2D-5B98\",\"sku.description\":\"GCP Support Variable fee\",\"usage_start_time\":\"2024-08-01 13:00:00.000000 UTC\",\"usage_end_time\":\"2024-08-01 14:00:00.000000 UTC\",\"project.id\":null,\"project.number\":null,\"project.name\":null,\"project.labels\":[],\"project.ancestry_numbers\":null,\"project.ancestors\":[],\"labels\":[],\"system_labels\":[],\"location.location\":null,\"location.country\":null,\"location.region\":null,\"location.zone\":null,\"export_time\":\"2024-08-01 20:58:30.366530 UTC\",\"cost\":\"0.197282\",\"currency\":\"USD\",\"currency_conversion_rate\":\"1.0\",\"usage.amount\":\"4.932158\",\"usage.unit\":\"USD\",\"usage.amount_in_pricing_units\":\"4.932158\",\"usage.pricing_unit\":\"USD\",\"credits\":[{\"name\":\"Discount on Total Spend\",\"amount\":\"-0.023673\",\"full_name\":null,\"id\":\"Discount on Total Spend\",\"type\":\"RESELLER_MARGIN\"}],\"invoice.month\":\"202408\",\"cost_type\":\"regular\",\"adjustment_info.id\":null,\"adjustment_info.description\":null,\"adjustment_info.mode\":null,\"adjustment_info.type\":null,\"tags\":[],\"cost_at_list\":\"0.197282\",\"transaction_type\":\"GOOGLE\",\"seller_name\":null,\"contract_price\":null,\"discount\":null,\"list_price\":null,\"list_cost\":null,\"negotiated_savings\":null}', '{\"account_id\":\"01411F\",\"billing_account_id\":\"01411F-36AF86-E6F3C1\",\"service.id\":\"2062-016F-44A2\",\"service.description\":\"Support\",\"sku.id\":\"5467-9D2D-5B98\",\"sku.description\":\"GCP Support Variable fee\",\"usage_start_time\":\"2024-08-17 01:00:00.000000 UTC\",\"usage_end_time\":\"2024-08-17 02:00:00.000000 UTC\",\"project.id\":null,\"project.number\":null,\"project.name\":null,\"project.labels\":[],\"project.ancestry_numbers\":null,\"project.ancestors\":[],\"labels\":[],\"system_labels\":[],\"location.location\":null,\"location.country\":null,\"location.region\":null,\"location.zone\":null,\"export_time\":\"2024-08-17 11:16:27.830790 UTC\",\"cost\":\"1e-05\",\"currency\":\"USD\",\"currency_conversion_rate\":\"1.0\",\"usage.amount\":\"0.000274\",\"usage.unit\":\"USD\",\"usage.amount_in_pricing_units\":\"0.000274\",\"usage.pricing_unit\":\"USD\",\"credits\":[{\"name\":\"Discount on Total Spend\",\"amount\":\"-1e-06\",\"full_name\":null,\"id\":\"Discount on Total Spend\",\"type\":\"RESELLER_MARGIN\"}],\"invoice.month\":\"202408\",\"cost_type\":\"regular\",\"adjustment_info.id\":null,\"adjustment_info.description\":null,\"adjustment_info.mode\":null,\"adjustment_info.type\":null,\"tags\":[],\"cost_at_list\":\"1e-05\",\"transaction_type\":\"GOOGLE\",\"seller_name\":null,\"contract_price\":null,\"discount\":null,\"list_price\":null,\"list_cost\":null,\"negotiated_savings\":null}', '{\"account_id\":\"01411F\",\"billing_account_id\":\"01411F-36AF86-E6F3C1\",\"service.id\":\"2062-016F-44A2\",\"service.description\":\"Support\",\"sku.id\":\"5467-9D2D-5B98\",\"sku.description\":\"GCP Support Variable fee\",\"usage_start_time\":\"2024-08-03 11:00:00.000000 UTC\",\"usage_end_time\":\"2024-08-03 12:00:00.000000 UTC\",\"project.id\":null,\"project.number\":null,\"project.name\":null,\"project.labels\":[],\"project.ancestry_numbers\":null,\"project.ancestors\":[],\"labels\":[],\"system_labels\":[],\"location.location\":null,\"location.country\":null,\"location.region\":null,\"location.zone\":null,\"export_time\":\"2024-08-03 17:18:14.330845 UTC\",\"cost\":\"0.062911\",\"currency\":\"USD\",\"currency_conversion_rate\":\"1.0\",\"usage.amount\":\"1.57281\",\"usage.unit\":\"USD\",\"usage.amount_in_pricing_units\":\"1.57281\",\"usage.pricing_unit\":\"USD\",\"credits\":[{\"name\":\"Discount on Total Spend\",\"amount\":\"-0.00755\",\"full_name\":null,\"id\":\"Discount on Total Spend\",\"type\":\"RESELLER_MARGIN\"}],\"invoice.month\":\"202408\",\"cost_type\":\"regular\",\"adjustment_info.id\":null,\"adjustment_info.description\":null,\"adjustment_info.mode\":null,\"adjustment_info.type\":null,\"tags\":[],\"cost_at_list\":\"0.062911\",\"transaction_type\":\"GOOGLE\",\"seller_name\":null,\"contract_price\":null,\"discount\":null,\"list_price\":null,\"list_cost\":null,\"negotiated_savings\":null}', '{\"account_id\":\"01411F\",\"billing_account_id\":\"01411F-36AF86-E6F3C1\",\"service.id\":\"2062-016F-44A2\",\"service.description\":\"Support\",\"sku.id\":\"5467-9D2D-5B98\",\"sku.description\":\"GCP Support Variable fee\",\"usage_start_time\":\"2024-08-24 14:00:00.000000 UTC\",\"usage_end_time\":\"2024-08-24 15:00:00.000000 UTC\",\"project.id\":null,\"project.number\":null,\"project.name\":null,\"project.labels\":[],\"project.ancestry_numbers\":null,\"project.ancestors\":[],\"labels\":[],\"system_labels\":[],\"location.location\":null,\"location.country\":null,\"location.region\":null,\"location.zone\":null,\"export_time\":\"2024-08-25 01:03:47.021696 UTC\",\"cost\":\"0.122116\",\"currency\":\"USD\",\"currency_conversion_rate\":\"1.0\",\"usage.amount\":\"3.052921\",\"usage.unit\":\"USD\",\"usage.amount_in_pricing_units\":\"3.052921\",\"usage.pricing_unit\":\"USD\",\"credits\":[{\"name\":\"Discount on Total Spend\",\"amount\":\"-0.014654\",\"full_name\":null,\"id\":\"Discount on Total Spend\",\"type\":\"RESELLER_MARGIN\"}],\"invoice.month\":\"202408\",\"cost_type\":\"regular\",\"adjustment_info.id\":null,\"adjustment_info.description\":null,\"adjustment_info.mode\":null,\"adjustment_info.type\":null,\"tags\":[],\"cost_at_list\":\"0.122116\",\"transaction_type\":\"GOOGLE\",\"seller_name\":null,\"contract_price\":null,\"discount\":null,\"list_price\":null,\"list_cost\":null,\"negotiated_savings\":null}']\n"
          ]
        }
      ]
    },
    {
      "cell_type": "code",
      "source": [
        "# class SplitRow(beam.DoFn):\n",
        "#   def process(self,element,input_list):\n",
        "#     customer = element.split(',')\n",
        "#     if customer[0] not in input_list:\n",
        "#       return [customer]\n",
        "with beam.Pipeline() as pipeline:\n",
        "  plants = (\n",
        "      pipeline\n",
        "      |beam.io.ReadFromText('cdr_origin_20.json')\n",
        "      # |'Filter rows' >> beam.Filter(lambda row: row['account_id']=='01097B')\n",
        "      # |beam.ParDo(SplitRow(),input_list)  #can pass any number of side inputs in this ParDo function\n",
        "      |beam.Map(print)\n",
        "      |beam.io.WriteToText('data/output_cdr'))\n",
        "# customers = (\n",
        "#     p1\n",
        "#     |beam.io.ReadFromText('cdr_origin_20.json')\n",
        "#     # |'Filter rows' >> beam.Filter(lambda row: row['account_id']=='01097B')\n",
        "#     # |beam.ParDo(SplitRow(),input_list)  #can pass any number of side inputs in this ParDo function\n",
        "#     |beam.Map(print)\n",
        "#     |beam.io.WriteToText('data/output_cdr'))\n",
        "# )\n",
        "# p1.run()"
      ],
      "metadata": {
        "colab": {
          "base_uri": "https://localhost:8080/"
        },
        "id": "lFtqGfLfSCB2",
        "outputId": "6ff2405f-c0a0-4b94-d5ed-d5ccecd9d1b2"
      },
      "execution_count": 41,
      "outputs": [
        {
          "output_type": "stream",
          "name": "stdout",
          "text": [
            "{\"account_id\":\"01097B\",\"billing_account_id\":\"01097B-B52197-52F28F\",\"service.id\":\"2062-016F-44A2\",\"service.description\":\"Support\",\"sku.id\":\"5467-9D2D-5B98\",\"sku.description\":\"GCP Support Variable fee\",\"usage_start_time\":\"2024-08-06 09:00:00.000000 UTC\",\"usage_end_time\":\"2024-08-06 10:00:00.000000 UTC\",\"project.id\":null,\"project.number\":null,\"project.name\":null,\"project.labels\":[],\"project.ancestry_numbers\":null,\"project.ancestors\":[],\"labels\":[],\"system_labels\":[],\"location.location\":null,\"location.country\":null,\"location.region\":null,\"location.zone\":null,\"export_time\":\"2024-08-06 17:35:05.487018 UTC\",\"cost\":\"0.011923\",\"currency\":\"USD\",\"currency_conversion_rate\":\"1.0\",\"usage.amount\":\"0.298126\",\"usage.unit\":\"USD\",\"usage.amount_in_pricing_units\":\"0.298126\",\"usage.pricing_unit\":\"USD\",\"credits\":[{\"name\":\"Discount on Total Spend\",\"amount\":\"-0.001431\",\"full_name\":null,\"id\":\"Discount on Total Spend\",\"type\":\"RESELLER_MARGIN\"}],\"invoice.month\":\"202408\",\"cost_type\":\"regular\",\"adjustment_info.id\":null,\"adjustment_info.description\":null,\"adjustment_info.mode\":null,\"adjustment_info.type\":null,\"tags\":[],\"cost_at_list\":\"0.011923\",\"transaction_type\":\"GOOGLE\",\"seller_name\":null,\"contract_price\":null,\"discount\":null,\"list_price\":null,\"list_cost\":null,\"negotiated_savings\":null}\n",
            "{\"account_id\":\"01097B\",\"billing_account_id\":\"01097B-B52197-52F28F\",\"service.id\":\"2062-016F-44A2\",\"service.description\":\"Support\",\"sku.id\":\"5467-9D2D-5B98\",\"sku.description\":\"GCP Support Variable fee\",\"usage_start_time\":\"2024-08-23 01:00:00.000000 UTC\",\"usage_end_time\":\"2024-08-23 02:00:00.000000 UTC\",\"project.id\":null,\"project.number\":null,\"project.name\":null,\"project.labels\":[],\"project.ancestry_numbers\":null,\"project.ancestors\":[],\"labels\":[],\"system_labels\":[],\"location.location\":null,\"location.country\":null,\"location.region\":null,\"location.zone\":null,\"export_time\":\"2024-08-23 11:24:35.755447 UTC\",\"cost\":\"0.003727\",\"currency\":\"USD\",\"currency_conversion_rate\":\"1.0\",\"usage.amount\":\"0.093204\",\"usage.unit\":\"USD\",\"usage.amount_in_pricing_units\":\"0.093204\",\"usage.pricing_unit\":\"USD\",\"credits\":[{\"name\":\"Discount on Total Spend\",\"amount\":\"-0.000447\",\"full_name\":null,\"id\":\"Discount on Total Spend\",\"type\":\"RESELLER_MARGIN\"}],\"invoice.month\":\"202408\",\"cost_type\":\"regular\",\"adjustment_info.id\":null,\"adjustment_info.description\":null,\"adjustment_info.mode\":null,\"adjustment_info.type\":null,\"tags\":[],\"cost_at_list\":\"0.003727\",\"transaction_type\":\"GOOGLE\",\"seller_name\":null,\"contract_price\":null,\"discount\":null,\"list_price\":null,\"list_cost\":null,\"negotiated_savings\":null}\n",
            "{\"account_id\":\"01097B\",\"billing_account_id\":\"01097B-B52197-52F28F\",\"service.id\":\"2062-016F-44A2\",\"service.description\":\"Support\",\"sku.id\":\"5467-9D2D-5B98\",\"sku.description\":\"GCP Support Variable fee\",\"usage_start_time\":\"2024-08-11 17:00:00.000000 UTC\",\"usage_end_time\":\"2024-08-11 18:00:00.000000 UTC\",\"project.id\":null,\"project.number\":null,\"project.name\":null,\"project.labels\":[],\"project.ancestry_numbers\":null,\"project.ancestors\":[],\"labels\":[],\"system_labels\":[],\"location.location\":null,\"location.country\":null,\"location.region\":null,\"location.zone\":null,\"export_time\":\"2024-08-12 02:12:45.602702 UTC\",\"cost\":\"2e-06\",\"currency\":\"USD\",\"currency_conversion_rate\":\"1.0\",\"usage.amount\":\"6.1e-05\",\"usage.unit\":\"USD\",\"usage.amount_in_pricing_units\":\"6.1e-05\",\"usage.pricing_unit\":\"USD\",\"credits\":[],\"invoice.month\":\"202408\",\"cost_type\":\"regular\",\"adjustment_info.id\":null,\"adjustment_info.description\":null,\"adjustment_info.mode\":null,\"adjustment_info.type\":null,\"tags\":[],\"cost_at_list\":\"2e-06\",\"transaction_type\":\"GOOGLE\",\"seller_name\":null,\"contract_price\":null,\"discount\":null,\"list_price\":null,\"list_cost\":null,\"negotiated_savings\":null}\n",
            "{\"account_id\":\"010FD9\",\"billing_account_id\":\"010FD9-DDC133-A1EFFB\",\"service.id\":\"2062-016F-44A2\",\"service.description\":\"Support\",\"sku.id\":\"5467-9D2D-5B98\",\"sku.description\":\"GCP Support Variable fee\",\"usage_start_time\":\"2024-08-21 00:00:00.000000 UTC\",\"usage_end_time\":\"2024-08-21 01:00:00.000000 UTC\",\"project.id\":null,\"project.number\":null,\"project.name\":null,\"project.labels\":[],\"project.ancestry_numbers\":null,\"project.ancestors\":[],\"labels\":[],\"system_labels\":[],\"location.location\":null,\"location.country\":null,\"location.region\":null,\"location.zone\":null,\"export_time\":\"2024-08-21 07:17:49.309164 UTC\",\"cost\":\"0.002986\",\"currency\":\"USD\",\"currency_conversion_rate\":\"1.0\",\"usage.amount\":\"0.074688\",\"usage.unit\":\"USD\",\"usage.amount_in_pricing_units\":\"0.074688\",\"usage.pricing_unit\":\"USD\",\"credits\":[{\"name\":\"Discount on Total Spend\",\"amount\":\"-0.000359\",\"full_name\":null,\"id\":\"Discount on Total Spend\",\"type\":\"RESELLER_MARGIN\"}],\"invoice.month\":\"202408\",\"cost_type\":\"regular\",\"adjustment_info.id\":null,\"adjustment_info.description\":null,\"adjustment_info.mode\":null,\"adjustment_info.type\":null,\"tags\":[],\"cost_at_list\":\"0.002986\",\"transaction_type\":\"GOOGLE\",\"seller_name\":null,\"contract_price\":null,\"discount\":null,\"list_price\":null,\"list_cost\":null,\"negotiated_savings\":null}\n",
            "{\"account_id\":\"010FD9\",\"billing_account_id\":\"010FD9-DDC133-A1EFFB\",\"service.id\":\"2062-016F-44A2\",\"service.description\":\"Support\",\"sku.id\":\"5467-9D2D-5B98\",\"sku.description\":\"GCP Support Variable fee\",\"usage_start_time\":\"2024-08-28 16:00:00.000000 UTC\",\"usage_end_time\":\"2024-08-28 17:00:00.000000 UTC\",\"project.id\":null,\"project.number\":null,\"project.name\":null,\"project.labels\":[],\"project.ancestry_numbers\":null,\"project.ancestors\":[],\"labels\":[],\"system_labels\":[],\"location.location\":null,\"location.country\":null,\"location.region\":null,\"location.zone\":null,\"export_time\":\"2024-08-28 23:16:40.038715 UTC\",\"cost\":\"0.001459\",\"currency\":\"USD\",\"currency_conversion_rate\":\"1.0\",\"usage.amount\":\"0.036506\",\"usage.unit\":\"USD\",\"usage.amount_in_pricing_units\":\"0.036506\",\"usage.pricing_unit\":\"USD\",\"credits\":[{\"name\":\"Discount on Total Spend\",\"amount\":\"-0.000174\",\"full_name\":null,\"id\":\"Discount on Total Spend\",\"type\":\"RESELLER_MARGIN\"}],\"invoice.month\":\"202408\",\"cost_type\":\"regular\",\"adjustment_info.id\":null,\"adjustment_info.description\":null,\"adjustment_info.mode\":null,\"adjustment_info.type\":null,\"tags\":[],\"cost_at_list\":\"0.001459\",\"transaction_type\":\"GOOGLE\",\"seller_name\":null,\"contract_price\":null,\"discount\":null,\"list_price\":null,\"list_cost\":null,\"negotiated_savings\":null}\n",
            "{\"account_id\":\"010FD9\",\"billing_account_id\":\"010FD9-DDC133-A1EFFB\",\"service.id\":\"2062-016F-44A2\",\"service.description\":\"Support\",\"sku.id\":\"5467-9D2D-5B98\",\"sku.description\":\"GCP Support Variable fee\",\"usage_start_time\":\"2024-08-26 18:00:00.000000 UTC\",\"usage_end_time\":\"2024-08-26 19:00:00.000000 UTC\",\"project.id\":null,\"project.number\":null,\"project.name\":null,\"project.labels\":[],\"project.ancestry_numbers\":null,\"project.ancestors\":[],\"labels\":[],\"system_labels\":[],\"location.location\":null,\"location.country\":null,\"location.region\":null,\"location.zone\":null,\"export_time\":\"2024-08-27 01:03:41.701810 UTC\",\"cost\":\"0.007242\",\"currency\":\"USD\",\"currency_conversion_rate\":\"1.0\",\"usage.amount\":\"0.181076\",\"usage.unit\":\"USD\",\"usage.amount_in_pricing_units\":\"0.181076\",\"usage.pricing_unit\":\"USD\",\"credits\":[{\"name\":\"Discount on Total Spend\",\"amount\":\"-0.000869\",\"full_name\":null,\"id\":\"Discount on Total Spend\",\"type\":\"RESELLER_MARGIN\"}],\"invoice.month\":\"202408\",\"cost_type\":\"regular\",\"adjustment_info.id\":null,\"adjustment_info.description\":null,\"adjustment_info.mode\":null,\"adjustment_info.type\":null,\"tags\":[],\"cost_at_list\":\"0.007242\",\"transaction_type\":\"GOOGLE\",\"seller_name\":null,\"contract_price\":null,\"discount\":null,\"list_price\":null,\"list_cost\":null,\"negotiated_savings\":null}\n",
            "{\"account_id\":\"010FD9\",\"billing_account_id\":\"010FD9-DDC133-A1EFFB\",\"service.id\":\"2062-016F-44A2\",\"service.description\":\"Support\",\"sku.id\":\"5467-9D2D-5B98\",\"sku.description\":\"GCP Support Variable fee\",\"usage_start_time\":\"2024-08-07 22:00:00.000000 UTC\",\"usage_end_time\":\"2024-08-07 23:00:00.000000 UTC\",\"project.id\":null,\"project.number\":null,\"project.name\":null,\"project.labels\":[],\"project.ancestry_numbers\":null,\"project.ancestors\":[],\"labels\":[],\"system_labels\":[],\"location.location\":null,\"location.country\":null,\"location.region\":null,\"location.zone\":null,\"export_time\":\"2024-08-08 03:57:55.110065 UTC\",\"cost\":\"1e-06\",\"currency\":\"USD\",\"currency_conversion_rate\":\"1.0\",\"usage.amount\":\"3.1e-05\",\"usage.unit\":\"USD\",\"usage.amount_in_pricing_units\":\"3.1e-05\",\"usage.pricing_unit\":\"USD\",\"credits\":[],\"invoice.month\":\"202408\",\"cost_type\":\"regular\",\"adjustment_info.id\":null,\"adjustment_info.description\":null,\"adjustment_info.mode\":null,\"adjustment_info.type\":null,\"tags\":[],\"cost_at_list\":\"1e-06\",\"transaction_type\":\"GOOGLE\",\"seller_name\":null,\"contract_price\":null,\"discount\":null,\"list_price\":null,\"list_cost\":null,\"negotiated_savings\":null}\n",
            "{\"account_id\":\"0111E8\",\"billing_account_id\":\"0111E8-3CA7AF-575ED3\",\"service.id\":\"2062-016F-44A2\",\"service.description\":\"Support\",\"sku.id\":\"5467-9D2D-5B98\",\"sku.description\":\"GCP Support Variable fee\",\"usage_start_time\":\"2024-08-18 13:00:00.000000 UTC\",\"usage_end_time\":\"2024-08-18 14:00:00.000000 UTC\",\"project.id\":null,\"project.number\":null,\"project.name\":null,\"project.labels\":[],\"project.ancestry_numbers\":null,\"project.ancestors\":[],\"labels\":[],\"system_labels\":[],\"location.location\":null,\"location.country\":null,\"location.region\":null,\"location.zone\":null,\"export_time\":\"2024-08-18 20:06:01.867706 UTC\",\"cost\":\"0.012055\",\"currency\":\"USD\",\"currency_conversion_rate\":\"1.0\",\"usage.amount\":\"0.301434\",\"usage.unit\":\"USD\",\"usage.amount_in_pricing_units\":\"0.301434\",\"usage.pricing_unit\":\"USD\",\"credits\":[{\"name\":\"Discount on Total Spend\",\"amount\":\"-0.001448\",\"full_name\":null,\"id\":\"Discount on Total Spend\",\"type\":\"RESELLER_MARGIN\"}],\"invoice.month\":\"202408\",\"cost_type\":\"regular\",\"adjustment_info.id\":null,\"adjustment_info.description\":null,\"adjustment_info.mode\":null,\"adjustment_info.type\":null,\"tags\":[],\"cost_at_list\":\"0.012055\",\"transaction_type\":\"GOOGLE\",\"seller_name\":null,\"contract_price\":null,\"discount\":null,\"list_price\":null,\"list_cost\":null,\"negotiated_savings\":null}\n",
            "{\"account_id\":\"0111E8\",\"billing_account_id\":\"0111E8-3CA7AF-575ED3\",\"service.id\":\"2062-016F-44A2\",\"service.description\":\"Support\",\"sku.id\":\"5467-9D2D-5B98\",\"sku.description\":\"GCP Support Variable fee\",\"usage_start_time\":\"2024-08-11 21:00:00.000000 UTC\",\"usage_end_time\":\"2024-08-11 22:00:00.000000 UTC\",\"project.id\":null,\"project.number\":null,\"project.name\":null,\"project.labels\":[],\"project.ancestry_numbers\":null,\"project.ancestors\":[],\"labels\":[],\"system_labels\":[],\"location.location\":null,\"location.country\":null,\"location.region\":null,\"location.zone\":null,\"export_time\":\"2024-08-12 02:12:45.602702 UTC\",\"cost\":\"0.000176\",\"currency\":\"USD\",\"currency_conversion_rate\":\"1.0\",\"usage.amount\":\"0.0044\",\"usage.unit\":\"USD\",\"usage.amount_in_pricing_units\":\"0.0044\",\"usage.pricing_unit\":\"USD\",\"credits\":[{\"name\":\"Discount on Total Spend\",\"amount\":\"-2.2e-05\",\"full_name\":null,\"id\":\"Discount on Total Spend\",\"type\":\"RESELLER_MARGIN\"}],\"invoice.month\":\"202408\",\"cost_type\":\"regular\",\"adjustment_info.id\":null,\"adjustment_info.description\":null,\"adjustment_info.mode\":null,\"adjustment_info.type\":null,\"tags\":[],\"cost_at_list\":\"0.000176\",\"transaction_type\":\"GOOGLE\",\"seller_name\":null,\"contract_price\":null,\"discount\":null,\"list_price\":null,\"list_cost\":null,\"negotiated_savings\":null}\n",
            "{\"account_id\":\"0111E8\",\"billing_account_id\":\"0111E8-3CA7AF-575ED3\",\"service.id\":\"2062-016F-44A2\",\"service.description\":\"Support\",\"sku.id\":\"5467-9D2D-5B98\",\"sku.description\":\"GCP Support Variable fee\",\"usage_start_time\":\"2024-08-06 01:00:00.000000 UTC\",\"usage_end_time\":\"2024-08-06 02:00:00.000000 UTC\",\"project.id\":null,\"project.number\":null,\"project.name\":null,\"project.labels\":[],\"project.ancestry_numbers\":null,\"project.ancestors\":[],\"labels\":[],\"system_labels\":[],\"location.location\":null,\"location.country\":null,\"location.region\":null,\"location.zone\":null,\"export_time\":\"2024-08-06 12:38:41.343226 UTC\",\"cost\":\"0.008632\",\"currency\":\"USD\",\"currency_conversion_rate\":\"1.0\",\"usage.amount\":\"0.215819\",\"usage.unit\":\"USD\",\"usage.amount_in_pricing_units\":\"0.215819\",\"usage.pricing_unit\":\"USD\",\"credits\":[{\"name\":\"Discount on Total Spend\",\"amount\":\"-0.001036\",\"full_name\":null,\"id\":\"Discount on Total Spend\",\"type\":\"RESELLER_MARGIN\"}],\"invoice.month\":\"202408\",\"cost_type\":\"regular\",\"adjustment_info.id\":null,\"adjustment_info.description\":null,\"adjustment_info.mode\":null,\"adjustment_info.type\":null,\"tags\":[],\"cost_at_list\":\"0.008632\",\"transaction_type\":\"GOOGLE\",\"seller_name\":null,\"contract_price\":null,\"discount\":null,\"list_price\":null,\"list_cost\":null,\"negotiated_savings\":null}\n",
            "{\"account_id\":\"0111E8\",\"billing_account_id\":\"0111E8-3CA7AF-575ED3\",\"service.id\":\"2062-016F-44A2\",\"service.description\":\"Support\",\"sku.id\":\"5467-9D2D-5B98\",\"sku.description\":\"GCP Support Variable fee\",\"usage_start_time\":\"2024-08-28 17:00:00.000000 UTC\",\"usage_end_time\":\"2024-08-28 18:00:00.000000 UTC\",\"project.id\":null,\"project.number\":null,\"project.name\":null,\"project.labels\":[],\"project.ancestry_numbers\":null,\"project.ancestors\":[],\"labels\":[],\"system_labels\":[],\"location.location\":null,\"location.country\":null,\"location.region\":null,\"location.zone\":null,\"export_time\":\"2024-08-29 03:40:11.062982 UTC\",\"cost\":\"0.001945\",\"currency\":\"USD\",\"currency_conversion_rate\":\"1.0\",\"usage.amount\":\"0.04864\",\"usage.unit\":\"USD\",\"usage.amount_in_pricing_units\":\"0.04864\",\"usage.pricing_unit\":\"USD\",\"credits\":[{\"name\":\"Discount on Total Spend\",\"amount\":\"-0.000233\",\"full_name\":null,\"id\":\"Discount on Total Spend\",\"type\":\"RESELLER_MARGIN\"}],\"invoice.month\":\"202408\",\"cost_type\":\"regular\",\"adjustment_info.id\":null,\"adjustment_info.description\":null,\"adjustment_info.mode\":null,\"adjustment_info.type\":null,\"tags\":[],\"cost_at_list\":\"0.001945\",\"transaction_type\":\"GOOGLE\",\"seller_name\":null,\"contract_price\":null,\"discount\":null,\"list_price\":null,\"list_cost\":null,\"negotiated_savings\":null}\n",
            "{\"account_id\":\"0123FE\",\"billing_account_id\":\"0123FE-D490A8-19E297\",\"service.id\":\"2062-016F-44A2\",\"service.description\":\"Support\",\"sku.id\":\"5467-9D2D-5B98\",\"sku.description\":\"GCP Support Variable fee\",\"usage_start_time\":\"2024-09-01 01:00:00.000000 UTC\",\"usage_end_time\":\"2024-09-01 02:00:00.000000 UTC\",\"project.id\":null,\"project.number\":null,\"project.name\":null,\"project.labels\":[],\"project.ancestry_numbers\":null,\"project.ancestors\":[],\"labels\":[],\"system_labels\":[],\"location.location\":null,\"location.country\":null,\"location.region\":null,\"location.zone\":null,\"export_time\":\"2024-09-01 12:02:19.080977 UTC\",\"cost\":\"0.496863\",\"currency\":\"USD\",\"currency_conversion_rate\":\"1.0\",\"usage.amount\":\"12.421594\",\"usage.unit\":\"USD\",\"usage.amount_in_pricing_units\":\"12.421594\",\"usage.pricing_unit\":\"USD\",\"credits\":[{\"name\":\"Discount on Total Spend\",\"amount\":\"-0.059624\",\"full_name\":null,\"id\":\"Discount on Total Spend\",\"type\":\"RESELLER_MARGIN\"}],\"invoice.month\":\"202408\",\"cost_type\":\"regular\",\"adjustment_info.id\":null,\"adjustment_info.description\":null,\"adjustment_info.mode\":null,\"adjustment_info.type\":null,\"tags\":[],\"cost_at_list\":\"0.496863\",\"transaction_type\":\"GOOGLE\",\"seller_name\":null,\"contract_price\":null,\"discount\":null,\"list_price\":null,\"list_cost\":null,\"negotiated_savings\":null}\n",
            "{\"account_id\":\"0123FE\",\"billing_account_id\":\"0123FE-D490A8-19E297\",\"service.id\":\"2062-016F-44A2\",\"service.description\":\"Support\",\"sku.id\":\"5467-9D2D-5B98\",\"sku.description\":\"GCP Support Variable fee\",\"usage_start_time\":\"2024-08-07 07:00:00.000000 UTC\",\"usage_end_time\":\"2024-08-07 08:00:00.000000 UTC\",\"project.id\":null,\"project.number\":null,\"project.name\":null,\"project.labels\":[],\"project.ancestry_numbers\":null,\"project.ancestors\":[],\"labels\":[],\"system_labels\":[],\"location.location\":null,\"location.country\":null,\"location.region\":null,\"location.zone\":null,\"export_time\":\"2024-08-07 13:00:56.060305 UTC\",\"cost\":\"0.047533\",\"currency\":\"USD\",\"currency_conversion_rate\":\"1.0\",\"usage.amount\":\"1.188347\",\"usage.unit\":\"USD\",\"usage.amount_in_pricing_units\":\"1.188347\",\"usage.pricing_unit\":\"USD\",\"credits\":[{\"name\":\"Discount on Total Spend\",\"amount\":\"-0.005704\",\"full_name\":null,\"id\":\"Discount on Total Spend\",\"type\":\"RESELLER_MARGIN\"}],\"invoice.month\":\"202408\",\"cost_type\":\"regular\",\"adjustment_info.id\":null,\"adjustment_info.description\":null,\"adjustment_info.mode\":null,\"adjustment_info.type\":null,\"tags\":[],\"cost_at_list\":\"0.047533\",\"transaction_type\":\"GOOGLE\",\"seller_name\":null,\"contract_price\":null,\"discount\":null,\"list_price\":null,\"list_cost\":null,\"negotiated_savings\":null}\n",
            "{\"account_id\":\"0123FE\",\"billing_account_id\":\"0123FE-D490A8-19E297\",\"service.id\":\"2062-016F-44A2\",\"service.description\":\"Support\",\"sku.id\":\"5467-9D2D-5B98\",\"sku.description\":\"GCP Support Variable fee\",\"usage_start_time\":\"2024-08-18 18:00:00.000000 UTC\",\"usage_end_time\":\"2024-08-18 19:00:00.000000 UTC\",\"project.id\":null,\"project.number\":null,\"project.name\":null,\"project.labels\":[],\"project.ancestry_numbers\":null,\"project.ancestors\":[],\"labels\":[],\"system_labels\":[],\"location.location\":null,\"location.country\":null,\"location.region\":null,\"location.zone\":null,\"export_time\":\"2024-08-19 04:56:20.860180 UTC\",\"cost\":\"0.123088\",\"currency\":\"USD\",\"currency_conversion_rate\":\"1.0\",\"usage.amount\":\"3.0772\",\"usage.unit\":\"USD\",\"usage.amount_in_pricing_units\":\"3.0772\",\"usage.pricing_unit\":\"USD\",\"credits\":[{\"name\":\"Discount on Total Spend\",\"amount\":\"-0.014785\",\"full_name\":null,\"id\":\"Discount on Total Spend\",\"type\":\"RESELLER_MARGIN\"}],\"invoice.month\":\"202408\",\"cost_type\":\"regular\",\"adjustment_info.id\":null,\"adjustment_info.description\":null,\"adjustment_info.mode\":null,\"adjustment_info.type\":null,\"tags\":[],\"cost_at_list\":\"0.123088\",\"transaction_type\":\"GOOGLE\",\"seller_name\":null,\"contract_price\":null,\"discount\":null,\"list_price\":null,\"list_cost\":null,\"negotiated_savings\":null}\n",
            "{\"account_id\":\"0123FE\",\"billing_account_id\":\"0123FE-D490A8-19E297\",\"service.id\":\"2062-016F-44A2\",\"service.description\":\"Support\",\"sku.id\":\"5467-9D2D-5B98\",\"sku.description\":\"GCP Support Variable fee\",\"usage_start_time\":\"2024-08-14 19:00:00.000000 UTC\",\"usage_end_time\":\"2024-08-14 20:00:00.000000 UTC\",\"project.id\":null,\"project.number\":null,\"project.name\":null,\"project.labels\":[],\"project.ancestry_numbers\":null,\"project.ancestors\":[],\"labels\":[],\"system_labels\":[],\"location.location\":null,\"location.country\":null,\"location.region\":null,\"location.zone\":null,\"export_time\":\"2024-08-15 03:06:49.286681 UTC\",\"cost\":\"0.53048\",\"currency\":\"USD\",\"currency_conversion_rate\":\"1.0\",\"usage.amount\":\"13.262134\",\"usage.unit\":\"USD\",\"usage.amount_in_pricing_units\":\"13.262134\",\"usage.pricing_unit\":\"USD\",\"credits\":[{\"name\":\"Discount on Total Spend\",\"amount\":\"-0.063658\",\"full_name\":null,\"id\":\"Discount on Total Spend\",\"type\":\"RESELLER_MARGIN\"}],\"invoice.month\":\"202408\",\"cost_type\":\"regular\",\"adjustment_info.id\":null,\"adjustment_info.description\":null,\"adjustment_info.mode\":null,\"adjustment_info.type\":null,\"tags\":[],\"cost_at_list\":\"0.53048\",\"transaction_type\":\"GOOGLE\",\"seller_name\":null,\"contract_price\":null,\"discount\":null,\"list_price\":null,\"list_cost\":null,\"negotiated_savings\":null}\n",
            "{\"account_id\":\"0123FE\",\"billing_account_id\":\"0123FE-D490A8-19E297\",\"service.id\":\"2062-016F-44A2\",\"service.description\":\"Support\",\"sku.id\":\"5467-9D2D-5B98\",\"sku.description\":\"GCP Support Variable fee\",\"usage_start_time\":\"2024-08-05 00:00:00.000000 UTC\",\"usage_end_time\":\"2024-08-05 01:00:00.000000 UTC\",\"project.id\":null,\"project.number\":null,\"project.name\":null,\"project.labels\":[],\"project.ancestry_numbers\":null,\"project.ancestors\":[],\"labels\":[],\"system_labels\":[],\"location.location\":null,\"location.country\":null,\"location.region\":null,\"location.zone\":null,\"export_time\":\"2024-08-05 08:27:04.573090 UTC\",\"cost\":\"0.709969\",\"currency\":\"USD\",\"currency_conversion_rate\":\"1.0\",\"usage.amount\":\"17.749303\",\"usage.unit\":\"USD\",\"usage.amount_in_pricing_units\":\"17.749303\",\"usage.pricing_unit\":\"USD\",\"credits\":[{\"name\":\"Discount on Total Spend\",\"amount\":\"-0.085195\",\"full_name\":null,\"id\":\"Discount on Total Spend\",\"type\":\"RESELLER_MARGIN\"}],\"invoice.month\":\"202408\",\"cost_type\":\"regular\",\"adjustment_info.id\":null,\"adjustment_info.description\":null,\"adjustment_info.mode\":null,\"adjustment_info.type\":null,\"tags\":[],\"cost_at_list\":\"0.709969\",\"transaction_type\":\"GOOGLE\",\"seller_name\":null,\"contract_price\":null,\"discount\":null,\"list_price\":null,\"list_cost\":null,\"negotiated_savings\":null}\n",
            "{\"account_id\":\"0123FE\",\"billing_account_id\":\"0123FE-D490A8-19E297\",\"service.id\":\"2062-016F-44A2\",\"service.description\":\"Support\",\"sku.id\":\"5467-9D2D-5B98\",\"sku.description\":\"GCP Support Variable fee\",\"usage_start_time\":\"2024-08-01 13:00:00.000000 UTC\",\"usage_end_time\":\"2024-08-01 14:00:00.000000 UTC\",\"project.id\":null,\"project.number\":null,\"project.name\":null,\"project.labels\":[],\"project.ancestry_numbers\":null,\"project.ancestors\":[],\"labels\":[],\"system_labels\":[],\"location.location\":null,\"location.country\":null,\"location.region\":null,\"location.zone\":null,\"export_time\":\"2024-08-01 20:58:30.366530 UTC\",\"cost\":\"0.197282\",\"currency\":\"USD\",\"currency_conversion_rate\":\"1.0\",\"usage.amount\":\"4.932158\",\"usage.unit\":\"USD\",\"usage.amount_in_pricing_units\":\"4.932158\",\"usage.pricing_unit\":\"USD\",\"credits\":[{\"name\":\"Discount on Total Spend\",\"amount\":\"-0.023673\",\"full_name\":null,\"id\":\"Discount on Total Spend\",\"type\":\"RESELLER_MARGIN\"}],\"invoice.month\":\"202408\",\"cost_type\":\"regular\",\"adjustment_info.id\":null,\"adjustment_info.description\":null,\"adjustment_info.mode\":null,\"adjustment_info.type\":null,\"tags\":[],\"cost_at_list\":\"0.197282\",\"transaction_type\":\"GOOGLE\",\"seller_name\":null,\"contract_price\":null,\"discount\":null,\"list_price\":null,\"list_cost\":null,\"negotiated_savings\":null}\n",
            "{\"account_id\":\"01411F\",\"billing_account_id\":\"01411F-36AF86-E6F3C1\",\"service.id\":\"2062-016F-44A2\",\"service.description\":\"Support\",\"sku.id\":\"5467-9D2D-5B98\",\"sku.description\":\"GCP Support Variable fee\",\"usage_start_time\":\"2024-08-17 01:00:00.000000 UTC\",\"usage_end_time\":\"2024-08-17 02:00:00.000000 UTC\",\"project.id\":null,\"project.number\":null,\"project.name\":null,\"project.labels\":[],\"project.ancestry_numbers\":null,\"project.ancestors\":[],\"labels\":[],\"system_labels\":[],\"location.location\":null,\"location.country\":null,\"location.region\":null,\"location.zone\":null,\"export_time\":\"2024-08-17 11:16:27.830790 UTC\",\"cost\":\"1e-05\",\"currency\":\"USD\",\"currency_conversion_rate\":\"1.0\",\"usage.amount\":\"0.000274\",\"usage.unit\":\"USD\",\"usage.amount_in_pricing_units\":\"0.000274\",\"usage.pricing_unit\":\"USD\",\"credits\":[{\"name\":\"Discount on Total Spend\",\"amount\":\"-1e-06\",\"full_name\":null,\"id\":\"Discount on Total Spend\",\"type\":\"RESELLER_MARGIN\"}],\"invoice.month\":\"202408\",\"cost_type\":\"regular\",\"adjustment_info.id\":null,\"adjustment_info.description\":null,\"adjustment_info.mode\":null,\"adjustment_info.type\":null,\"tags\":[],\"cost_at_list\":\"1e-05\",\"transaction_type\":\"GOOGLE\",\"seller_name\":null,\"contract_price\":null,\"discount\":null,\"list_price\":null,\"list_cost\":null,\"negotiated_savings\":null}\n",
            "{\"account_id\":\"01411F\",\"billing_account_id\":\"01411F-36AF86-E6F3C1\",\"service.id\":\"2062-016F-44A2\",\"service.description\":\"Support\",\"sku.id\":\"5467-9D2D-5B98\",\"sku.description\":\"GCP Support Variable fee\",\"usage_start_time\":\"2024-08-03 11:00:00.000000 UTC\",\"usage_end_time\":\"2024-08-03 12:00:00.000000 UTC\",\"project.id\":null,\"project.number\":null,\"project.name\":null,\"project.labels\":[],\"project.ancestry_numbers\":null,\"project.ancestors\":[],\"labels\":[],\"system_labels\":[],\"location.location\":null,\"location.country\":null,\"location.region\":null,\"location.zone\":null,\"export_time\":\"2024-08-03 17:18:14.330845 UTC\",\"cost\":\"0.062911\",\"currency\":\"USD\",\"currency_conversion_rate\":\"1.0\",\"usage.amount\":\"1.57281\",\"usage.unit\":\"USD\",\"usage.amount_in_pricing_units\":\"1.57281\",\"usage.pricing_unit\":\"USD\",\"credits\":[{\"name\":\"Discount on Total Spend\",\"amount\":\"-0.00755\",\"full_name\":null,\"id\":\"Discount on Total Spend\",\"type\":\"RESELLER_MARGIN\"}],\"invoice.month\":\"202408\",\"cost_type\":\"regular\",\"adjustment_info.id\":null,\"adjustment_info.description\":null,\"adjustment_info.mode\":null,\"adjustment_info.type\":null,\"tags\":[],\"cost_at_list\":\"0.062911\",\"transaction_type\":\"GOOGLE\",\"seller_name\":null,\"contract_price\":null,\"discount\":null,\"list_price\":null,\"list_cost\":null,\"negotiated_savings\":null}\n",
            "{\"account_id\":\"01411F\",\"billing_account_id\":\"01411F-36AF86-E6F3C1\",\"service.id\":\"2062-016F-44A2\",\"service.description\":\"Support\",\"sku.id\":\"5467-9D2D-5B98\",\"sku.description\":\"GCP Support Variable fee\",\"usage_start_time\":\"2024-08-24 14:00:00.000000 UTC\",\"usage_end_time\":\"2024-08-24 15:00:00.000000 UTC\",\"project.id\":null,\"project.number\":null,\"project.name\":null,\"project.labels\":[],\"project.ancestry_numbers\":null,\"project.ancestors\":[],\"labels\":[],\"system_labels\":[],\"location.location\":null,\"location.country\":null,\"location.region\":null,\"location.zone\":null,\"export_time\":\"2024-08-25 01:03:47.021696 UTC\",\"cost\":\"0.122116\",\"currency\":\"USD\",\"currency_conversion_rate\":\"1.0\",\"usage.amount\":\"3.052921\",\"usage.unit\":\"USD\",\"usage.amount_in_pricing_units\":\"3.052921\",\"usage.pricing_unit\":\"USD\",\"credits\":[{\"name\":\"Discount on Total Spend\",\"amount\":\"-0.014654\",\"full_name\":null,\"id\":\"Discount on Total Spend\",\"type\":\"RESELLER_MARGIN\"}],\"invoice.month\":\"202408\",\"cost_type\":\"regular\",\"adjustment_info.id\":null,\"adjustment_info.description\":null,\"adjustment_info.mode\":null,\"adjustment_info.type\":null,\"tags\":[],\"cost_at_list\":\"0.122116\",\"transaction_type\":\"GOOGLE\",\"seller_name\":null,\"contract_price\":null,\"discount\":null,\"list_price\":null,\"list_cost\":null,\"negotiated_savings\":null}\n"
          ]
        }
      ]
    },
    {
      "cell_type": "code",
      "source": [
        "!{('head -n 100 data/output_cdr-00000-of-00001')}"
      ],
      "metadata": {
        "colab": {
          "base_uri": "https://localhost:8080/"
        },
        "id": "TuyOT8TjSW7H",
        "outputId": "b7c4da0a-bb2f-4d33-8b10-e6f15fa885f5"
      },
      "execution_count": 32,
      "outputs": [
        {
          "output_type": "stream",
          "name": "stdout",
          "text": [
            "head: cannot open 'data/output_cdr-00000-of-00001' for reading: No such file or directory\n"
          ]
        }
      ]
    }
  ]
}