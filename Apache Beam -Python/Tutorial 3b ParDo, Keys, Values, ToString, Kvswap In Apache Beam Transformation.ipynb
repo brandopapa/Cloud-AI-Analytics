{
  "nbformat": 4,
  "nbformat_minor": 0,
  "metadata": {
    "colab": {
      "name": "Tutorial-3b ParDo, Keys, Values, ToString, Kvswap In Apache Beam Transformation.ipynb",
      "provenance": []
    },
    "kernelspec": {
      "name": "python3",
      "display_name": "Python 3"
    },
    "language_info": {
      "name": "python"
    }
  },
  "cells": [
    {
      "cell_type": "code",
      "execution_count": null,
      "metadata": {
        "id": "BtjA8qdQt2-M"
      },
      "outputs": [],
      "source": [
        "!pip3 install apache_beam"
      ]
    },
    {
      "cell_type": "code",
      "source": [
        "import apache_beam as beam"
      ],
      "metadata": {
        "id": "8s1N6oalxo2q"
      },
      "execution_count": null,
      "outputs": []
    },
    {
      "cell_type": "code",
      "source": [
        "from google.colab import drive\n",
        "drive.mount('/content/drive')"
      ],
      "metadata": {
        "id": "TlqBNmkDcjwl"
      },
      "execution_count": null,
      "outputs": []
    },
    {
      "cell_type": "code",
      "source": [
        "%cd drive/My\\ Drive/Colab\\ Notebooks/Cloud-AI-Analytics/Apache\\ Beam\\ -Python/data"
      ],
      "metadata": {
        "id": "eVX9MMFEcnoM"
      },
      "execution_count": null,
      "outputs": []
    },
    {
      "cell_type": "code",
      "source": [
        "!ls"
      ],
      "metadata": {
        "id": "QC41XGGLcoud"
      },
      "execution_count": null,
      "outputs": []
    },
    {
      "cell_type": "code",
      "source": [
        "!cat cloud_export.txt"
      ],
      "metadata": {
        "id": "OvmS0MCTcqL-"
      },
      "execution_count": null,
      "outputs": []
    },
    {
      "cell_type": "markdown",
      "source": [
        "## **ParDo:**\n",
        "\n",
        "•\tParDo is a Beam transform for generic parallel processing.\n",
        "\n",
        "•\tThe ParDo processing paradigm is similar to the “Map” phase of a Map/Shuffle/Reduce-style algorithm: a ParDo transform considers each element in the input PCollection, performs some processing function (your user code) on that element, and emits zero, one, or multiple elements to an output PCollection.\n"
      ],
      "metadata": {
        "id": "DVH1uAI40ESP"
      }
    },
    {
      "cell_type": "code",
      "source": [
        "class SplitRow(beam.DoFn):\n",
        "  def process(self, element):\n",
        "    return [element.split(',')]\n",
        "\n",
        "\n",
        "class ComputeWordLengthFn(beam.DoFn):\n",
        "  def process(self, element):\n",
        "    return [len(element)]"
      ],
      "metadata": {
        "id": "SJ4S4bfyzdkG"
      },
      "execution_count": null,
      "outputs": []
    },
    {
      "cell_type": "code",
      "source": [
        "with beam.Pipeline() as pipeline:\n",
        "  input_data = (pipeline\n",
        "                | \"read from text\">> beam.io.ReadFromText(\"cloud_export.txt\", skip_header_lines= True)\n",
        "                | \"spliting the record\" >> beam.ParDo(SplitRow()))\n",
        "\n",
        "  count_data = (input_data\n",
        "                |\"filtering the data with PASS\" >> beam.Filter(lambda record : record[2]==\"Support\"))\n",
        "\n",
        "  word_lengths = (count_data\n",
        "                 |\"count of records\" >> beam.ParDo(ComputeWordLengthFn())\n",
        "                 |beam.Map(print))\n",
        "\n",
        "  output_data = (count_data\n",
        "                 | \"Write to Text\" >> beam.io.WriteToText(\"result/Support_service\"))"
      ],
      "metadata": {
        "id": "YCBafH6xWUSn"
      },
      "execution_count": null,
      "outputs": []
    },
    {
      "cell_type": "code",
      "source": [
        "with beam.Pipeline() as pipeline:\n",
        "  input_data = (pipeline\n",
        "                | \"read from text\">> beam.io.ReadFromText(\"cloud_export.txt\", skip_header_lines= True)\n",
        "                | \"spliting the record\" >> beam.ParDo(SplitRow()))\n",
        "\n",
        "  count_data = (input_data\n",
        "                |\"filtering the data with PASS\" >> beam.Filter(lambda record : record[2]==\"EC2\"))\n",
        "\n",
        "  word_lengths = (count_data\n",
        "                 |\"count of records\" >> beam.ParDo(ComputeWordLengthFn())\n",
        "                 |beam.Map(print))\n",
        "\n",
        "  output_data = (count_data\n",
        "                 | \"Write to Text\" >> beam.io.WriteToText(\"result/EC2_service\"))\n"
      ],
      "metadata": {
        "id": "rlD9c4SwzfAV"
      },
      "execution_count": null,
      "outputs": []
    },
    {
      "cell_type": "code",
      "source": [
        "!ls result/"
      ],
      "metadata": {
        "id": "MjO_fv5Lfb9v"
      },
      "execution_count": null,
      "outputs": []
    },
    {
      "cell_type": "code",
      "source": [
        "!{('head -n 10 result/Support_service-00000-of-00001')}"
      ],
      "metadata": {
        "id": "mHPJybsPzfem"
      },
      "execution_count": null,
      "outputs": []
    },
    {
      "cell_type": "code",
      "source": [
        "!{('head -n 10 result/EC2_service-00000-of-00001')}"
      ],
      "metadata": {
        "id": "hcjDbDUSeT-Q"
      },
      "execution_count": null,
      "outputs": []
    },
    {
      "cell_type": "markdown",
      "source": [
        "## **Keys:**\n",
        "\n",
        "Takes a collection of key-value pairs and returns the key of each element.\n"
      ],
      "metadata": {
        "id": "ERzkkK9lzN0E"
      }
    },
    {
      "cell_type": "code",
      "source": [
        "with beam.Pipeline() as pipeline:\n",
        "  icons = (\n",
        "      pipeline\n",
        "      | 'Garden plants' >> beam.Create([\n",
        "          ('🍓', 'Strawberry'),\n",
        "          ('🥕', 'Carrot'),\n",
        "          ('🍆', 'Eggplant'),\n",
        "          ('🍅', 'Tomato'),\n",
        "          ('🥔', 'Potato'),\n",
        "      ])\n",
        "      | 'Keys' >> beam.Keys()\n",
        "      | beam.Map(print))"
      ],
      "metadata": {
        "id": "rEM48qlcxo9a"
      },
      "execution_count": null,
      "outputs": []
    },
    {
      "cell_type": "markdown",
      "source": [
        "## **Values:**\n",
        "\n",
        "Takes a collection of key-value pairs, and returns the value of each element.\n",
        "\n"
      ],
      "metadata": {
        "id": "o0PKBJQ_zRvm"
      }
    },
    {
      "cell_type": "code",
      "source": [
        "with beam.Pipeline() as pipeline:\n",
        "  plants = (\n",
        "      pipeline\n",
        "      | 'Garden plants' >> beam.Create([\n",
        "          ('🍓', 'Strawberry'),\n",
        "          ('🥕', 'Carrot'),\n",
        "          ('🍆', 'Eggplant'),\n",
        "          ('🍅', 'Tomato'),\n",
        "          ('🥔', 'Potato'),\n",
        "      ])\n",
        "      | 'Values' >> beam.Values()\n",
        "      | beam.Map(print))"
      ],
      "metadata": {
        "id": "-o-z3cyJxpD0"
      },
      "execution_count": null,
      "outputs": []
    },
    {
      "cell_type": "markdown",
      "source": [],
      "metadata": {
        "id": "3z4nyLHBiHvi"
      }
    },
    {
      "cell_type": "markdown",
      "source": [
        "## **ToString**\n",
        "\n",
        "Transforms every element in an input collection to a string. Any non-string element can be converted to a string using standard Python functions and methods. Many I/O transforms, such as textio.WriteToText, expect their input elements to be strings.\n",
        "\n",
        "\n",
        "\n",
        "1. Key-value pairs to string\n",
        "2. Elements to string\n",
        "3. Iterables to string"
      ],
      "metadata": {
        "id": "cI1T3uyLruHP"
      }
    },
    {
      "cell_type": "code",
      "source": [
        "with beam.Pipeline() as pipeline:\n",
        "  plants = (\n",
        "      pipeline\n",
        "      | 'Garden plants' >> beam.Create([\n",
        "          ('🍓', 'Strawberry'),\n",
        "          ('🥕', 'Carrot'),\n",
        "          ('🍆', 'Eggplant'),\n",
        "          ('🍅', 'Tomato'),\n",
        "          ('🥔', 'Potato'),\n",
        "      ])\n",
        "      | 'To string' >> beam.ToString.Kvs()  #Element() #Iterables()\n",
        "      | beam.Map(print))"
      ],
      "metadata": {
        "id": "0vXMBdsxxpPl"
      },
      "execution_count": null,
      "outputs": []
    },
    {
      "cell_type": "markdown",
      "source": [
        "## **Kvswap :**\n",
        "\n",
        "•\tTakes a collection of key-value pairs and returns a collection of key-value pairs which has each key and value swapped.\n"
      ],
      "metadata": {
        "id": "pqlQjqGVsp6k"
      }
    },
    {
      "cell_type": "code",
      "source": [
        "with beam.Pipeline() as pipeline:\n",
        "  plants = (\n",
        "      pipeline\n",
        "      | 'Garden plants' >> beam.Create([\n",
        "          ('🍓', 'Strawberry'),\n",
        "          ('🥕', 'Carrot'),\n",
        "          ('🍆', 'Eggplant'),\n",
        "          ('🍅', 'Tomato'),\n",
        "          ('🥔', 'Potato'),\n",
        "      ])\n",
        "      | 'Key-Value swap' >> beam.KvSwap()\n",
        "      | beam.Map(print))"
      ],
      "metadata": {
        "id": "WsWUXBjvxpVO"
      },
      "execution_count": null,
      "outputs": []
    }
  ]
}