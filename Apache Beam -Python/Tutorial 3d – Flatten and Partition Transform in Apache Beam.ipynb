{
  "nbformat": 4,
  "nbformat_minor": 0,
  "metadata": {
    "colab": {
      "name": "Tutorial 3d – Flatten and Partition Transform in Apache Beam.ipynb",
      "provenance": []
    },
    "kernelspec": {
      "name": "python3",
      "display_name": "Python 3"
    },
    "language_info": {
      "name": "python"
    }
  },
  "cells": [
    {
      "cell_type": "code",
      "execution_count": null,
      "metadata": {
        "id": "g16zbNum8UPH"
      },
      "outputs": [],
      "source": [
        "!pip install apache_beam"
      ]
    },
    {
      "cell_type": "code",
      "source": [
        "import apache_beam as beam"
      ],
      "metadata": {
        "id": "ZNg05V7sst0c"
      },
      "execution_count": null,
      "outputs": []
    },
    {
      "cell_type": "code",
      "source": [
        "from google.colab import drive\n",
        "drive.mount('/content/drive')"
      ],
      "metadata": {
        "id": "sVxmSd45xvbZ"
      },
      "execution_count": null,
      "outputs": []
    },
    {
      "cell_type": "code",
      "source": [
        "%cd drive/My\\ Drive/Colab\\ Notebooks/Cloud-AI-Analytics/Apache\\ Beam\\ -Python/data"
      ],
      "metadata": {
        "id": "E5Tfvzbzx7y1"
      },
      "execution_count": null,
      "outputs": []
    },
    {
      "cell_type": "code",
      "source": [
        "!ls"
      ],
      "metadata": {
        "id": "nfHzA5sKx_Du"
      },
      "execution_count": null,
      "outputs": []
    },
    {
      "cell_type": "code",
      "source": [
        "!{('head -n 10 cloud_export_100.json')}"
      ],
      "metadata": {
        "id": "zKYMnSnLycmy"
      },
      "execution_count": null,
      "outputs": []
    },
    {
      "cell_type": "markdown",
      "source": [
        "## **Partition**:\n",
        "\n",
        "•\tPartition is a Beam transform for PCollection objects that store the same data type. It splits a single PCollection into a fixed number of smaller collections.\n",
        "\n",
        "•\tPartition divides the elements of a PCollection according to a partitioning function that you provide.\n",
        "\n",
        "•\tThe partitioning function contains the logic that determines how to split up the elements of the input PCollection into each resulting partition PCollection.\n",
        "\n",
        "•\tThe number of partitions must be determined at graph construction time.\n",
        "\n",
        "•\tPartition accepts a function that receives the number of partitions, and returns the index of the desired partition for the element. The number of partitions passed must be a positive integer, and it must return an integer in the range 0 to num_partitions-1.\n",
        "\n"
      ],
      "metadata": {
        "id": "GkmuGzOtgUpk"
      }
    },
    {
      "cell_type": "code",
      "source": [
        "services = ['Compute Engine', 'Networking', 'Cloud Logging', 'Support']\n",
        "\n",
        "def by_service(cloud, num_partitions):\n",
        "  return services.index(cloud['service_description'])\n",
        "\n",
        "with beam.Pipeline() as pipeline:\n",
        "  computes, networks, logs, supports = (\n",
        "      pipeline\n",
        "      | 'Gardening plants' >> beam.Create([\n",
        "          {\"account_id\":\"01097B\",\"service_id\":\"6F81-5844-456A\",\"service_description\":\"Compute Engine\",\"cost\":\"0.000372\",\"usage_start_time\":\"2024-08-26 00:00:00.000000 UTC\",\"usage_end_time\":\"2024-08-26 01:00:00.000000 UTC\",\"export_time\":\"2024-08-26 06:15:49.620818 UTC\"},\n",
        "          {\"account_id\":\"01097B\",\"service_id\":\"E505-1604-58F8\",\"service_description\":\"Networking\",\"cost\":\"0.0\",\"usage_start_time\":\"2024-08-27 15:00:00.000000 UTC\",\"usage_end_time\":\"2024-08-27 16:00:00.000000 UTC\",\"export_time\":\"2024-08-27 20:31:26.191136 UTC\"},\n",
        "          {\"account_id\":\"01097B\",\"service_id\":\"2062-016F-44A2\",\"service_description\":\"Support\",\"cost\":\"0.011923\",\"usage_start_time\":\"2024-08-06 09:00:00.000000 UTC\",\"usage_end_time\":\"2024-08-06 10:00:00.000000 UTC\",\"export_time\":\"2024-08-06 17:35:05.487018 UTC\"},\n",
        "          {\"account_id\":\"01097B\",\"service_id\":\"5490-F7B7-8DF6\",\"service_description\":\"Cloud Logging\",\"cost\":\"-1e-06\",\"usage_start_time\":\"2024-08-15 08:00:00.000000 UTC\",\"usage_end_time\":\"2024-08-15 09:00:00.000000 UTC\",\"export_time\":\"2024-08-15 17:21:06.500508 UTC\"},\n",
        "      ])\n",
        "      | 'Partition' >> beam.Partition(by_service, len(services))\n",
        "  )\n",
        "\n",
        "  computes  | 'Computes' >> beam.Map(\n",
        "          lambda x: print('Compute Engine: {}'.format(x)))\n",
        "  networks  | 'Networks' >> beam.Map(\n",
        "          lambda x: print('Networking: {}'.format(x)))\n",
        "  logs    | 'Logs' >> beam.Map(\n",
        "          lambda x: print('Cloud Logging: {}'.format(x)))\n",
        "  supports  | 'Supports' >> beam.Map(\n",
        "          lambda x: print('Support: {}'.format(x)))\n"
      ],
      "metadata": {
        "id": "Cj0L-9etuLph"
      },
      "execution_count": null,
      "outputs": []
    },
    {
      "cell_type": "markdown",
      "source": [
        "將上面程式碼 beam.Create 改為 讀取JSON文件檔，名稱為 cloud_export_100.json"
      ],
      "metadata": {
        "id": "5prIj97vylLu"
      }
    },
    {
      "cell_type": "code",
      "source": [
        "# prompt: 將上面程式碼 beam.Create 改為 讀取JSON文件檔，名稱為 cloud_export_100.json\n",
        "\n",
        "import apache_beam as beam\n",
        "!pip install apache_beam\n",
        "# ## **Partition**:\n",
        "#\n",
        "# •\tPartition is a Beam transform for PCollection objects that store the same data type. It splits a single PCollection into a fixed number of smaller collections.\n",
        "#\n",
        "# •\tPartition divides the elements of a PCollection according to a partitioning function that you provide.\n",
        "#\n",
        "# •\tThe partitioning function contains the logic that determines how to split up the elements of the input PCollection into each resulting partition PCollection.\n",
        "#\n",
        "# •\tThe number of partitions must be determined at graph construction time.\n",
        "#\n",
        "# •\tPartition accepts a function that receives the number of partitions, and returns the index of the desired partition for the element. The number of partitions passed must be a positive integer, and it must return an integer in the range 0 to num_partitions-1.\n",
        "#\n",
        "#\n",
        "services = ['Compute Engine', 'Networking', 'Cloud Logging', 'Support']\n",
        "\n",
        "def by_service(cloud, num_partitions):\n",
        "  return services.index(cloud['service_description'])\n",
        "\n",
        "with beam.Pipeline() as pipeline:\n",
        "  computes, networks, logs, supports = (\n",
        "      pipeline\n",
        "      | 'Read from JSON' >> beam.io.ReadFromText('cloud_export_100.json')\n",
        "      | 'Parse JSON' >> beam.Map(eval)  # Assuming each line is a valid JSON object\n",
        "      | 'Partition' >> beam.Partition(by_service, len(services))\n",
        "  )\n",
        "\n",
        "  computes  | 'Computes' >> beam.Map(\n",
        "          lambda x: print('Compute Engine: {}'.format(x)))\n",
        "  networks  | 'Networks' >> beam.Map(\n",
        "          lambda x: print('Networking: {}'.format(x)))\n",
        "  logs    | 'Logs' >> beam.Map(\n",
        "          lambda x: print('Cloud Logging: {}'.format(x)))\n",
        "  supports  | 'Supports' >> beam.Map(\n",
        "          lambda x: print('Support: {}'.format(x)))"
      ],
      "metadata": {
        "id": "ECgzWT-PwawA"
      },
      "execution_count": null,
      "outputs": []
    },
    {
      "cell_type": "markdown",
      "source": [
        "## **Flatten**:\n",
        "\n",
        "•\tFlatten is a Beam transform for PCollection objects that store the same data type. Flatten merges multiple PCollection objects into a single logical PCollection.\n",
        "\n",
        "•\tKind of Union operation\n"
      ],
      "metadata": {
        "id": "4OMrh9z6nvIx"
      }
    },
    {
      "cell_type": "code",
      "source": [
        "# prompt: 將上面 beam.Partition()的集合，使用 beam.Flatten() 來合併，然後印出來\n",
        "\n",
        "services = ['Compute Engine', 'Networking', 'Cloud Logging', 'Support']\n",
        "\n",
        "def by_service(cloud, num_partitions):\n",
        "  return services.index(cloud['service_description'])\n",
        "\n",
        "with beam.Pipeline() as pipeline:\n",
        "  computes, networks, logs, supports = (\n",
        "      pipeline\n",
        "      | 'Read from JSON' >> beam.io.ReadFromText('cloud_export_100.json')\n",
        "      | 'Parse JSON' >> beam.Map(eval)  # Assuming each line is a valid JSON object\n",
        "      | 'Partition' >> beam.Partition(by_service, len(services))\n",
        "  )\n",
        "\n",
        "  merged_pcollection = (\n",
        "      (computes, networks, logs, supports)\n",
        "      | 'Flatten PCollections' >> beam.Flatten()\n",
        "      | 'Print Merged' >> beam.Map(print)\n",
        "  )"
      ],
      "metadata": {
        "id": "KQ0Zf4WdzhVW"
      },
      "execution_count": null,
      "outputs": []
    }
  ]
}