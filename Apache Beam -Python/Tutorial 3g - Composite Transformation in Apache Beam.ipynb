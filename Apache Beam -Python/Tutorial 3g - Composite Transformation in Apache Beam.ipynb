{
  "nbformat": 4,
  "nbformat_minor": 0,
  "metadata": {
    "colab": {
      "name": "Tutorial 3g - Composite Transformation in Apache Beam.ipynb",
      "provenance": []
    },
    "kernelspec": {
      "name": "python3",
      "display_name": "Python 3"
    },
    "language_info": {
      "name": "python"
    }
  },
  "cells": [
    {
      "cell_type": "code",
      "execution_count": 1,
      "metadata": {
        "id": "7Y-t59bTDtIt",
        "outputId": "2a2755d4-c04f-489a-f98e-554cab3bebf7",
        "colab": {
          "base_uri": "https://localhost:8080/"
        }
      },
      "outputs": [
        {
          "output_type": "stream",
          "name": "stdout",
          "text": [
            "Collecting apache_beam\n",
            "  Downloading apache_beam-2.60.0-cp310-cp310-manylinux_2_17_x86_64.manylinux2014_x86_64.whl.metadata (7.6 kB)\n",
            "Collecting crcmod<2.0,>=1.7 (from apache_beam)\n",
            "  Downloading crcmod-1.7.tar.gz (89 kB)\n",
            "\u001b[2K     \u001b[90m━━━━━━━━━━━━━━━━━━━━━━━━━━━━━━━━━━━━━━━━\u001b[0m \u001b[32m89.7/89.7 kB\u001b[0m \u001b[31m2.1 MB/s\u001b[0m eta \u001b[36m0:00:00\u001b[0m\n",
            "\u001b[?25h  Preparing metadata (setup.py) ... \u001b[?25l\u001b[?25hdone\n",
            "Requirement already satisfied: orjson<4,>=3.9.7 in /usr/local/lib/python3.10/dist-packages (from apache_beam) (3.10.10)\n",
            "Collecting dill<0.3.2,>=0.3.1.1 (from apache_beam)\n",
            "  Downloading dill-0.3.1.1.tar.gz (151 kB)\n",
            "\u001b[2K     \u001b[90m━━━━━━━━━━━━━━━━━━━━━━━━━━━━━━━━━━━━━━━━\u001b[0m \u001b[32m152.0/152.0 kB\u001b[0m \u001b[31m5.6 MB/s\u001b[0m eta \u001b[36m0:00:00\u001b[0m\n",
            "\u001b[?25h  Preparing metadata (setup.py) ... \u001b[?25l\u001b[?25hdone\n",
            "Collecting cloudpickle~=2.2.1 (from apache_beam)\n",
            "  Downloading cloudpickle-2.2.1-py3-none-any.whl.metadata (6.9 kB)\n",
            "Collecting fastavro<2,>=0.23.6 (from apache_beam)\n",
            "  Downloading fastavro-1.9.7-cp310-cp310-manylinux_2_17_x86_64.manylinux2014_x86_64.whl.metadata (5.5 kB)\n",
            "Collecting fasteners<1.0,>=0.3 (from apache_beam)\n",
            "  Downloading fasteners-0.19-py3-none-any.whl.metadata (4.9 kB)\n",
            "Requirement already satisfied: grpcio!=1.48.0,!=1.59.*,!=1.60.*,!=1.61.*,!=1.62.0,!=1.62.1,<1.66.0,<2,>=1.33.1 in /usr/local/lib/python3.10/dist-packages (from apache_beam) (1.64.1)\n",
            "Collecting hdfs<3.0.0,>=2.1.0 (from apache_beam)\n",
            "  Downloading hdfs-2.7.3.tar.gz (43 kB)\n",
            "\u001b[2K     \u001b[90m━━━━━━━━━━━━━━━━━━━━━━━━━━━━━━━━━━━━━━━━\u001b[0m \u001b[32m43.5/43.5 kB\u001b[0m \u001b[31m2.8 MB/s\u001b[0m eta \u001b[36m0:00:00\u001b[0m\n",
            "\u001b[?25h  Preparing metadata (setup.py) ... \u001b[?25l\u001b[?25hdone\n",
            "Requirement already satisfied: httplib2<0.23.0,>=0.8 in /usr/local/lib/python3.10/dist-packages (from apache_beam) (0.22.0)\n",
            "Requirement already satisfied: jsonschema<5.0.0,>=4.0.0 in /usr/local/lib/python3.10/dist-packages (from apache_beam) (4.23.0)\n",
            "Requirement already satisfied: jsonpickle<4.0.0,>=3.0.0 in /usr/local/lib/python3.10/dist-packages (from apache_beam) (3.3.0)\n",
            "Requirement already satisfied: numpy<1.27.0,>=1.14.3 in /usr/local/lib/python3.10/dist-packages (from apache_beam) (1.26.4)\n",
            "Collecting objsize<0.8.0,>=0.6.1 (from apache_beam)\n",
            "  Downloading objsize-0.7.0-py3-none-any.whl.metadata (12 kB)\n",
            "Requirement already satisfied: packaging>=22.0 in /usr/local/lib/python3.10/dist-packages (from apache_beam) (24.1)\n",
            "Collecting pymongo<5.0.0,>=3.8.0 (from apache_beam)\n",
            "  Downloading pymongo-4.10.1-cp310-cp310-manylinux_2_17_x86_64.manylinux2014_x86_64.whl.metadata (22 kB)\n",
            "Requirement already satisfied: proto-plus<2,>=1.7.1 in /usr/local/lib/python3.10/dist-packages (from apache_beam) (1.25.0)\n",
            "Requirement already satisfied: protobuf!=4.0.*,!=4.21.*,!=4.22.0,!=4.23.*,!=4.24.*,<4.26.0,>=3.20.3 in /usr/local/lib/python3.10/dist-packages (from apache_beam) (3.20.3)\n",
            "Collecting pydot<2,>=1.2.0 (from apache_beam)\n",
            "  Downloading pydot-1.4.2-py2.py3-none-any.whl.metadata (8.0 kB)\n",
            "Requirement already satisfied: python-dateutil<3,>=2.8.0 in /usr/local/lib/python3.10/dist-packages (from apache_beam) (2.8.2)\n",
            "Requirement already satisfied: pytz>=2018.3 in /usr/local/lib/python3.10/dist-packages (from apache_beam) (2024.2)\n",
            "Collecting redis<6,>=5.0.0 (from apache_beam)\n",
            "  Downloading redis-5.2.0-py3-none-any.whl.metadata (9.1 kB)\n",
            "Requirement already satisfied: regex>=2020.6.8 in /usr/local/lib/python3.10/dist-packages (from apache_beam) (2024.9.11)\n",
            "Requirement already satisfied: requests<3.0.0,>=2.24.0 in /usr/local/lib/python3.10/dist-packages (from apache_beam) (2.32.3)\n",
            "Requirement already satisfied: typing-extensions>=3.7.0 in /usr/local/lib/python3.10/dist-packages (from apache_beam) (4.12.2)\n",
            "Collecting zstandard<1,>=0.18.0 (from apache_beam)\n",
            "  Downloading zstandard-0.23.0-cp310-cp310-manylinux_2_17_x86_64.manylinux2014_x86_64.whl.metadata (3.0 kB)\n",
            "Collecting pyarrow<17.0.0,>=3.0.0 (from apache_beam)\n",
            "  Downloading pyarrow-16.1.0-cp310-cp310-manylinux_2_28_x86_64.whl.metadata (3.0 kB)\n",
            "Requirement already satisfied: pyarrow-hotfix<1 in /usr/local/lib/python3.10/dist-packages (from apache_beam) (0.6)\n",
            "Collecting docopt (from hdfs<3.0.0,>=2.1.0->apache_beam)\n",
            "  Downloading docopt-0.6.2.tar.gz (25 kB)\n",
            "  Preparing metadata (setup.py) ... \u001b[?25l\u001b[?25hdone\n",
            "Requirement already satisfied: six>=1.9.0 in /usr/local/lib/python3.10/dist-packages (from hdfs<3.0.0,>=2.1.0->apache_beam) (1.16.0)\n",
            "Requirement already satisfied: pyparsing!=3.0.0,!=3.0.1,!=3.0.2,!=3.0.3,<4,>=2.4.2 in /usr/local/lib/python3.10/dist-packages (from httplib2<0.23.0,>=0.8->apache_beam) (3.2.0)\n",
            "Requirement already satisfied: attrs>=22.2.0 in /usr/local/lib/python3.10/dist-packages (from jsonschema<5.0.0,>=4.0.0->apache_beam) (24.2.0)\n",
            "Requirement already satisfied: jsonschema-specifications>=2023.03.6 in /usr/local/lib/python3.10/dist-packages (from jsonschema<5.0.0,>=4.0.0->apache_beam) (2024.10.1)\n",
            "Requirement already satisfied: referencing>=0.28.4 in /usr/local/lib/python3.10/dist-packages (from jsonschema<5.0.0,>=4.0.0->apache_beam) (0.35.1)\n",
            "Requirement already satisfied: rpds-py>=0.7.1 in /usr/local/lib/python3.10/dist-packages (from jsonschema<5.0.0,>=4.0.0->apache_beam) (0.20.0)\n",
            "Collecting dnspython<3.0.0,>=1.16.0 (from pymongo<5.0.0,>=3.8.0->apache_beam)\n",
            "  Downloading dnspython-2.7.0-py3-none-any.whl.metadata (5.8 kB)\n",
            "Requirement already satisfied: async-timeout>=4.0.3 in /usr/local/lib/python3.10/dist-packages (from redis<6,>=5.0.0->apache_beam) (4.0.3)\n",
            "Requirement already satisfied: charset-normalizer<4,>=2 in /usr/local/lib/python3.10/dist-packages (from requests<3.0.0,>=2.24.0->apache_beam) (3.4.0)\n",
            "Requirement already satisfied: idna<4,>=2.5 in /usr/local/lib/python3.10/dist-packages (from requests<3.0.0,>=2.24.0->apache_beam) (3.10)\n",
            "Requirement already satisfied: urllib3<3,>=1.21.1 in /usr/local/lib/python3.10/dist-packages (from requests<3.0.0,>=2.24.0->apache_beam) (2.2.3)\n",
            "Requirement already satisfied: certifi>=2017.4.17 in /usr/local/lib/python3.10/dist-packages (from requests<3.0.0,>=2.24.0->apache_beam) (2024.8.30)\n",
            "Downloading apache_beam-2.60.0-cp310-cp310-manylinux_2_17_x86_64.manylinux2014_x86_64.whl (15.7 MB)\n",
            "\u001b[2K   \u001b[90m━━━━━━━━━━━━━━━━━━━━━━━━━━━━━━━━━━━━━━━━\u001b[0m \u001b[32m15.7/15.7 MB\u001b[0m \u001b[31m74.8 MB/s\u001b[0m eta \u001b[36m0:00:00\u001b[0m\n",
            "\u001b[?25hDownloading cloudpickle-2.2.1-py3-none-any.whl (25 kB)\n",
            "Downloading fastavro-1.9.7-cp310-cp310-manylinux_2_17_x86_64.manylinux2014_x86_64.whl (3.1 MB)\n",
            "\u001b[2K   \u001b[90m━━━━━━━━━━━━━━━━━━━━━━━━━━━━━━━━━━━━━━━━\u001b[0m \u001b[32m3.1/3.1 MB\u001b[0m \u001b[31m59.5 MB/s\u001b[0m eta \u001b[36m0:00:00\u001b[0m\n",
            "\u001b[?25hDownloading fasteners-0.19-py3-none-any.whl (18 kB)\n",
            "Downloading objsize-0.7.0-py3-none-any.whl (11 kB)\n",
            "Downloading pyarrow-16.1.0-cp310-cp310-manylinux_2_28_x86_64.whl (40.8 MB)\n",
            "\u001b[2K   \u001b[90m━━━━━━━━━━━━━━━━━━━━━━━━━━━━━━━━━━━━━━━━\u001b[0m \u001b[32m40.8/40.8 MB\u001b[0m \u001b[31m17.2 MB/s\u001b[0m eta \u001b[36m0:00:00\u001b[0m\n",
            "\u001b[?25hDownloading pydot-1.4.2-py2.py3-none-any.whl (21 kB)\n",
            "Downloading pymongo-4.10.1-cp310-cp310-manylinux_2_17_x86_64.manylinux2014_x86_64.whl (1.4 MB)\n",
            "\u001b[2K   \u001b[90m━━━━━━━━━━━━━━━━━━━━━━━━━━━━━━━━━━━━━━━━\u001b[0m \u001b[32m1.4/1.4 MB\u001b[0m \u001b[31m24.3 MB/s\u001b[0m eta \u001b[36m0:00:00\u001b[0m\n",
            "\u001b[?25hDownloading redis-5.2.0-py3-none-any.whl (261 kB)\n",
            "\u001b[2K   \u001b[90m━━━━━━━━━━━━━━━━━━━━━━━━━━━━━━━━━━━━━━━━\u001b[0m \u001b[32m261.4/261.4 kB\u001b[0m \u001b[31m13.4 MB/s\u001b[0m eta \u001b[36m0:00:00\u001b[0m\n",
            "\u001b[?25hDownloading zstandard-0.23.0-cp310-cp310-manylinux_2_17_x86_64.manylinux2014_x86_64.whl (5.4 MB)\n",
            "\u001b[2K   \u001b[90m━━━━━━━━━━━━━━━━━━━━━━━━━━━━━━━━━━━━━━━━\u001b[0m \u001b[32m5.4/5.4 MB\u001b[0m \u001b[31m68.7 MB/s\u001b[0m eta \u001b[36m0:00:00\u001b[0m\n",
            "\u001b[?25hDownloading dnspython-2.7.0-py3-none-any.whl (313 kB)\n",
            "\u001b[2K   \u001b[90m━━━━━━━━━━━━━━━━━━━━━━━━━━━━━━━━━━━━━━━━\u001b[0m \u001b[32m313.6/313.6 kB\u001b[0m \u001b[31m16.9 MB/s\u001b[0m eta \u001b[36m0:00:00\u001b[0m\n",
            "\u001b[?25hBuilding wheels for collected packages: crcmod, dill, hdfs, docopt\n",
            "  Building wheel for crcmod (setup.py) ... \u001b[?25l\u001b[?25hdone\n",
            "  Created wheel for crcmod: filename=crcmod-1.7-cp310-cp310-linux_x86_64.whl size=31407 sha256=3c400b9a8db0cdda685c5f74b2c0459788aaf7eee2b15850ee5fc5f35536a192\n",
            "  Stored in directory: /root/.cache/pip/wheels/85/4c/07/72215c529bd59d67e3dac29711d7aba1b692f543c808ba9e86\n",
            "  Building wheel for dill (setup.py) ... \u001b[?25l\u001b[?25hdone\n",
            "  Created wheel for dill: filename=dill-0.3.1.1-py3-none-any.whl size=78542 sha256=4e589d93989d0b4ce4ee4845765967862181588e3a91aa491f30a9c23fbf21c5\n",
            "  Stored in directory: /root/.cache/pip/wheels/ea/e2/86/64980d90e297e7bf2ce588c2b96e818f5399c515c4bb8a7e4f\n",
            "  Building wheel for hdfs (setup.py) ... \u001b[?25l\u001b[?25hdone\n",
            "  Created wheel for hdfs: filename=hdfs-2.7.3-py3-none-any.whl size=34324 sha256=acaa294426b1b5b682235b0ca2940df2756f4dcc959e471cabda3520c7d5a785\n",
            "  Stored in directory: /root/.cache/pip/wheels/e5/8d/b6/99c1c0a3ac5788c866b0ecd3f48b0134a5910e6ed26011800b\n",
            "  Building wheel for docopt (setup.py) ... \u001b[?25l\u001b[?25hdone\n",
            "  Created wheel for docopt: filename=docopt-0.6.2-py2.py3-none-any.whl size=13706 sha256=b62af8ec04f76c8b5825e615605bb52a00fe89ffaf98f53e7f8f0d25b1653f7e\n",
            "  Stored in directory: /root/.cache/pip/wheels/fc/ab/d4/5da2067ac95b36618c629a5f93f809425700506f72c9732fac\n",
            "Successfully built crcmod dill hdfs docopt\n",
            "Installing collected packages: docopt, crcmod, zstandard, redis, pydot, pyarrow, objsize, fasteners, fastavro, dnspython, dill, cloudpickle, pymongo, hdfs, apache_beam\n",
            "  Attempting uninstall: pydot\n",
            "    Found existing installation: pydot 3.0.2\n",
            "    Uninstalling pydot-3.0.2:\n",
            "      Successfully uninstalled pydot-3.0.2\n",
            "  Attempting uninstall: pyarrow\n",
            "    Found existing installation: pyarrow 17.0.0\n",
            "    Uninstalling pyarrow-17.0.0:\n",
            "      Successfully uninstalled pyarrow-17.0.0\n",
            "  Attempting uninstall: cloudpickle\n",
            "    Found existing installation: cloudpickle 3.1.0\n",
            "    Uninstalling cloudpickle-3.1.0:\n",
            "      Successfully uninstalled cloudpickle-3.1.0\n",
            "\u001b[31mERROR: pip's dependency resolver does not currently take into account all the packages that are installed. This behaviour is the source of the following dependency conflicts.\n",
            "dask 2024.10.0 requires cloudpickle>=3.0.0, but you have cloudpickle 2.2.1 which is incompatible.\u001b[0m\u001b[31m\n",
            "\u001b[0mSuccessfully installed apache_beam-2.60.0 cloudpickle-2.2.1 crcmod-1.7 dill-0.3.1.1 dnspython-2.7.0 docopt-0.6.2 fastavro-1.9.7 fasteners-0.19 hdfs-2.7.3 objsize-0.7.0 pyarrow-16.1.0 pydot-1.4.2 pymongo-4.10.1 redis-5.2.0 zstandard-0.23.0\n"
          ]
        }
      ],
      "source": [
        "!pip3 install apache_beam"
      ]
    },
    {
      "cell_type": "code",
      "source": [
        "from google.colab import drive\n",
        "drive.mount('/content/drive')"
      ],
      "metadata": {
        "id": "sRmskMLp7mfi",
        "outputId": "eff71ed2-e263-40ed-98cc-c0392bee76c7",
        "colab": {
          "base_uri": "https://localhost:8080/"
        }
      },
      "execution_count": 3,
      "outputs": [
        {
          "output_type": "stream",
          "name": "stdout",
          "text": [
            "Mounted at /content/drive\n"
          ]
        }
      ]
    },
    {
      "cell_type": "code",
      "source": [
        "%cd /content/drive/MyDrive/Colab Notebooks/Cloud-AI-Analytics/Apache\\ Beam\\ -Python/data"
      ],
      "metadata": {
        "id": "bqNbOmnn72v5",
        "outputId": "b03ef62f-6eb4-4927-d0ee-52e896e0c398",
        "colab": {
          "base_uri": "https://localhost:8080/"
        }
      },
      "execution_count": 6,
      "outputs": [
        {
          "output_type": "stream",
          "name": "stdout",
          "text": [
            "/content/drive/MyDrive/Colab Notebooks/Cloud-AI-Analytics/Apache Beam -Python/data\n"
          ]
        }
      ]
    },
    {
      "cell_type": "code",
      "source": [
        "!ls"
      ],
      "metadata": {
        "id": "S2u3hfmx8NYb",
        "outputId": "630a82d6-a8cf-4a2e-8372-47e9558c17cf",
        "colab": {
          "base_uri": "https://localhost:8080/"
        }
      },
      "execution_count": 7,
      "outputs": [
        {
          "output_type": "stream",
          "name": "stdout",
          "text": [
            "dept_data.txt  regular_filter.txt-00000-of-00001  Students_age.txt\tstudents.txt\n",
            "grocery.txt    result\t\t\t\t  students_exclude.txt\n"
          ]
        }
      ]
    },
    {
      "cell_type": "code",
      "source": [
        "!{('head -n 30 dept_data.txt')}"
      ],
      "metadata": {
        "id": "_wYZWNxZBDCE",
        "outputId": "dfb28c30-b272-4dc3-c3b8-8cbff151f3bf",
        "colab": {
          "base_uri": "https://localhost:8080/"
        }
      },
      "execution_count": 22,
      "outputs": [
        {
          "output_type": "stream",
          "name": "stdout",
          "text": [
            "149633CM,Marco,10,Accounts,1-01-2019\r\n",
            "212539MU,Rebekah,10,Accounts,1-01-2019\r\n",
            "231555ZZ,Itoe,10,Accounts,1-01-2019\r\n",
            "503996WI,Edouard,10,Accounts,1-01-2019\r\n",
            "704275DC,Kyle,10,Accounts,1-01-2019\r\n",
            "957149WC,Kyle,10,Accounts,1-01-2019\r\n",
            "241316NX,Kumiko,10,Accounts,1-01-2019\r\n",
            "796656IE,Gaston,10,Accounts,1-01-2019\r\n",
            "331593PS,Beryl,20,HR,1-01-2019\r\n",
            "560447WH,Olga,20,HR,1-01-2019\r\n",
            "222997TJ,Leslie,20,HR,1-01-2019\r\n",
            "171752SY,Mindy,20,HR,1-01-2019\r\n",
            "153636AS,Vicky,20,HR,1-01-2019\r\n",
            "745411HT,Richard,20,HR,1-01-2019\r\n",
            "298464HN,Kirk,20,HR,1-01-2019\r\n",
            "783950BW,Kaori,20,HR,1-01-2019\r\n",
            "892691AR,Beryl,20,HR,1-01-2019\r\n",
            "245668UZ,Oscar,20,HR,1-01-2019\r\n",
            "231206QD,Kumiko,30,Finance,1-01-2019\r\n",
            "357919KT,Wendy,30,Finance,1-01-2019\r\n",
            "472418ZG,Cristobal,30,Finance,1-01-2019\r\n",
            "442292OI,Erika,30,Finance,1-01-2019\r\n",
            "503647MN,Sebastien,30,Finance,1-01-2019\r\n",
            "245319LD,Valerie,30,Finance,1-01-2019\r\n",
            "818776XR,Dolly,30,Finance,1-01-2019\r\n",
            "259229ZU,Emily,30,Finance,1-01-2019\r\n",
            "349360YC,Kaori,30,Finance,1-01-2019\r\n",
            "951594MT,Hitomi,30,Finance,1-01-2019\r\n",
            "149633CM,Marco,10,Accounts,2-01-2019\r\n",
            "212539MU,Rebekah,10,Accounts,2-01-2019\r\n"
          ]
        }
      ]
    },
    {
      "cell_type": "code",
      "source": [
        "import apache_beam as beam\n",
        "\n",
        "def SplitRow(element):\n",
        "  return element.split(',')\n",
        "\n",
        "\n",
        "def filter_on_count(element):\n",
        "  name, count = element\n",
        "  if count > 30:\n",
        "    return element\n",
        "\n",
        "def format_output(element):\n",
        "  name, count = element\n",
        "  return (name.encode('ascii'),str(count),'Experienced employee')"
      ],
      "metadata": {
        "id": "xl8x4Pnzg1-Z"
      },
      "execution_count": 10,
      "outputs": []
    },
    {
      "cell_type": "markdown",
      "source": [
        "## Using normal transformation like\n",
        "\n",
        "\n",
        "\n",
        "1.   Map\n",
        "2.   Filter\n",
        "3.   CombinePerKey\n",
        "\n",
        "For three different operations and it includes more code, memory space and time as well.\n"
      ],
      "metadata": {
        "id": "90_mqnEFuGGb"
      }
    },
    {
      "cell_type": "code",
      "source": [
        "with beam.Pipeline() as pipeline:\n",
        "  input_data = (pipeline\n",
        "            | \"Read from text file\" >> beam.io.ReadFromText('dept_data.txt')\n",
        "            | \"Split rows\" >> beam.Map(SplitRow)\n",
        "          )\n",
        "\n",
        "  accounts_count = (input_data\n",
        "              | 'Get all Accounts dept persons' >> beam.Filter(lambda record: record[3] == 'Accounts')\n",
        "              | 'Pair each accounts employee with 1' >> beam.Map(lambda record: (\"Accounts, \" +record[1], 1))\n",
        "              | 'Group and sum1' >> beam.CombinePerKey(sum)\n",
        "              | 'count filter accounts' >> beam.Filter(filter_on_count)\n",
        "              | 'Regular accounts employee' >> beam.Map(format_output)\n",
        "              | 'Write results for account' >> beam.io.WriteToText('data/Account_quick')\n",
        "            )\n",
        "\n",
        "  hr_count =    (input_data\n",
        "              | 'Get all HR dept persons' >> beam.Filter(lambda record: record[3] == 'HR')\n",
        "              | 'Pair each HR employee with 1' >> beam.Map(lambda record: (\"HR, \" +record[1], 1))\n",
        "              | 'HR Group and sum1' >> beam.CombinePerKey(sum)\n",
        "              | 'HR count filter accounts' >> beam.Filter(filter_on_count)\n",
        "              | 'HR Regular accounts employee' >> beam.Map(format_output)\n",
        "              | 'Write results for HR' >> beam.io.WriteToText('data/HR_quick')\n",
        "            )\n",
        "\n",
        "  finance_count = (input_data\n",
        "              | 'Get all Finance dept persons' >> beam.Filter(lambda record: record[3] == 'Finance')\n",
        "              | 'Pair each finance employee with 1' >> beam.Map(lambda record: (\"Finance, \" +record[1], 1))\n",
        "              | 'Finance Group and sum11' >> beam.CombinePerKey(sum)\n",
        "              | 'Finance count filter accounts' >> beam.Filter(filter_on_count)\n",
        "              | 'Finance Regular accounts employee' >> beam.Map(format_output)\n",
        "              | 'Write results for finance' >> beam.io.WriteToText('data/Finance_quick')\n",
        "           )"
      ],
      "metadata": {
        "id": "2XiQC179nRoK"
      },
      "execution_count": 27,
      "outputs": []
    },
    {
      "cell_type": "code",
      "source": [
        "!{('head -n 10 data/Account_quick-00000-of-00001')}"
      ],
      "metadata": {
        "colab": {
          "base_uri": "https://localhost:8080/"
        },
        "id": "94jS_ai8q5Jk",
        "outputId": "8f878e02-6862-42de-9200-c6ecd6f92e2f"
      },
      "execution_count": 28,
      "outputs": [
        {
          "output_type": "stream",
          "name": "stdout",
          "text": [
            "(b'Accounts, Marco', '31', 'Experienced employee')\n",
            "(b'Accounts, Rebekah', '31', 'Experienced employee')\n",
            "(b'Accounts, Itoe', '31', 'Experienced employee')\n",
            "(b'Accounts, Edouard', '31', 'Experienced employee')\n",
            "(b'Accounts, Kyle', '62', 'Experienced employee')\n",
            "(b'Accounts, Kumiko', '31', 'Experienced employee')\n",
            "(b'Accounts, Gaston', '31', 'Experienced employee')\n"
          ]
        }
      ]
    },
    {
      "cell_type": "code",
      "source": [
        "!{('head -n 10 data/HR_quick-00000-of-00001')}"
      ],
      "metadata": {
        "id": "UzJjaFntA-ZK",
        "outputId": "535afe7d-c15d-43b2-a529-d37af47818fa",
        "colab": {
          "base_uri": "https://localhost:8080/"
        }
      },
      "execution_count": 29,
      "outputs": [
        {
          "output_type": "stream",
          "name": "stdout",
          "text": [
            "(b'HR, Beryl', '62', 'Experienced employee')\n",
            "(b'HR, Olga', '31', 'Experienced employee')\n",
            "(b'HR, Leslie', '31', 'Experienced employee')\n",
            "(b'HR, Mindy', '31', 'Experienced employee')\n",
            "(b'HR, Vicky', '31', 'Experienced employee')\n",
            "(b'HR, Richard', '31', 'Experienced employee')\n",
            "(b'HR, Kirk', '31', 'Experienced employee')\n",
            "(b'HR, Kaori', '31', 'Experienced employee')\n",
            "(b'HR, Oscar', '31', 'Experienced employee')\n"
          ]
        }
      ]
    },
    {
      "cell_type": "code",
      "source": [
        "!{('head -n 10 data/Finance_quick-00000-of-00001')}"
      ],
      "metadata": {
        "colab": {
          "base_uri": "https://localhost:8080/"
        },
        "id": "0qOq54lYq5Et",
        "outputId": "c7de4143-b4f8-462f-9cf5-a316a9bbdbfa"
      },
      "execution_count": 30,
      "outputs": [
        {
          "output_type": "stream",
          "name": "stdout",
          "text": [
            "(b'Finance, Kumiko', '31', 'Experienced employee')\n",
            "(b'Finance, Wendy', '31', 'Experienced employee')\n",
            "(b'Finance, Cristobal', '31', 'Experienced employee')\n",
            "(b'Finance, Erika', '31', 'Experienced employee')\n",
            "(b'Finance, Sebastien', '31', 'Experienced employee')\n",
            "(b'Finance, Valerie', '31', 'Experienced employee')\n",
            "(b'Finance, Dolly', '31', 'Experienced employee')\n",
            "(b'Finance, Emily', '31', 'Experienced employee')\n",
            "(b'Finance, Kaori', '31', 'Experienced employee')\n",
            "(b'Finance, Hitomi', '31', 'Experienced employee')\n"
          ]
        }
      ]
    },
    {
      "cell_type": "markdown",
      "source": [
        "## **Composite Transforms:**\n",
        "\n",
        "* Transforms can have a nested structure, where a complex transform performs multiple simpler transforms (such as more than one ParDo, Combine, GroupByKey, or even other composite transforms). These transforms are called composite transforms."
      ],
      "metadata": {
        "id": "iiglaav4pw2f"
      }
    },
    {
      "cell_type": "code",
      "source": [
        "class MyTransform(beam.PTransform):\n",
        "\n",
        "  def expand(self, input_coll):\n",
        "\n",
        "    a = (\n",
        "        input_coll\n",
        "        | 'Group and sum1' >> beam.CombinePerKey(sum)\n",
        "        | 'count filter accounts' >> beam.Filter(filter_on_count)\n",
        "        | 'Regular accounts employee' >> beam.Map(format_output)\n",
        "\n",
        "    )\n",
        "    return a"
      ],
      "metadata": {
        "id": "JoSxJMLbssGz"
      },
      "execution_count": 23,
      "outputs": []
    },
    {
      "cell_type": "code",
      "source": [
        "with beam.Pipeline() as p:\n",
        "  input_data = (p\n",
        "            | \"Read from text file\" >> beam.io.ReadFromText('dept_data.txt')\n",
        "            | \"Split rows\" >> beam.Map(SplitRow)\n",
        "          )\n",
        "\n",
        "  accounts_count = (\n",
        "              input_data\n",
        "              | 'Get all Accounts dept persons' >> beam.Filter(lambda record: record[3] == 'Accounts')\n",
        "              | 'Pair each accounts employee with 1' >> beam.Map(lambda record: (\"Accounts, \" +record[1], 1))\n",
        "              | 'composite accounts' >> MyTransform()\n",
        "              | 'Write results for account' >> beam.io.WriteToText('data/Account')\n",
        "            )\n",
        "\n",
        "  finance_count = (\n",
        "              input_data\n",
        "              | 'Get all Finance dept persons' >> beam.Filter(lambda record: record[3] == 'Finance')\n",
        "              | 'Pair each Finance employee with 1' >> beam.Map(lambda record: (\"Finance, \" +record[1], 1))\n",
        "              | 'composite Finance' >> MyTransform()\n",
        "              | 'Write results for Finance' >> beam.io.WriteToText('data/Finance')\n",
        "           )"
      ],
      "metadata": {
        "id": "E-zlsIjgj35e"
      },
      "execution_count": 24,
      "outputs": []
    },
    {
      "cell_type": "code",
      "source": [
        "!{('head -n 10 data/Account-00000-of-00001')}"
      ],
      "metadata": {
        "colab": {
          "base_uri": "https://localhost:8080/"
        },
        "id": "5BRc8SsZj3-s",
        "outputId": "0e06e593-f532-46bf-dbe2-02af27255570"
      },
      "execution_count": 25,
      "outputs": [
        {
          "output_type": "stream",
          "name": "stdout",
          "text": [
            "(b'Accounts, Marco', '31', 'Experienced employee')\n",
            "(b'Accounts, Rebekah', '31', 'Experienced employee')\n",
            "(b'Accounts, Itoe', '31', 'Experienced employee')\n",
            "(b'Accounts, Edouard', '31', 'Experienced employee')\n",
            "(b'Accounts, Kyle', '62', 'Experienced employee')\n",
            "(b'Accounts, Kumiko', '31', 'Experienced employee')\n",
            "(b'Accounts, Gaston', '31', 'Experienced employee')\n"
          ]
        }
      ]
    },
    {
      "cell_type": "code",
      "source": [
        "!{('head -n 10 data/Finance-00000-of-00001')}"
      ],
      "metadata": {
        "colab": {
          "base_uri": "https://localhost:8080/"
        },
        "id": "_G-iHSITj4Dh",
        "outputId": "ff7d7c7e-f7f0-4841-dd84-bd5a8421e09b"
      },
      "execution_count": 26,
      "outputs": [
        {
          "output_type": "stream",
          "name": "stdout",
          "text": [
            "(b'Finance, Kumiko', '31', 'Experienced employee')\n",
            "(b'Finance, Wendy', '31', 'Experienced employee')\n",
            "(b'Finance, Cristobal', '31', 'Experienced employee')\n",
            "(b'Finance, Erika', '31', 'Experienced employee')\n",
            "(b'Finance, Sebastien', '31', 'Experienced employee')\n",
            "(b'Finance, Valerie', '31', 'Experienced employee')\n",
            "(b'Finance, Dolly', '31', 'Experienced employee')\n",
            "(b'Finance, Emily', '31', 'Experienced employee')\n",
            "(b'Finance, Kaori', '31', 'Experienced employee')\n",
            "(b'Finance, Hitomi', '31', 'Experienced employee')\n"
          ]
        }
      ]
    }
  ]
}